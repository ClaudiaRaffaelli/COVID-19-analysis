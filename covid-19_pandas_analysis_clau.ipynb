{
 "cells": [
  {
   "cell_type": "code",
   "execution_count": null,
   "outputs": [],
   "source": [
    "!pip install matplotlib\n",
    "!pip install networkx\n",
    "!pip install pandas"
   ],
   "metadata": {
    "collapsed": false,
    "pycharm": {
     "name": "#%%\n"
    }
   }
  },
  {
   "cell_type": "code",
   "execution_count": null,
   "outputs": [],
   "source": [
    "import json\n",
    "import networkx as nx\n",
    "import matplotlib.pyplot as plt\n",
    "import pandas as pd\n",
    "import numpy as np"
   ],
   "metadata": {
    "collapsed": false,
    "pycharm": {
     "name": "#%%\n"
    }
   }
  },
  {
   "cell_type": "code",
   "execution_count": null,
   "outputs": [],
   "source": [
    "with open('./dati-json/dpc-covid19-ita-province.json') as f:\n",
    "    covid19_provinces_data = json.load(f)\n",
    "\n",
    "with open('./dati-json/dpc-covid19-ita-regioni.json') as f:\n",
    "    covid19_regions_data = json.load(f)"
   ],
   "metadata": {
    "collapsed": false,
    "pycharm": {
     "name": "#%%\n"
    }
   }
  },
  {
   "cell_type": "code",
   "execution_count": null,
   "outputs": [],
   "source": [
    "data = []\n",
    "for province in covid19_provinces_data:\n",
    "    province_denomination = province['sigla_provincia']\n",
    "    province_date = province['data']\n",
    "    # Es. ('FI', '2020-02-24T...', all data on that row)\n",
    "    # the first 2 values will be used as key\n",
    "    data.append([province_denomination, province_date, province.values()])\n",
    "\n",
    "# Sort according to the date\n",
    "data = sorted(data, key=lambda x: x[0])\n",
    "# Prepare data for the DataFrame\n",
    "index = []\n",
    "province_info = []\n",
    "for province in data:\n",
    "    index.append([province[0], province[1]]) # (Name, date)\n",
    "    province_info.append(province[2]) # (codice_regione, codice_provincia, ...)\n",
    "index = pd.MultiIndex.from_tuples(index) # Index ranking: 1° City's name, 2° date\n",
    "# Create finally the DataFrame\n",
    "dati = pd.DataFrame(province_info, index=index, columns=covid19_provinces_data[0].keys())\n",
    "# and drop some usless columns\n",
    "dati = dati.drop(columns=['denominazione_provincia', 'stato', 'codice_provincia', 'note_it', 'note_en', 'codice_regione'])\n",
    "dati"
   ],
   "metadata": {
    "collapsed": false,
    "pycharm": {
     "name": "#%%\n"
    }
   }
  },
  {
   "cell_type": "code",
   "execution_count": null,
   "outputs": [],
   "source": [
    "# group by \"sigla_provincia\" and sum all the values. Then drop 'lat' and 'long' columns and show\n",
    "# the top 15 provinces with the highest value on 'totale_casi'\n",
    "dati.groupby(['sigla_provincia']).sum().drop(columns=['lat', 'long']).nlargest(15, 'totale_casi').plot(kind=\"bar\")\n",
    "plt.title(\"Top 20 provinces with most cases\") # I don't know why this 'plt.title()' is working\n",
    "#but the others right below don't"
   ],
   "metadata": {
    "collapsed": false,
    "pycharm": {
     "name": "#%%\n"
    }
   }
  },
  {
   "cell_type": "code",
   "execution_count": null,
   "outputs": [],
   "source": [
    "# Get the provinces name (Sigle)\n",
    "provinces = dati.sigla_provincia.unique()\n",
    "# Create a DataFrame with total cases per month for each province\n",
    "cases_per_month = {}\n",
    "\n",
    "for province in provinces:\n",
    "    province_info = dati.loc[province]\n",
    "    # The 'groupby(province_info.data.str[:7]' is used to group the rows according to the month\n",
    "    # The [:7] is used to slice the first t letters of the 'data' column\n",
    "    # 2020-05-15T17:00:00 ---> 2020-05\n",
    "    # And finally sum the 'totale_casi' values grouped by month for each province\n",
    "    cases_per_month[province] = pd.Series(province_info.groupby(province_info.data.str[:7])['totale_casi'].sum())\n",
    "\n",
    "# Create the DataFrame using the Series defined in the for loop\n",
    "cpm = pd.DataFrame(cases_per_month)\n",
    "cpm.index.name = \"\" # Works fine even without this line, but there was an empty line that was bothering me\n",
    "cpm = cpm.T # For a better view\n",
    "cpm"
   ],
   "metadata": {
    "collapsed": false,
    "pycharm": {
     "name": "#%%\n"
    }
   }
  },
  {
   "cell_type": "code",
   "execution_count": null,
   "outputs": [],
   "source": [
    "grid_size = (2,2) # For the 4 month considered\n",
    "colors = ['g', 'r', 'b', 'y']\n",
    "fig, axes = plt.subplots(nrows=grid_size[0], ncols=grid_size[1], sharey=True, figsize=(10,10))\n",
    "cities_with_worst_cases = [] # Store the name of the cities with the worst cases\n",
    "\n",
    "month = 0\n",
    "for i in range(grid_size[0]):\n",
    "    for j in range(grid_size[1]):\n",
    "        # Cities twith the worst cases in the current month\n",
    "        worst_cases = cpm.nlargest(5, cpm.columns[month])[cpm.columns[month]]\n",
    "        worst_cases.plot(ax=axes[i,j], kind='bar', legend=False, color=colors[month])\n",
    "        axes[i, j].set_title('Number of cases in '+cpm.columns[month]) # Doesn't work\n",
    "        cities_with_worst_cases.append(worst_cases)\n",
    "        month += 1\n",
    "\n",
    "fig.tight_layout()\n",
    "fig.subplots_adjust(bottom=0.1)\n",
    "fig.legend(labels=cpm.columns, loc=\"lower center\", ncol=4)"
   ],
   "metadata": {
    "collapsed": false,
    "pycharm": {
     "name": "#%%\n"
    }
   }
  },
  {
   "cell_type": "code",
   "execution_count": null,
   "outputs": [],
   "source": [
    "# Create a set of the cities with the worst case\n",
    "interested_city = list(set([item for sublist in [list(city.index) for city in cities_with_worst_cases] for item in sublist]))\n",
    "\n",
    "\n",
    "# Collect information about these cities day by day\n",
    "for i in range(len(interested_city)):\n",
    "    case_per_day = dati.loc[interested_city[i]]['totale_casi']\n",
    "    plt.plot(list(range(len(case_per_day))), case_per_day, label=interested_city[i])\n",
    "\n",
    "plt.ylabel =\"number of cases\"\n",
    "plt.plot((15, 15), (0, 10000), 'r-')\n",
    "plt.text(15, 11000, \"Lockdown\", color=\"r\")\n",
    "plt.plot((75, 75), (0, 22000), 'r-')\n",
    "plt.text(57, 16000, \"End Lockdown\", color=\"r\")\n",
    "plt.tight_layout()\n",
    "plt.legend()\n"
   ],
   "metadata": {
    "collapsed": false,
    "pycharm": {
     "name": "#%%\n"
    }
   }
  },
  {
   "cell_type": "code",
   "execution_count": null,
   "outputs": [],
   "source": [
    "covid19_provinces_data"
   ],
   "metadata": {
    "collapsed": false,
    "pycharm": {
     "name": "#%%\n"
    }
   }
  },
  {
   "cell_type": "code",
   "execution_count": null,
   "outputs": [],
   "source": [
    "# For tomorrow maybe\n",
    "\n",
    "dataframe_data = {}\n",
    "for region in covid19_regions_data:\n",
    "    region_denomination = region['denominazione_regione']\n",
    "    regions_data = pd.Series(region)\n",
    "    dataframe_data[region_denomination] = regions_data\n",
    "regions_data_frame = pd.DataFrame(dataframe_data).T\n",
    "regions_data_frame.drop(columns=['data', 'denominazione_regione', 'stato', 'note_it', 'note_en'])"
   ],
   "metadata": {
    "collapsed": false,
    "pycharm": {
     "name": "#%%\n"
    }
   }
  },
  {
   "cell_type": "code",
   "execution_count": null,
   "outputs": [],
   "source": [
    "covid19_regions_data"
   ],
   "metadata": {
    "collapsed": false,
    "pycharm": {
     "name": "#%%\n"
    }
   }
  },
  {
   "cell_type": "code",
   "execution_count": null,
   "outputs": [],
   "source": [
    "# CLAU da qui in giù\n",
    "# showing clean province data\n",
    "province_data = pd.DataFrame(covid19_provinces_data)\n",
    "#province.set_index('data', 'denominazione_provincia')\n",
    "# not showing the \"denominazione_provincia\"s in updating phase and not useful columns\n",
    "refined_province_data = province_data[province_data.denominazione_provincia!= \"In fase di definizione/aggiornamento\"].drop(columns=[\"long\", \"lat\", \"note_it\", \"note_en\", \"codice_provincia\", \"codice_regione\", \"stato\"])\n",
    "refined_province_data.head()\n"
   ],
   "metadata": {
    "collapsed": false,
    "pycharm": {
     "name": "#%%\n"
    }
   }
  },
  {
   "cell_type": "code",
   "execution_count": null,
   "outputs": [],
   "source": [
    "# setting as index \"data\" for province_data\n",
    "refined_province_data_by_data = refined_province_data.set_index(\"data\")\n",
    "refined_province_data_by_data.head()"
   ],
   "metadata": {
    "collapsed": false,
    "pycharm": {
     "name": "#%%\n"
    }
   }
  },
  {
   "cell_type": "code",
   "execution_count": null,
   "outputs": [],
   "source": [
    "# setting as index \"denominazione_provincia\" for province_data\n",
    "refined_province_data_by_province = refined_province_data.set_index(\"denominazione_provincia\")\n",
    "refined_province_data_by_province.head()"
   ],
   "metadata": {
    "collapsed": false,
    "pycharm": {
     "name": "#%%\n"
    }
   }
  },
  {
   "cell_type": "code",
   "execution_count": null,
   "outputs": [],
   "source": [
    "# setting as index \"data\" and \"denominazione_provincia\"\n",
    "refined_province_data_by_data_and_province = refined_province_data.set_index([\"data\", \"denominazione_provincia\"])\n",
    "refined_province_data_by_data_and_province.head()"
   ],
   "metadata": {
    "collapsed": false,
    "pycharm": {
     "name": "#%%\n"
    }
   }
  },
  {
   "cell_type": "code",
   "execution_count": null,
   "outputs": [],
   "source": [
    "# Grouping on data in order to see how many cases there are day by day\n",
    "# (Nota: raggruppare per regione per far vedere quanti casi ci sono ad una certa data è inutile, dato che abbiamo\n",
    "#   questo dato già nel file delle regioni\n",
    "\n",
    "total_cases_by_date = refined_province_data_by_data_and_province.groupby(['data']).sum()\n",
    "total_cases_by_date.head()"
   ],
   "metadata": {
    "collapsed": false,
    "pycharm": {
     "name": "#%%\n"
    }
   }
  },
  {
   "cell_type": "code",
   "execution_count": null,
   "outputs": [],
   "source": [
    "total_cases_by_date.tail()"
   ],
   "metadata": {
    "collapsed": false,
    "pycharm": {
     "name": "#%%\n"
    }
   }
  },
  {
   "cell_type": "code",
   "execution_count": null,
   "outputs": [],
   "source": [
    "# plotting a graph showing day by day the number of total cases in Italy\n",
    "ax = total_cases_by_date.plot(lw=2, title=\"Total cases in Italy by date\", kind=\"bar\")\n",
    "\n",
    "ax.set_xlabel(\"date\")\n",
    "\n",
    "# sampling the dates on the ticks labels (printing a date label every 5 days)\n",
    "# TODO magari formattare le date in modo che appaiano più leggibili, magari taglianod i minuti e secondi e lasciando\n",
    "# solo giorno mese anno\n",
    "xticks = ax.xaxis.get_major_ticks()\n",
    "for i in range(len(xticks)):\n",
    "    if i % 5 != 0:\n",
    "        xticks[i].set_visible(False)\n",
    "\n",
    "# set font and rotation for date tick labels\n",
    "plt.gcf().autofmt_xdate()\n"
   ],
   "metadata": {
    "collapsed": false,
    "pycharm": {
     "name": "#%%\n"
    }
   }
  },
  {
   "cell_type": "code",
   "execution_count": null,
   "outputs": [],
   "source": [
    "# showing the average number of cases(in each province) day by day (da vedere se tenere oppure no, il grafico viene\n",
    "#  della stessa forma di questo sopra)\n",
    "average_number_cases_by_date = refined_province_data_by_data_and_province.groupby(['data']).mean()\n",
    "average_number_cases_by_date.head()"
   ],
   "metadata": {
    "collapsed": false,
    "pycharm": {
     "name": "#%%\n"
    }
   }
  },
  {
   "cell_type": "code",
   "execution_count": null,
   "outputs": [],
   "source": [
    "# group by \"sigla_provincia\" and sum all the values. Showing the top 15 provinces with the highest value on\n",
    "# 'totale_casi'\n",
    "refined_province_data.groupby(['sigla_provincia']).sum().nlargest(15, 'totale_casi').plot(kind=\"bar\")\n",
    "plt.title(\"Top 20 provinces with most cases\")"
   ],
   "metadata": {
    "collapsed": false,
    "pycharm": {
     "name": "#%%\n"
    }
   }
  },
  {
   "cell_type": "code",
   "execution_count": null,
   "outputs": [],
   "source": [],
   "metadata": {
    "collapsed": false,
    "pycharm": {
     "name": "#%%\n"
    }
   }
  },
  {
   "cell_type": "code",
   "execution_count": null,
   "outputs": [],
   "source": [],
   "metadata": {
    "collapsed": false,
    "pycharm": {
     "name": "#%%\n"
    }
   }
  }
 ],
 "metadata": {
  "kernelspec": {
   "display_name": "Python 3",
   "language": "python",
   "name": "python3"
  },
  "language_info": {
   "codemirror_mode": {
    "name": "ipython",
    "version": 3
   },
   "file_extension": ".py",
   "mimetype": "text/x-python",
   "name": "python",
   "nbconvert_exporter": "python",
   "pygments_lexer": "ipython3",
   "version": "3.7.3"
  }
 },
 "nbformat": 4,
 "nbformat_minor": 1
}