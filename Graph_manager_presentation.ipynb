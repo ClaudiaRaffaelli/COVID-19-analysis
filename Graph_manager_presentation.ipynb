{
 "cells": [
  {
   "cell_type": "markdown",
   "metadata": {
    "slideshow": {
     "slide_type": "slide"
    }
   },
   "source": [
    "# Centrality\n",
    "\n",
    "In network analysis, indicators of **centrality** identify the most important vertices within a graph.\n",
    "\n",
    "Applications:\n",
    "\n",
    "- Identifying the most influential person(s) in a social network\n",
    "  \n",
    "- Key infrastructure nodes in the Internet\n",
    "  \n",
    "- Super-spreaders of disease."
   ]
  },
  {
   "cell_type": "markdown",
   "metadata": {
    "slideshow": {
     "slide_type": "subslide"
    }
   },
   "source": [
    "# Betweenness Centrality\n",
    "\n",
    "<b>Betweenness centrality</b>, in Grapgh Theory, is a measure of centrality in a graph based on shortest paths. Vertices with high betweenness may have considerable influence within a network by virtue of their control over information passing between others. They are also the ones whose removal from the network will most disrupt communications between other vertices because they lie on the largest number of paths taken by messages."
   ]
  },
  {
   "cell_type": "markdown",
   "metadata": {
    "slideshow": {
     "slide_type": "fragment"
    }
   },
   "source": [
    "It was introduced as a measure for quantifying the control of a human on\n",
    "the communication between other humans in a social network by **Linton Freeman**. \n",
    "In his conception, vertices that have a high probability to occur on a randomly chosen **shortest path** \n",
    "between two randomly chosen vertices have a high betweenness."
   ]
  },
  {
   "cell_type": "markdown",
   "metadata": {
    "slideshow": {
     "slide_type": "subslide"
    }
   },
   "source": [
    "The betweenness of a vertex $v$ in a graph $G := ( V , E ) $ with $V$ vertices is computed as follows:\n",
    "\n",
    "1. For each pair of vertices $(s,t)$, compute the shortest paths between them.\n",
    "  \n",
    "2. For each pair of vertices $(s,t)$, determine the number of shortest paths that pass through the vertex in question (here, vertex $v$).\n",
    "  \n",
    "3. Sum this fraction over all pairs of vertices $(s,t)$."
   ]
  },
  {
   "cell_type": "markdown",
   "metadata": {
    "slideshow": {
     "slide_type": "fragment"
    }
   },
   "source": [
    "More compactly the betweenness can be represented as:\n",
    "\n",
    "$\\sum_{s\\neq v\\neq t \\in V} \\frac{\\sigma_{st}(v)}{\\sigma_{st}}$\n",
    "\n",
    "where $\\sigma_{st}$ is total number of shortest paths from node $s$ to node $t$ and $\\sigma_{st}(v)$ is the number of those paths that pass through $v$."
   ]
  }
 ],
 "metadata": {
  "celltoolbar": "Slideshow",
  "kernelspec": {
   "display_name": "Python 3",
   "language": "python",
   "name": "python3"
  },
  "language_info": {
   "codemirror_mode": {
    "name": "ipython",
    "version": 3
   },
   "file_extension": ".py",
   "mimetype": "text/x-python",
   "name": "python",
   "nbconvert_exporter": "python",
   "pygments_lexer": "ipython3",
   "version": "3.8.2"
  }
 },
 "nbformat": 4,
 "nbformat_minor": 4
}
