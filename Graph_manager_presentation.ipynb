{
 "cells": [
  {
   "cell_type": "code",
   "execution_count": 1,
   "metadata": {
    "slideshow": {
     "slide_type": "notes"
    }
   },
   "outputs": [
    {
     "name": "stdout",
     "output_type": "stream",
     "text": [
      "Requirement already satisfied: pygraphviz in /home/abdullah/.local/lib/python3.8/site-packages (1.5)\n",
      "Note: you may need to restart the kernel to use updated packages.\n"
     ]
    }
   ],
   "source": [
    "pip install pygraphviz"
   ]
  },
  {
   "cell_type": "code",
   "execution_count": 45,
   "metadata": {
    "slideshow": {
     "slide_type": "notes"
    }
   },
   "outputs": [],
   "source": [
    "import networkx as nx\n",
    "import json\n",
    "import math\n",
    "import random\n",
    "import time\n",
    "from collections import deque\n",
    "import matplotlib.pyplot as plt\n",
    "\n",
    "\n",
    "class GraphManager:\n",
    "    \"\"\"\n",
    "    This is a class used to create, manage, draw and process some properties of graphs and, in particular, of its nodes\n",
    "    like: shortest path and betweenness of each node\n",
    "    \"\"\"\n",
    "    graph = None\n",
    "\n",
    "    def __init__(self):\n",
    "        \"\"\" The constructor for GraphManager class. It initializes a NetworkX Graph object \"\"\"\n",
    "        # creating a graph\n",
    "        self.graph = nx.Graph()\n",
    "\n",
    "    def add_node_to_graph(self, city_name, position_x, position_y):\n",
    "        \"\"\"\n",
    "        Utility for add_edges method\n",
    "\n",
    "        Parameters\n",
    "        -----------\n",
    "        city_name: string\n",
    "        city's name which identifies the node\n",
    "        position_x: float\n",
    "        it's an attribute of the node which represents the longitude of the city\n",
    "        position_y: float\n",
    "        it's an attribute of the node which represents the latitude of the city\n",
    "\n",
    "        \"\"\"\n",
    "        self.graph.add_node(city_name, x=position_x, y=position_y)\n",
    "\n",
    "    def add_edges(self):\n",
    "        \"\"\"\n",
    "        Utility that adds edges to the graph. Two nodes a and b are connected by an edge if the following holds:\n",
    "        if x,y is the position of a, then b is in position z,w with z in [x-d,x+d] and w in [y-d, y+d], with d=0.8.\n",
    "        \"\"\"\n",
    "\n",
    "        d = 0.8\n",
    "        # Creating a dictionary with key the node name and value\n",
    "        nodes = {key: value for (key, value) in self.graph.nodes(data=True)}\n",
    "\n",
    "        # Sorting the dictionary by value 'x'\n",
    "        nodes_sorted_by_x = [(k, nodes[k]) for k in sorted(nodes, key=lambda x: nodes[x]['x'], reverse=False)]\n",
    "        i = 0\n",
    "        j = 1\n",
    "        # Iterating over the list of nodes ordered by x\n",
    "        while i < len(nodes_sorted_by_x) - 1:\n",
    "            # if the nodes indexed by i and j are close enough relatively to x and y, then we add an edge. For the x\n",
    "            # coordinate there's no need to check if the node i is smaller then the node j, since it is obvious from the\n",
    "            # ordering\n",
    "            if float(nodes_sorted_by_x[j][1]['x']) <= float(nodes_sorted_by_x[i][1]['x']) + d:\n",
    "                if float(nodes_sorted_by_x[i][1]['y']) - d <= float(nodes_sorted_by_x[j][1]['y']) <= float(nodes_sorted_by_x[i][1]['y']) + d:\n",
    "\n",
    "                    #  Euclidean distance\n",
    "                    distance_long = (float(nodes_sorted_by_x[i][1]['x']) - float(nodes_sorted_by_x[j][1]['x'])) ** 2\n",
    "                    distance_lat = (float(nodes_sorted_by_x[i][1]['y']) - float(nodes_sorted_by_x[j][1]['y'])) ** 2\n",
    "                    distance = math.sqrt(distance_long + distance_lat)\n",
    "\n",
    "                    self.graph.add_edge(nodes_sorted_by_x[i][0], nodes_sorted_by_x[j][0],\n",
    "                    label=float(self.truncate(distance, 2)))\n",
    "\n",
    "                # if the nodes indexed by i and j were close only relatively to x, since the list is not ordered by\n",
    "                # the y values we just increment j in order to compare the node i with the next one. Otherwise, after\n",
    "                # the adding of the edge we still increment j to continue the comparison\n",
    "                j += 1\n",
    "                # if j goes out of range there are no more nodes to compare the node indexed by i to\n",
    "                if j >= len(nodes_sorted_by_x):\n",
    "                    i += 1\n",
    "                    j = i + 1\n",
    "            # if the node indexed by i and the node indexed by j are not close enough relatively to x, then there is no\n",
    "            # point in checking the node i with the next one (j+1).\n",
    "            else:\n",
    "                i += 1\n",
    "                j = i + 1\n",
    "\n",
    "    def plot_graph(self, graph_name):\n",
    "        \"\"\"\n",
    "        Utility function used to draw the graph and save it as a .png file\n",
    "\n",
    "        Parameters\n",
    "        ----------\n",
    "        graph_name: string\n",
    "        string used as the name of the .png file which will be stored in the imgs subdirectory\n",
    "\n",
    "        \"\"\"\n",
    "        # print(\"Nodes in the graph:\")\n",
    "        # print(list(self.graph.nodes(data=True)))\n",
    "\n",
    "        # plotting the graph\n",
    "        graph_to_be_plotted = nx.nx_agraph.to_agraph(self.graph)\n",
    "        graph_to_be_plotted.layout('dot', args='-Nwidth=\".2\" -Nheight=\".2\" -Nmargin=0 -Gfontsize=8')\n",
    "        graph_to_be_plotted.draw('./imgs/' + graph_name + '.png')\n",
    "\n",
    "    def truncate(self, f, n):\n",
    "        \"\"\"\n",
    "        Truncates/pads a float f to n decimal places without rounding\n",
    "\n",
    "        Parameters\n",
    "        ----------\n",
    "        f: float\n",
    "        float to be truncated\n",
    "        n: int\n",
    "        decimal places required for truncating\n",
    "\n",
    "        Returns\n",
    "        -------\n",
    "        _: float\n",
    "        a truncated number\n",
    "        \"\"\"\n",
    "        s = '%.12f' % f\n",
    "        i, p, d = s.partition('.')\n",
    "        return '.'.join([i, (d + '0' * n)[:n]])\n",
    "\n",
    "    def betweenness_centrality(self):\n",
    "        \"\"\"\n",
    "        Finds the betweenness value for each node in the graph\n",
    "\n",
    "        Returns\n",
    "        -------\n",
    "        BC: dictionary\n",
    "        a dictionary that has the names of the nodes as keys and each node contains its value of betweenness\n",
    "\n",
    "        Notes\n",
    "        -----\n",
    "        We assume there is only one shortest path between two nodes\n",
    "\n",
    "        \"\"\"\n",
    "        nodes = list(self.graph.nodes(data=True))\n",
    "        shortest_paths = []  # Store all the shortest path between each pair of nodes in the graph\n",
    "        for i in range(len(nodes)):\n",
    "            try:  # there may not be a path between two nodes\n",
    "                paths_lists = self.bellman_ford_shortest_path(nodes[i][0])\n",
    "                for p in paths_lists:\n",
    "                    shortest_paths.append(p)\n",
    "            except:\n",
    "                pass\n",
    "\n",
    "        # Store the Betweenness Centrality for each node. For now, we suppose there is only 1 shortest path\n",
    "        # between 2 nodes\n",
    "        BC = {}\n",
    "        for target_node in range(len(nodes)):\n",
    "            sum_ous = 0\n",
    "            for path in shortest_paths:\n",
    "                if path[0] != nodes[target_node][0] and path[-1] != nodes[target_node][0] and nodes[target_node][0] in path:\n",
    "                    sum_ous += 1\n",
    "            BC[nodes[target_node][0]] = (sum_ous)/((len(nodes)-1)*(len(nodes)-2))\n",
    "        return BC\n",
    "\n",
    "    def bellman_ford(self, source_vertex):\n",
    "        \"\"\"Finds the shortest path from source vertex to all the others in the graph.\n",
    "\n",
    "        Utility for bellman_ford_shortest_path method.\n",
    "\n",
    "        Parameters\n",
    "        ----------\n",
    "        source_vertex : node label\n",
    "        Starting node for the path\n",
    "\n",
    "        Returns\n",
    "        -------\n",
    "        distances, predecessors: dictionaries\n",
    "        pair of dictionaries. distances takes as key a node_name, and as value the distance,\n",
    "        in terms of weight from source node to the current node_name. predecessors has as key a node_name, and as value\n",
    "        the predecessor node in the shortest path from source node to the current node_name\n",
    "\n",
    "        Raises\n",
    "        ------\n",
    "        ValueError\n",
    "        If the graph contains a negative-weight cycle\n",
    "\n",
    "        Notes\n",
    "        -----\n",
    "        Distances are calculated as sums of weighted edges traversed.\n",
    "        \"\"\"\n",
    "\n",
    "        vertices = list(self.graph.nodes())\n",
    "\n",
    "        # Initialization of the graph\n",
    "        distances = dict.fromkeys(self.graph.nodes(), math.inf)\n",
    "        predecessors = dict.fromkeys(self.graph.nodes(), None)\n",
    "\n",
    "        # setting the distance from the source vertex and itself to 0\n",
    "        distances[source_vertex] = 0\n",
    "\n",
    "        # relax edges\n",
    "        count = len(vertices) - 1\n",
    "        while count > 0:\n",
    "            something_has_changed = False\n",
    "            for (u, v) in self.graph.edges():\n",
    "                # because the Bellman Ford algorithm works with digraphs we have to consider both the symmetric edges\n",
    "                # in the form (u, v) and (v, u)\n",
    "                if distances[u] + float(self.graph[u][v]['label']) < distances[v]:\n",
    "                    distances[v] = distances[u] + float(self.graph[u][v]['label'])\n",
    "                    predecessors[v] = u\n",
    "                    something_has_changed = True\n",
    "                if distances[v] + float(self.graph[v][u]['label']) < distances[u]:\n",
    "                    distances[u] = distances[v] + float(self.graph[v][u]['label'])\n",
    "                    predecessors[u] = v\n",
    "                    something_has_changed = True\n",
    "\n",
    "            # early termination if running through each edge nothing has changed in the previous loop\n",
    "            if something_has_changed is False:\n",
    "                break\n",
    "            count -= 1\n",
    "\n",
    "        return distances, predecessors\n",
    "\n",
    "    def bellman_ford_SPFA(self, source_vertex):\n",
    "        \"\"\"Finds the shortest path from source vertex to all the others in the graph implementing the optimized version\n",
    "        of Bellman Ford algorithm: Shortest Path First Algorithm (SPFA).\n",
    "\n",
    "        Utility for bellman_ford_shortest_path method.\n",
    "\n",
    "        Parameters\n",
    "        ----------\n",
    "        source_vertex : node label\n",
    "        Starting node for the path\n",
    "\n",
    "        Returns\n",
    "        -------\n",
    "        distances, predecessors: dictionaries\n",
    "        pair of dictionaries. distances takes as key a node_name, and as value the distance,\n",
    "        in terms of weight from source node to the current node_name. predecessors has as key a node_name, and as value\n",
    "        the predecessor node in the shortest path from source node to the current node_name\n",
    "\n",
    "        Notes\n",
    "        -----\n",
    "        Distances are calculated as sums of weighted edges traversed.\n",
    "        \"\"\"\n",
    "        # Initialization of the graph\n",
    "        distances = dict.fromkeys(self.graph.nodes(), math.inf)\n",
    "        already_in_queue = dict.fromkeys(self.graph.nodes(), False)\n",
    "        predecessors = dict.fromkeys(self.graph.nodes(), math.inf)\n",
    "\n",
    "        # setting the distance from the source vertex and itself to 0\n",
    "        distances[source_vertex] = 0\n",
    "        q = deque()\n",
    "        q.append(source_vertex)\n",
    "        already_in_queue[source_vertex] = True\n",
    "\n",
    "        while len(q) > 0:\n",
    "            u = q.popleft()\n",
    "\n",
    "            for (u, v) in self.graph.edges(u):\n",
    "                if distances[u] + float(self.graph[u][v]['label']) < distances[v]:\n",
    "                    distances[v] = distances[u] + float(self.graph[u][v]['label'])\n",
    "                    if not already_in_queue[v]:\n",
    "                        q.append(v)\n",
    "                        already_in_queue[v] = True\n",
    "                    predecessors[v] = u\n",
    "\n",
    "                if distances[v] + float(self.graph[v][u]['label']) < distances[u]:\n",
    "                    distances[u] = distances[v] + float(self.graph[v][u]['label'])\n",
    "                    if not already_in_queue[u]:\n",
    "                        q.append(u)\n",
    "                        already_in_queue[u] = True\n",
    "                    predecessors[u] = v\n",
    "\n",
    "        return distances, predecessors\n",
    "\n",
    "    def bellman_ford_shortest_path(self, source_vertex):\n",
    "        \"\"\"Finds all the shortest paths from source vertex to all the nodes in a weighted graph G in terms of a list of\n",
    "        lists of nodes. Uses bellman_ford method or the optimized version bellman_ford_SPFA.\n",
    "\n",
    "        Parameters\n",
    "        ----------\n",
    "        source_vertex : node label\n",
    "        Starting node for the path\n",
    "\n",
    "        Returns\n",
    "        -------\n",
    "        all__shortest_path: list of list\n",
    "        list of list of nodes indicating the shortest path from source_vertex to all the other vertex in the graph\n",
    "        Raises\n",
    "        ------\n",
    "        ValueError\n",
    "        If there is no path between the starting node and target node\n",
    "\n",
    "        Notes\n",
    "        -----\n",
    "        Each shortest path returned is provided in the reverse order, that is, source_vertex is the last element\n",
    "        of the list.\n",
    "        \"\"\"\n",
    "\n",
    "        distances, predecessors = self.bellman_ford_SPFA(source_vertex)\n",
    "\n",
    "        all__shortest_paths = []\n",
    "        nodes = list(self.graph.nodes(data=True))\n",
    "        for target_vertex in nodes:\n",
    "            target_vertex = target_vertex[0]\n",
    "            if predecessors[target_vertex] == math.inf:\n",
    "                continue\n",
    "            # using the predecessors of each node to build the shortest path\n",
    "            shortest_path = []\n",
    "            current_node = target_vertex\n",
    "            shortest_path.append(target_vertex)\n",
    "            while current_node != source_vertex:\n",
    "                current_node = predecessors[current_node]\n",
    "                # raising an exception if there is not path between the two nodes considered\n",
    "                if current_node is None:\n",
    "                    raise ValueError(\"There is no path between node \" + target_vertex + \" and node \" + source_vertex)\n",
    "\n",
    "                shortest_path.append(current_node)\n",
    "            all__shortest_paths.append(shortest_path)\n",
    "        return all__shortest_paths\n"
   ]
  },
  {
   "cell_type": "code",
   "execution_count": 46,
   "metadata": {
    "slideshow": {
     "slide_type": "notes"
    }
   },
   "outputs": [],
   "source": [
    "with open(\"./dati-json/dpc-covid19-ita-province.json\") as f:\n",
    "    parsed_file = json.load(f)\n",
    "\n",
    "# Building the graph of provinces\n",
    "provinces_already_annotated = []\n",
    "P = GraphManager()\n",
    "for province_data in parsed_file[75:85]:\n",
    "    # extracting information from the JSON\n",
    "    if province_data['sigla_provincia'] != '' and province_data[\n",
    "        'sigla_provincia'] not in provinces_already_annotated:\n",
    "        provinces_already_annotated.append(province_data['sigla_provincia'])\n",
    "        province = province_data['denominazione_provincia']\n",
    "        position_x = province_data['long']\n",
    "        position_y = province_data['lat']\n",
    "        # adding each province to the graph\n",
    "        P.add_node_to_graph(province, position_x, position_y)\n",
    "\n",
    "# Building the graph of doubles\n",
    "R = GraphManager()\n",
    "# Generate 2000 pairs of double (x,y)\n",
    "for i in range(2000):\n",
    "    x = random.randrange(30, 50)\n",
    "    y = random.randrange(10, 20)\n",
    "    R.add_node_to_graph(str(i), x, y)"
   ]
  },
  {
   "cell_type": "code",
   "execution_count": 47,
   "metadata": {
    "slideshow": {
     "slide_type": "notes"
    }
   },
   "outputs": [
    {
     "name": "stdout",
     "output_type": "stream",
     "text": [
      "53.4 µs ± 1.34 µs per loop (mean ± std. dev. of 7 runs, 10000 loops each)\n",
      "140 ms ± 27.6 ms per loop (mean ± std. dev. of 7 runs, 10 loops each)\n"
     ]
    }
   ],
   "source": [
    "# Inserting the edges according to the distance between each node\n",
    "%timeit P.add_edges()\n",
    "%timeit R.add_edges()\n",
    "#P.plot_graph('province')"
   ]
  },
  {
   "cell_type": "markdown",
   "metadata": {
    "slideshow": {
     "slide_type": "slide"
    }
   },
   "source": [
    "\n",
    "# Centrality \n",
    "\n",
    "In network analysis, indicators of **centrality** identify the most important vertices within a graph.\n",
    "![title](./imgs/important_node.png)\n",
    "Applications:\n",
    "- Identifying the most influential person(s) in a social network\n",
    "  \n",
    "- Key infrastructure nodes in the Internet\n",
    "  \n",
    "- Super-spreaders of disease."
   ]
  },
  {
   "cell_type": "markdown",
   "metadata": {
    "slideshow": {
     "slide_type": "subslide"
    }
   },
   "source": [
    "# Betweenness Centrality\n",
    "\n",
    "Betweenness centrality, in Grapgh Theory, is a measure of centrality in a graph based on shortest paths. Vertices with high betweenness may have considerable influence within a network by virtue of their control over information passing between others. They are also the ones whose removal from the network will most disrupt communications between other vertices because they lie on the largest number of paths taken by messages."
   ]
  },
  {
   "cell_type": "markdown",
   "metadata": {
    "slideshow": {
     "slide_type": "fragment"
    }
   },
   "source": [
    "### First intution\n",
    "Betweenness centrality was introduced as a measure for quantifying the control of a human on\n",
    "the communication between other humans in a social network by **Linton Freeman**. \n",
    "In his conception, vertices that have a high probability to occur on a randomly chosen **shortest path** \n",
    "between two randomly chosen vertices have a high betweenness."
   ]
  },
  {
   "cell_type": "markdown",
   "metadata": {
    "slideshow": {
     "slide_type": "subslide"
    }
   },
   "source": [
    "# Mathematical definition\n",
    "The betweenness of a vertex $v$ in a graph $G := ( V , E ) $ with $V$ vertices is computed as follows:\n",
    "1. For each pair of vertices $(s,t)$, compute the shortest paths between them.\n",
    "\n",
    "2. For each pair of vertices $(s,t)$, determine the number of shortest paths that pass through the vertex in question (here, vertex $v$).\n",
    "\n",
    "3. Sum this fraction over all pairs of vertices $(s,t)$."
   ]
  },
  {
   "cell_type": "markdown",
   "metadata": {
    "slideshow": {
     "slide_type": "fragment"
    }
   },
   "source": [
    "More compactly the betweenness can be represented as:\n",
    "\n",
    "*$g(v) =\\sum\\limits_{s\\neq v\\neq t \\in V} \\frac{\\sigma_{st}(v)}{\\sigma_{st}}$*\n",
    "\n",
    "\n",
    "where **$\\sigma_{st}$** is total number of shortest paths from node $s$ to node $t$ and **$\\sigma_{st}(v)$** is the number of those paths that pass through $v$."
   ]
  },
  {
   "cell_type": "markdown",
   "metadata": {
    "slideshow": {
     "slide_type": "subslide"
    }
   },
   "source": [
    "### A handy benefit to betwenness centrality \n",
    "You don't need a fully connected graph or component to calculate it\n",
    "![title](./imgs/component.png)"
   ]
  },
  {
   "cell_type": "code",
   "execution_count": 48,
   "metadata": {},
   "outputs": [
    {
     "name": "stdout",
     "output_type": "stream",
     "text": [
      "{'Torino': 0.0, 'Verbano-Cusio-Ossola': 0.0, 'Vercelli': 0.03571428571428571, 'Bari': 0.21428571428571427, 'Barletta-Andria-Trani': 0.14285714285714285, 'Brindisi': 0.14285714285714285, 'Foggia': 0.0, 'Lecce': 0.0, 'Taranto': 0.21428571428571427}\n"
     ]
    }
   ],
   "source": [
    "print(P.betweenness_centrality())"
   ]
  },
  {
   "cell_type": "markdown",
   "metadata": {
    "slideshow": {
     "slide_type": "subslide"
    }
   },
   "source": [
    "## Some common algorithms\n",
    "\n",
    "Calculating the betweenness centrality of all the vertices in a graph involves calculating the shortest paths between all pairs of vertices on a graph, which takes:\n",
    "* $Θ(|V|^3)$ for weighted graphs *([Floyd–Warshall algorithm](https://en.wikipedia.org/wiki/Floyd%E2%80%93Warshall_algorithm))*. \n",
    "* $O(|V||E|)$ for unweighted graphs *([Brandes' algorithm](https://web.archive.org/web/20171013152036/http://algo.uni-konstanz.de/publications/b-fabc-01.pdf))*."
   ]
  },
  {
   "cell_type": "markdown",
   "metadata": {
    "slideshow": {
     "slide_type": "subslide"
    }
   },
   "source": [
    "# Our implementation\n",
    "\n",
    "Here is a snippet of our implementation, we used *Bellman-Ford's alghoritm* to find the shortest paths from a source node $i$ to $v$, with $v \\in V$\n",
    "```python\n",
    "def betweenness_centrality(self):\n",
    "    nodes = list(self.graph.nodes(data=True))\n",
    "    shortest_paths = []  \n",
    "    for i in range(len(nodes)):\n",
    "        paths_lists = self.bellman_ford_shortest_path(nodes[i][0]) \n",
    "        for p in paths_lists:\n",
    "            shortest_paths.append(p)\n",
    "    BC = {}\n",
    "    for target_node in range(len(nodes)):\n",
    "        num = 0\n",
    "        den = 0\n",
    "        for path in shortest_paths:\n",
    "            if path[0] != nodes[target_node][0] and path[-1] != nodes[target_node][0]:\n",
    "                if nodes[target_node][0] in path:\n",
    "                    num += 1\n",
    "                den += 1\n",
    "        BC[nodes[target_node][0]] = (num / den) / 2  \n",
    "    return BC\n",
    "```"
   ]
  },
  {
   "cell_type": "code",
   "execution_count": 5,
   "metadata": {},
   "outputs": [
    {
     "name": "stdout",
     "output_type": "stream",
     "text": [
      "806 µs ± 5.23 µs per loop (mean ± std. dev. of 7 runs, 1000 loops each)\n",
      "10.5 s ± 28.4 ms per loop (mean ± std. dev. of 7 runs, 1 loop each)\n"
     ]
    }
   ],
   "source": [
    "%timeit P.betweenness_centrality()\n",
    "%timeit R.betweenness_centrality()"
   ]
  }
 ],
 "metadata": {
  "celltoolbar": "Slideshow",
  "kernelspec": {
   "display_name": "Python 3",
   "language": "python",
   "name": "python3"
  },
  "language_info": {
   "codemirror_mode": {
    "name": "ipython",
    "version": 3
   },
   "file_extension": ".py",
   "mimetype": "text/x-python",
   "name": "python",
   "nbconvert_exporter": "python",
   "pygments_lexer": "ipython3",
   "version": "3.8.2"
  }
 },
 "nbformat": 4,
 "nbformat_minor": 4
}
