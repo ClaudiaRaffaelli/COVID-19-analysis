{
 "cells": [
  {
   "cell_type": "code",
   "execution_count": 50,
   "metadata": {
    "slideshow": {
     "slide_type": "notes"
    }
   },
   "outputs": [
    {
     "name": "stdout",
     "output_type": "stream",
     "text": [
      "Requirement already satisfied: pygraphviz in /Library/Frameworks/Python.framework/Versions/3.7/lib/python3.7/site-packages (1.5)\r\n"
     ]
    }
   ],
   "source": [
    "!pip install pygraphviz"
   ]
  },
  {
   "cell_type": "markdown",
   "metadata": {
    "slideshow": {
     "slide_type": "slide"
    }
   },
   "source": [
    "<img src=\"./imgs/Logo-unifi.png\" align=\"left\" width=\"15%\" style=\"float:left; display: inline-block\">\n",
    "\n",
    "<div align=\"right\" style=\"font-size:12px\">\n",
    "    Abdullah Chaudhry <br>\n",
    "Claudia Raffaelli\n",
    "        </div>\n",
    "\n",
    "\n",
    "<br><br>\n",
    "<div align=\"center\"><b> Abstract </b><br>\n",
    "These slides describe a technique to calculate the Betweenness Centrality of a graph's nodes using Bellman-Ford's algorithm</div>"
   ]
  },
  {
   "cell_type": "code",
   "execution_count": 51,
   "metadata": {},
   "outputs": [],
   "source": [
    "__AUTHORS__ = {'ac': (\"Abdullah Chaudhry\", \n",
    "                      \"abdullah.chaudhry@stud.unifi.it\",\n",
    "                      \"https://github.com/chabdullah\"),\n",
    "               'cr': (\"Claudia Raffaelli\", \n",
    "                      \"claudia.raffaelli@stud.unifi.it\", \n",
    "                      \"https://github.com/ClaudiaRaffaelli\",)}\n",
    "\n",
    "__KEYWORDS__ = ['Python', 'Jupyter', 'notebooks', 'Bellman-Ford', 'Betweenness-Centrality', 'graphs']"
   ]
  },
  {
   "cell_type": "markdown",
   "metadata": {},
   "source": [
    "<div align=\"center\"><img src=\"./imgs/Python-logo-notext.svg\"></div>"
   ]
  },
  {
   "cell_type": "markdown",
   "metadata": {
    "slideshow": {
     "slide_type": "slide"
    }
   },
   "source": [
    "## Introduction\n",
    "During the next slides we will see how to:\n",
    "* Handle large graphs\n",
    "* Implement two variations of the Bellman-Ford algorithm\n",
    "* Implement the Betweenness Centrality algorithm\n",
    "\n",
    "We start by loading the project:"
   ]
  },
  {
   "cell_type": "code",
   "execution_count": 52,
   "metadata": {
    "slideshow": {
     "slide_type": "fragment"
    }
   },
   "outputs": [],
   "source": [
    "from graph_manager import GraphManager\n",
    "import networkx as nx\n",
    "import json\n",
    "import math\n",
    "import random\n",
    "import time\n",
    "from collections import deque\n",
    "import matplotlib as plt"
   ]
  },
  {
   "cell_type": "code",
   "execution_count": 53,
   "metadata": {
    "slideshow": {
     "slide_type": "subslide"
    }
   },
   "outputs": [],
   "source": [
    "with open(\"./dati-json/dpc-covid19-ita-province.json\") as f:\n",
    "    parsed_file = json.load(f)\n",
    "\n",
    "# Building the graph of provinces\n",
    "provinces_already_annotated = []\n",
    "P = GraphManager()\n",
    "for province_data in parsed_file:\n",
    "    # extracting information from the JSON\n",
    "    if province_data['sigla_provincia'] != '' and province_data[\n",
    "        'sigla_provincia'] not in provinces_already_annotated:\n",
    "        provinces_already_annotated.append(province_data['sigla_provincia'])\n",
    "        province = province_data['denominazione_provincia']\n",
    "        position_x = province_data['long']\n",
    "        position_y = province_data['lat']\n",
    "        # adding each province to the graph\n",
    "        P.add_node_to_graph(province, position_x, position_y)\n",
    "\n",
    "# Building the graph of doubles\n",
    "R = GraphManager()\n",
    "# Generate 2000 pairs of double (x,y)\n",
    "for i in range(2000):\n",
    "    x = random.randrange(30, 50)\n",
    "    y = random.randrange(10, 20)\n",
    "    R.add_node_to_graph(str(i), x, y)"
   ]
  },
  {
   "cell_type": "markdown",
   "metadata": {
    "pycharm": {
     "name": "#%% md\n"
    },
    "slideshow": {
     "slide_type": "subslide"
    }
   },
   "source": [
    "## Adding edges\n",
    "\n",
    "While handling large graphs, heavy operations like adding edges to the graph itself can be challenging. \n",
    "Here, we see our implementatin of this task. \n",
    "\n",
    "We keep in mind that two nodes <code>a</code> and <code>b</code> are connected by an edge if the following holds: \n",
    "* if <code>x,y</code> is the position of <code>a</code>, then <code>b</code> is in position <code>z,w</code> with <code>z</code> in <code>[x-d,x+d]</code> and <code>w</code> in <code>[y-d, y+d]</code>, with <code>d=0.8</code>."
   ]
  },
  {
   "cell_type": "markdown",
   "metadata": {
    "slideshow": {
     "slide_type": "subslide"
    }
   },
   "source": [
    "Here we see the main steps:\n",
    "* Is created a list of pairs with this structure: <code>(node_name, (x, y))</code>,\n",
    "* This list is sorted by the <code>x</code> value,\n",
    "* We iterate over the sorted list with an index <code>i</code>,\n",
    "* We also keep an index <code>j</code> that can help us compare the node <code>i</code> to this other node,\n",
    "* If the nodes indexed by <code>i</code> and <code>j</code> are close enough relatively to <code>x</code> and <code>y</code>, then we add an edge, with weight the Eucledian distance between the two,\n",
    "* If the node <code>i</code> and <code>j</code> are close only with respect to <code>x</code>, we must check the node <code>i</code> with <code>j+1</code>, since the list is only ordered wrt <code>x</code>, and not <code>y</code>,\n",
    "* If the node indexed by <code>i</code> and the node indexed by <code>j</code> are not close enough relatively to <code>x</code>, of course <code>i</code> and <code>j+1</code> will also not be close wrt <code>x</code> because of the sorting. In this case we increment <code>i</code> and set <code>j=i+1</code>. "
   ]
  },
  {
   "cell_type": "code",
   "execution_count": 54,
   "metadata": {
    "pycharm": {
     "name": "#%%\n"
    },
    "slideshow": {
     "slide_type": "fragment"
    }
   },
   "outputs": [
    {
     "name": "stdout",
     "output_type": "stream",
     "text": [
      "100 loops, best of 5: 2.05 ms per loop\n",
      "10 loops, best of 5: 143 ms per loop\n"
     ]
    }
   ],
   "source": [
    "# Inserting the edges according to the distance between each node\n",
    "%timeit P.add_edges()\n",
    "%timeit R.add_edges()"
   ]
  },
  {
   "cell_type": "markdown",
   "metadata": {
    "pycharm": {
     "name": "#%% md\n"
    },
    "slideshow": {
     "slide_type": "slide"
    }
   },
   "source": [
    "# Shortest paths\n",
    "\n",
    "In graph theory, the **shortest path problem** is the problem of finding a path between two vertices (or nodes) in a graph such that the sum of the weights of its constituent edges is minimized.\n",
    "![Shortest path](imgs/shortest_path.png)"
   ]
  },
  {
   "cell_type": "markdown",
   "metadata": {
    "slideshow": {
     "slide_type": "subslide"
    }
   },
   "source": [
    "Applications:\n",
    "- Shortest path algorithms are applied to automatically find directions between physical locations, such as driving directions on web mapping websites like Google Maps\n",
    "- Considering a nondeterministic abstract machine as a graph where vertices describe states and edges describe possible transitions, shortest path algorithms can be used to find an optimal sequence of choices to reach a certain goal state"
   ]
  },
  {
   "cell_type": "markdown",
   "metadata": {
    "slideshow": {
     "slide_type": "subslide"
    }
   },
   "source": [
    "# Bellman-Ford algorithm\n",
    "\n",
    "The Bellman–Ford algorithm is an algorithm that computes shortest paths from a single source vertex to all of the other vertices in a **weighted digraph**. It is slower than Dijkstra's algorithm for the same problem, but more versatile, as it is capable of handling graphs in which some of the edge weights are negative numbers. \n"
   ]
  },
  {
   "cell_type": "markdown",
   "metadata": {
    "slideshow": {
     "slide_type": "fragment"
    }
   },
   "source": [
    "Negative edge weights are found in various applications of graphs, hence the usefulness of this algorithm. If a graph contains a **\"negative cycle\"** (i.e. a cycle whose edges sum to a negative value) that is reachable from the source, then there is no cheapest path: any path that has a point on the negative cycle can be made cheaper by one more walk around the negative cycle. In such a case, the Bellman–Ford algorithm can detect and report the negative cycle."
   ]
  },
  {
   "cell_type": "markdown",
   "metadata": {
    "slideshow": {
     "slide_type": "subslide"
    }
   },
   "source": [
    "## First intuition\n",
    "Like Dijkstra's algorithm, Bellman–Ford proceeds by relaxation, in which approximations to the correct distance are replaced by better ones until they eventually reach the solution. In both algorithms, the approximate distance to each vertex is always an overestimate of the true distance, and is replaced by the minimum of its old value and the length of a newly found path.\n",
    "\n",
    "Bellman–Ford algorithm simply relaxes all the edges, $|V|-1$ times, where $|V|$ is the number of vertices in the graph. In each of these repetitions, the number of vertices with correctly calculated distances grows, from which it follows that eventually all vertices will have their correct distances. \n"
   ]
  },
  {
   "cell_type": "markdown",
   "metadata": {
    "slideshow": {
     "slide_type": "subslide"
    }
   },
   "source": [
    "## Toy Example\n",
    "\n",
    "<table><tr>\n",
    "<td> <img src=\"./imgs/bellman_0.png\" alt=\"Iteration_0\" style=\"width: 350px;\"/> </td>\n",
    "<td> <img src=\"./imgs/bellman_1.png\" alt=\"Iteration_1\" style=\"width: 350px;\"/> </td>\n",
    "<td> <img src=\"./imgs/bellman_2.png\" alt=\"Iteration_2\" style=\"width: 350px;\"/> </td>\n",
    "</tr></table>\n",
    "\n",
    "- **Iteration 0:** all distances are initialized from source vertex A,\n",
    "- **Iteration 1:** all edges are processed in the order (B,E), (D,B), (B,D), (A,B), (A,C), (D,C), (B,C), (E,D). Found all shortest paths which are at most 1 edge long,\n",
    "- **Iteration 2:** processing again all edges. All shortest paths which are at most 2 edges long are found,\n",
    "- **Iteration 3 and 4:** useless."
   ]
  },
  {
   "cell_type": "markdown",
   "metadata": {
    "slideshow": {
     "slide_type": "subslide"
    }
   },
   "source": [
    "## Our First Implementation\n",
    "\n",
    "```python\n",
    "def bellman_ford(self, source_vertex):\n",
    "\tvertices = list(self.graph.nodes())\n",
    "\t\n",
    "    distances = dict.fromkeys(self.graph.nodes(), math.inf)\n",
    "\tpredecessors = dict.fromkeys(self.graph.nodes(), None)\n",
    "\tdistances[source_vertex] = 0\n",
    "    # relax edges\n",
    "\tcount = len(vertices) - 1\n",
    "\twhile count > 0:\n",
    "\t\tsomething_has_changed = False\n",
    "\t\tfor (u, v) in self.graph.edges():\n",
    "            # considering both the symmetric edges in the form (u, v) and (v, u)\n",
    "\t\t\tif distances[u] + float(self.graph[u][v]['label']) < distances[v]:\n",
    "\t\t\t\tdistances[v] = distances[u] + float(self.graph[u][v]['label'])\n",
    "\t\t\t\tpredecessors[v] = u\n",
    "\t\t\t\tsomething_has_changed = True\n",
    "\t\t\tif distances[v] + float(self.graph[v][u]['label']) < distances[u]:\n",
    "\t\t\t\tdistances[u] = distances[v] + float(self.graph[v][u]['label'])\n",
    "\t\t\t\tpredecessors[u] = v\n",
    "\t\t\t\tsomething_has_changed = True\t\t\n",
    "\t\tif something_has_changed is False:\n",
    "\t\t\tbreak\n",
    "\t\tcount -= 1\n",
    "\treturn distances, predecessors\n",
    "```"
   ]
  },
  {
   "cell_type": "markdown",
   "metadata": {
    "slideshow": {
     "slide_type": "subslide"
    }
   },
   "source": [
    "### Computation time\n",
    "Bellman–Ford runs in $O(|V|\\cdot |E|)$ time, where $|V|$ and $|E|$ are the number of vertices and edges respectively at its worst case. "
   ]
  },
  {
   "cell_type": "markdown",
   "metadata": {
    "slideshow": {
     "slide_type": "fragment"
    }
   },
   "source": [
    "The Bellman–Ford algorithm may be improved in practice (although not in the worst case), as we did, by the observation that, if an iteration of the main loop of the algorithm terminates without making any changes, the algorithm can be immediately terminated, as subsequent iterations will not make any more changes. With this early termination condition, the main loop may in some cases use many fewer than $|V| − 1$ iterations, even though the worst case of the algorithm remains unchanged."
   ]
  },
  {
   "cell_type": "markdown",
   "metadata": {
    "slideshow": {
     "slide_type": "subslide"
    }
   },
   "source": [
    "## New strategy\n",
    "The **Shortest Path Faster Algorithm (SPFA)** is an improvement of the Bellman–Ford algorithm which computes single-source shortest paths in a weighted directed graph. The algorithm is believed to work well on random sparse graphs and is particularly suitable for graphs that contain negative-weight edges. However, the worst-case complexity of SPFA is the same as that of Bellman–Ford, so for graphs with nonnegative edge weights Dijkstra's algorithm is still preferred."
   ]
  },
  {
   "cell_type": "markdown",
   "metadata": {
    "slideshow": {
     "slide_type": "fragment"
    }
   },
   "source": [
    "The basic idea of SPFA is the same as Bellman–Ford algorithm in that each vertex is used as a candidate to relax its adjacent vertices. The improvement over the latter is that instead of trying all vertices blindly, SPFA maintains a **queue** of candidate vertices and adds a vertex to the queue only if that vertex is relaxed. This process repeats until no more vertex can be relaxed."
   ]
  },
  {
   "cell_type": "markdown",
   "metadata": {
    "slideshow": {
     "slide_type": "subslide"
    }
   },
   "source": [
    "## Our Second Implementation\n",
    "```python\n",
    "def bellman_ford_SPFA(self, source_vertex):\t\n",
    "\tdistances = dict.fromkeys(self.graph.nodes(), math.inf)\n",
    "\talready_in_queue = dict.fromkeys(self.graph.nodes(), False)\n",
    "\tpredecessors = dict.fromkeys(self.graph.nodes(), math.inf)\n",
    "\tdistances[source_vertex] = 0\n",
    "    \n",
    "\tq = deque()\n",
    "\tq.append(source_vertex)\n",
    "\talready_in_queue[source_vertex] = True\n",
    "\twhile len(q) > 0:\n",
    "\t\tu = q.popleft()\n",
    "\t\tfor (u, v) in self.graph.edges(u):\n",
    "\t\t\tif distances[u] + float(self.graph[u][v]['label']) < distances[v]:\n",
    "\t\t\t\tdistances[v] = distances[u] + float(self.graph[u][v]['label'])\n",
    "\t\t\t\tif not already_in_queue[v]:\n",
    "\t\t\t\t\tq.append(v)\n",
    "\t\t\t\t\talready_in_queue[v] = True\n",
    "\t\t\t\tpredecessors[v] = u\n",
    "\t\t\tif distances[v] + float(self.graph[v][u]['label']) < distances[u]:\n",
    "\t\t\t\tdistances[u] = distances[v] + float(self.graph[v][u]['label'])\n",
    "\t\t\t\tif not already_in_queue[u]:\n",
    "\t\t\t\t\tq.append(u)\n",
    "\t\t\t\t\talready_in_queue[u] = True\n",
    "\t\t\t\tpredecessors[u] = v\n",
    "\treturn distances, predecessors\n",
    "```"
   ]
  },
  {
   "cell_type": "markdown",
   "metadata": {
    "slideshow": {
     "slide_type": "subslide"
    }
   },
   "source": [
    "### Computation time\n",
    "\n",
    "The worst-case running time of the algorithm is $O(|V|\\cdot|E|)$ , just like the standard Bellman-Ford algorithm. However experiments suggest that the average running time is $O(|E|)$. \n",
    "\n",
    "We can now compare the two strategies."
   ]
  },
  {
   "cell_type": "code",
   "execution_count": 55,
   "metadata": {
    "slideshow": {
     "slide_type": "fragment"
    }
   },
   "outputs": [
    {
     "name": "stdout",
     "output_type": "stream",
     "text": [
      "100 loops, best of 5: 5.63 ms per loop\n",
      "100 loops, best of 5: 2.15 ms per loop\n"
     ]
    }
   ],
   "source": [
    "%timeit P.bellman_ford(\"Firenze\")\n",
    "%timeit P.bellman_ford_SPFA(\"Firenze\")"
   ]
  },
  {
   "cell_type": "code",
   "execution_count": 56,
   "metadata": {
    "slideshow": {
     "slide_type": "fragment"
    }
   },
   "outputs": [],
   "source": [
    "distances, predecessors = P.bellman_ford_SPFA(\"Firenze\")"
   ]
  },
  {
   "cell_type": "code",
   "execution_count": 57,
   "metadata": {
    "slideshow": {
     "slide_type": "subslide"
    }
   },
   "outputs": [
    {
     "data": {
      "text/plain": [
       "{'Agrigento': inf,\n",
       " 'Alessandria': 3.3526890000000003,\n",
       " 'Ancona': 2.507541,\n",
       " 'Aosta': 4.675934,\n",
       " 'Arezzo': 0.695748,\n",
       " 'Ascoli Piceno': 3.0071630000000003,\n",
       " 'Asti': 3.76418,\n",
       " 'Avellino': 5.061338000000001,\n",
       " 'Bari': 7.048739000000001,\n",
       " 'Barletta-Andria-Trani': 6.467652000000001,\n",
       " 'Belluno': 2.6032770000000003,\n",
       " 'Benevento': 4.848592000000001,\n",
       " 'Bergamo': 2.6031910000000003,\n",
       " 'Biella': 3.922346,\n",
       " 'Bologna': 0.730198,\n",
       " 'Bolzano': 2.907397,\n",
       " 'Brescia': 2.196202,\n",
       " 'Brindisi': 8.49972,\n",
       " 'Cagliari': inf,\n",
       " 'Caltanissetta': inf,\n",
       " 'Campobasso': 4.403401000000001,\n",
       " 'Caserta': 4.7596870000000004,\n",
       " 'Catania': inf,\n",
       " 'Catanzaro': inf,\n",
       " 'Chieti': 3.470136,\n",
       " 'Como': 3.1084870000000002,\n",
       " 'Cosenza': inf,\n",
       " 'Cremona': 1.9388450000000002,\n",
       " 'Crotone': inf,\n",
       " 'Cuneo': 4.590156,\n",
       " 'Enna': inf,\n",
       " 'Fermo': 2.9489639999999997,\n",
       " 'Ferrara': 1.169991,\n",
       " 'Firenze': 0,\n",
       " 'Foggia': 5.679577000000001,\n",
       " 'Forlì-Cesena': 0.906381,\n",
       " 'Frosinone': 3.0715460000000006,\n",
       " 'Genova': 3.188689,\n",
       " 'Gorizia': 3.706014,\n",
       " 'Grosseto': 1.056529,\n",
       " 'Imperia': 4.271255,\n",
       " 'Isernia': 4.2353760000000005,\n",
       " \"L'Aquila\": 2.701029,\n",
       " 'La Spezia': 1.480063,\n",
       " 'Latina': 3.2058360000000006,\n",
       " 'Lecce': 8.863333,\n",
       " 'Lecco': 2.897895,\n",
       " 'Livorno': 1.047989,\n",
       " 'Lodi': 2.489919,\n",
       " 'Lucca': 0.758103,\n",
       " 'Macerata': 2.649132,\n",
       " 'Mantova': 1.506617,\n",
       " 'Massa Carrara': 1.158729,\n",
       " 'Matera': 7.103830000000001,\n",
       " 'Messina': inf,\n",
       " 'Milano': 2.8383789999999998,\n",
       " 'Modena': 0.978238,\n",
       " 'Monza e della Brianza': 2.8145510000000002,\n",
       " 'Napoli': 4.9842390000000005,\n",
       " 'Novara': 3.341842,\n",
       " 'Nuoro': inf,\n",
       " 'Oristano': inf,\n",
       " 'Padova': 1.7962690000000001,\n",
       " 'Palermo': inf,\n",
       " 'Parma': 1.511454,\n",
       " 'Pavia': 2.743749,\n",
       " 'Perugia': 1.316518,\n",
       " 'Pesaro e Urbino': 1.834786,\n",
       " 'Pescara': 3.59269,\n",
       " 'Piacenza': 2.194877,\n",
       " 'Pisa': 0.909096,\n",
       " 'Pistoia': 0.37628,\n",
       " 'Pordenone': 2.71536,\n",
       " 'Potenza': 7.232769000000001,\n",
       " 'Prato': 0.194018,\n",
       " 'Ragusa': inf,\n",
       " 'Ravenna': 1.157285,\n",
       " 'Reggio di Calabria': inf,\n",
       " \"Reggio nell'Emilia\": 1.192395,\n",
       " 'Rieti': 2.1633500000000003,\n",
       " 'Rimini': 1.455689,\n",
       " 'Roma': 2.6081830000000004,\n",
       " 'Rovigo': 1.460682,\n",
       " 'Salerno': 5.299880000000001,\n",
       " 'Sassari': inf,\n",
       " 'Savona': 3.652097,\n",
       " 'Siena': 0.457428,\n",
       " 'Siracusa': inf,\n",
       " 'Sondrio': 2.916677,\n",
       " 'Sud Sardegna': inf,\n",
       " 'Taranto': 7.767264000000001,\n",
       " 'Teramo': 3.134951,\n",
       " 'Terni': 1.920635,\n",
       " 'Torino': 4.277373000000001,\n",
       " 'Trapani': inf,\n",
       " 'Trento': 2.416833,\n",
       " 'Treviso': 2.210887,\n",
       " 'Trieste': 3.974841,\n",
       " 'Udine': 3.300249,\n",
       " 'Varese': 3.3217570000000003,\n",
       " 'Venezia': 2.106343,\n",
       " 'Verbano-Cusio-Ossola': 3.611807,\n",
       " 'Vercelli': 3.4936450000000003,\n",
       " 'Verona': 1.773487,\n",
       " 'Vibo Valentia': inf,\n",
       " 'Vicenza': 1.885203,\n",
       " 'Viterbo': 2.061916}"
      ]
     },
     "execution_count": 57,
     "metadata": {},
     "output_type": "execute_result"
    }
   ],
   "source": [
    "distances"
   ]
  },
  {
   "cell_type": "code",
   "execution_count": 58,
   "metadata": {
    "slideshow": {
     "slide_type": "subslide"
    }
   },
   "outputs": [
    {
     "data": {
      "text/plain": [
       "{'Agrigento': inf,\n",
       " 'Alessandria': 'Pavia',\n",
       " 'Ancona': 'Pesaro e Urbino',\n",
       " 'Aosta': 'Biella',\n",
       " 'Arezzo': 'Firenze',\n",
       " 'Ascoli Piceno': 'Rieti',\n",
       " 'Asti': 'Alessandria',\n",
       " 'Avellino': 'Campobasso',\n",
       " 'Bari': 'Barletta-Andria-Trani',\n",
       " 'Barletta-Andria-Trani': 'Foggia',\n",
       " 'Belluno': 'Padova',\n",
       " 'Benevento': 'Campobasso',\n",
       " 'Bergamo': 'Cremona',\n",
       " 'Biella': 'Novara',\n",
       " 'Bologna': 'Firenze',\n",
       " 'Bolzano': 'Trento',\n",
       " 'Brescia': 'Mantova',\n",
       " 'Brindisi': 'Taranto',\n",
       " 'Cagliari': inf,\n",
       " 'Caltanissetta': inf,\n",
       " 'Campobasso': 'Chieti',\n",
       " 'Caserta': 'Isernia',\n",
       " 'Catania': inf,\n",
       " 'Catanzaro': inf,\n",
       " 'Chieti': \"L'Aquila\",\n",
       " 'Como': 'Monza e della Brianza',\n",
       " 'Cosenza': inf,\n",
       " 'Cremona': \"Reggio nell'Emilia\",\n",
       " 'Crotone': inf,\n",
       " 'Cuneo': 'Asti',\n",
       " 'Enna': inf,\n",
       " 'Fermo': 'Macerata',\n",
       " 'Ferrara': 'Bologna',\n",
       " 'Firenze': inf,\n",
       " 'Foggia': 'Benevento',\n",
       " 'Forlì-Cesena': 'Firenze',\n",
       " 'Frosinone': 'Rieti',\n",
       " 'Genova': 'Piacenza',\n",
       " 'Gorizia': 'Udine',\n",
       " 'Grosseto': 'Siena',\n",
       " 'Imperia': 'Savona',\n",
       " 'Isernia': 'Chieti',\n",
       " \"L'Aquila\": 'Terni',\n",
       " 'La Spezia': 'Massa Carrara',\n",
       " 'Latina': 'Roma',\n",
       " 'Lecce': 'Brindisi',\n",
       " 'Lecco': 'Cremona',\n",
       " 'Livorno': 'Prato',\n",
       " 'Lodi': 'Cremona',\n",
       " 'Lucca': 'Firenze',\n",
       " 'Macerata': 'Pesaro e Urbino',\n",
       " 'Mantova': 'Modena',\n",
       " 'Massa Carrara': 'Pistoia',\n",
       " 'Matera': 'Barletta-Andria-Trani',\n",
       " 'Messina': inf,\n",
       " 'Milano': 'Lodi',\n",
       " 'Modena': 'Prato',\n",
       " 'Monza e della Brianza': 'Cremona',\n",
       " 'Napoli': 'Isernia',\n",
       " 'Novara': 'Pavia',\n",
       " 'Nuoro': inf,\n",
       " 'Oristano': inf,\n",
       " 'Padova': 'Ferrara',\n",
       " 'Palermo': inf,\n",
       " 'Parma': \"Reggio nell'Emilia\",\n",
       " 'Pavia': 'Piacenza',\n",
       " 'Perugia': 'Arezzo',\n",
       " 'Pesaro e Urbino': 'Rimini',\n",
       " 'Pescara': 'Chieti',\n",
       " 'Piacenza': 'Parma',\n",
       " 'Pisa': 'Prato',\n",
       " 'Pistoia': 'Firenze',\n",
       " 'Pordenone': 'Treviso',\n",
       " 'Potenza': 'Barletta-Andria-Trani',\n",
       " 'Prato': 'Firenze',\n",
       " 'Ragusa': inf,\n",
       " 'Ravenna': 'Forlì-Cesena',\n",
       " 'Reggio di Calabria': inf,\n",
       " \"Reggio nell'Emilia\": 'Pistoia',\n",
       " 'Rieti': 'Perugia',\n",
       " 'Rimini': 'Forlì-Cesena',\n",
       " 'Roma': 'Terni',\n",
       " 'Rovigo': 'Bologna',\n",
       " 'Salerno': 'Avellino',\n",
       " 'Sassari': inf,\n",
       " 'Savona': 'Genova',\n",
       " 'Siena': 'Firenze',\n",
       " 'Siracusa': inf,\n",
       " 'Sondrio': 'Brescia',\n",
       " 'Sud Sardegna': inf,\n",
       " 'Taranto': 'Matera',\n",
       " 'Teramo': \"L'Aquila\",\n",
       " 'Terni': 'Perugia',\n",
       " 'Torino': 'Vercelli',\n",
       " 'Trapani': inf,\n",
       " 'Trento': 'Verona',\n",
       " 'Treviso': 'Rovigo',\n",
       " 'Trieste': 'Udine',\n",
       " 'Udine': 'Pordenone',\n",
       " 'Varese': 'Monza e della Brianza',\n",
       " 'Venezia': 'Ferrara',\n",
       " 'Verbano-Cusio-Ossola': 'Monza e della Brianza',\n",
       " 'Vercelli': 'Pavia',\n",
       " 'Verona': 'Modena',\n",
       " 'Vibo Valentia': inf,\n",
       " 'Vicenza': 'Ferrara',\n",
       " 'Viterbo': 'Perugia'}"
      ]
     },
     "execution_count": 58,
     "metadata": {},
     "output_type": "execute_result"
    }
   ],
   "source": [
    "predecessors"
   ]
  },
  {
   "cell_type": "markdown",
   "metadata": {
    "slideshow": {
     "slide_type": "subslide"
    }
   },
   "source": [
    "## Putting all together\n",
    "```python\n",
    "def bellman_ford_shortest_path(self, source_vertex, SPFA=True):\n",
    "\tif SPFA:\n",
    "\t\tdistances, predecessors = self.bellman_ford_SPFA(source_vertex)\n",
    "\telse:\n",
    "\t\tdistances, predecessors = self.bellman_ford(source_vertex)\n",
    "\tall__shortest_paths = []\n",
    "\tnodes = list(self.graph.nodes(data=True))\n",
    "\tfor target_vertex in nodes:\n",
    "\t\ttarget_vertex = target_vertex[0]\n",
    "\t\tif predecessors[target_vertex] == math.inf:\n",
    "\t\t\tcontinue\n",
    "\t\t# using the predecessors of each node to build the shortest path\n",
    "\t\tshortest_path = []\n",
    "\t\tcurrent_node = target_vertex\n",
    "\t\tshortest_path.append(target_vertex)\n",
    "\t\twhile current_node != source_vertex:\n",
    "\t\t\tcurrent_node = predecessors[current_node]\n",
    "\t\t\t# no path between the two nodes: exiting from the loop\n",
    "\t\t\tif current_node is None:\n",
    "\t\t\t\tbreak\n",
    "\t\t\tshortest_path.append(current_node)\n",
    "\t\tif len(shortest_path) != 1:\n",
    "\t\t\tall__shortest_paths.append(shortest_path)\n",
    "\treturn all__shortest_paths\n",
    "```"
   ]
  },
  {
   "cell_type": "markdown",
   "metadata": {
    "slideshow": {
     "slide_type": "subslide"
    }
   },
   "source": [
    "The output obtained by this computation:"
   ]
  },
  {
   "cell_type": "code",
   "execution_count": 59,
   "metadata": {
    "slideshow": {
     "slide_type": "fragment"
    }
   },
   "outputs": [
    {
     "data": {
      "text/plain": [
       "[['Chieti', \"L'Aquila\", 'Terni', 'Perugia', 'Arezzo', 'Firenze'],\n",
       " [\"L'Aquila\", 'Terni', 'Perugia', 'Arezzo', 'Firenze'],\n",
       " ['Pescara', 'Chieti', \"L'Aquila\", 'Terni', 'Perugia', 'Arezzo', 'Firenze'],\n",
       " ['Teramo', \"L'Aquila\", 'Terni', 'Perugia', 'Arezzo', 'Firenze'],\n",
       " ['Matera',\n",
       "  'Barletta-Andria-Trani',\n",
       "  'Foggia',\n",
       "  'Benevento',\n",
       "  'Campobasso',\n",
       "  'Chieti',\n",
       "  \"L'Aquila\",\n",
       "  'Terni',\n",
       "  'Perugia',\n",
       "  'Arezzo',\n",
       "  'Firenze']]"
      ]
     },
     "execution_count": 59,
     "metadata": {},
     "output_type": "execute_result"
    }
   ],
   "source": [
    "P.bellman_ford_shortest_path(\"Firenze\", SPFA=True)[:5]"
   ]
  },
  {
   "cell_type": "code",
   "execution_count": 60,
   "metadata": {
    "slideshow": {
     "slide_type": "fragment"
    }
   },
   "outputs": [
    {
     "name": "stdout",
     "output_type": "stream",
     "text": [
      "100 loops, best of 5: 2.21 ms per loop\n"
     ]
    }
   ],
   "source": [
    "%timeit P.bellman_ford_shortest_path(\"Firenze\", SPFA=True)"
   ]
  },
  {
   "cell_type": "markdown",
   "metadata": {
    "slideshow": {
     "slide_type": "slide"
    }
   },
   "source": [
    "\n",
    "# Centrality \n",
    "\n",
    "In network analysis, indicators of **centrality** identify the most important vertices within a graph.\n",
    "![title](./imgs/important_node.png)\n",
    "Applications:\n",
    "- Identifying the most influential person(s) in a social network\n",
    "  \n",
    "- Key infrastructure nodes in the Internet\n",
    "  \n",
    "- Super-spreaders of disease."
   ]
  },
  {
   "cell_type": "markdown",
   "metadata": {
    "slideshow": {
     "slide_type": "subslide"
    }
   },
   "source": [
    "# Betweenness Centrality\n",
    "\n",
    "Betweenness centrality, in Graph Theory, is a measure of centrality in a graph based on shortest paths. Vertices with high betweenness may have considerable influence within a network by virtue of their control over information passing between others. They are also the ones whose removal from the network will most disrupt communications between other vertices because they lie on the largest number of paths taken by messages."
   ]
  },
  {
   "cell_type": "markdown",
   "metadata": {
    "slideshow": {
     "slide_type": "fragment"
    }
   },
   "source": [
    "More compactly the betweenness can be represented as:\n",
    "\n",
    "**$g(v) =\\sum\\limits_{s\\neq v\\neq t \\in V} \\frac{\\sigma_{st}(v)}{\\sigma_{st}}$**\n",
    "\n",
    "\n",
    "where **$\\sigma_{st}$** is total number of shortest paths from node $s$ to node $t$ and **$\\sigma_{st}(v)$** is the number of those paths that pass through $v$."
   ]
  },
  {
   "cell_type": "markdown",
   "metadata": {
    "slideshow": {
     "slide_type": "subslide"
    }
   },
   "source": [
    "# Toy example\n",
    "\n",
    "<img src=\"./imgs/bc_toy_example.png\" width=600>"
   ]
  },
  {
   "cell_type": "markdown",
   "metadata": {
    "slideshow": {
     "slide_type": "subslide"
    }
   },
   "source": [
    "# Betweenness centrality in large graphs\n",
    "The betweenness centrality of a node scales with the number of pairs of nodes. Therefore, the calculation may be rescaled by dividing through by the number of pairs of nodes not including $v$, so that $g(v)\\in[0,1]$. The division is done by $(N−1)(N−2)$ for directed graphs and $\\frac{(N−1)(N−2)}{2}$ for undirected graphs, where $N$ is the number of nodes."
   ]
  },
  {
   "cell_type": "markdown",
   "metadata": {
    "slideshow": {
     "slide_type": "subslide"
    }
   },
   "source": [
    "### A handy benefit to betwenness centrality \n",
    "You don't need a fully connected graph or component to calculate it\n",
    "![title](./imgs/component.png)"
   ]
  },
  {
   "cell_type": "code",
   "execution_count": 61,
   "metadata": {
    "slideshow": {
     "slide_type": "subslide"
    }
   },
   "outputs": [
    {
     "data": {
      "text/plain": [
       "{'Agrigento': 0.0,\n",
       " 'Alessandria': 0.030907457322551662,\n",
       " 'Ancona': 0.0,\n",
       " 'Aosta': 0.0,\n",
       " 'Arezzo': 0.11410601976639713,\n",
       " 'Ascoli Piceno': 0.14699011680143756,\n",
       " 'Asti': 0.015813117699910152,\n",
       " 'Avellino': 0.013297394429469901,\n",
       " 'Bari': 0.0,\n",
       " 'Barletta-Andria-Trani': 0.08733153638814016,\n",
       " 'Belluno': 0.0,\n",
       " 'Benevento': 0.11069182389937107,\n",
       " 'Bergamo': 0.028032345013477088,\n",
       " 'Biella': 0.014555256064690027,\n",
       " 'Bologna': 0.1417789757412399,\n",
       " 'Bolzano': 0.0,\n",
       " 'Brescia': 0.0637915543575921,\n",
       " 'Brindisi': 0.015453728661275831,\n",
       " 'Cagliari': 0.0,\n",
       " 'Caltanissetta': 0.0035938903863432167,\n",
       " 'Campobasso': 0.14429469901168016,\n",
       " 'Caserta': 0.00017969451931716083,\n",
       " 'Catania': 0.00646900269541779,\n",
       " 'Catanzaro': 0.001976639712488769,\n",
       " 'Chieti': 0.19748427672955976,\n",
       " 'Como': 0.007367475292003594,\n",
       " 'Cosenza': 0.0,\n",
       " 'Cremona': 0.0697214734950584,\n",
       " 'Crotone': 0.0,\n",
       " 'Cuneo': 0.00035938903863432165,\n",
       " 'Enna': 0.0,\n",
       " 'Fermo': 0.011680143755615454,\n",
       " 'Ferrara': 0.027672955974842768,\n",
       " 'Firenze': 0.07367475292003593,\n",
       " 'Foggia': 0.10062893081761007,\n",
       " 'Forlì-Cesena': 0.1559748427672956,\n",
       " 'Frosinone': 0.004492362982929021,\n",
       " 'Genova': 0.02407906558849955,\n",
       " 'Gorizia': 0.0,\n",
       " 'Grosseto': 0.0,\n",
       " 'Imperia': 0.00017969451931716083,\n",
       " 'Isernia': 0.02623539982030548,\n",
       " \"L'Aquila\": 0.06037735849056604,\n",
       " 'La Spezia': 0.0,\n",
       " 'Latina': 0.00017969451931716083,\n",
       " 'Lecce': 0.0,\n",
       " 'Lecco': 0.0008984725965858042,\n",
       " 'Livorno': 0.0,\n",
       " 'Lodi': 0.027133872416891285,\n",
       " 'Lucca': 8.984725965858041e-05,\n",
       " 'Macerata': 0.17538185085354896,\n",
       " 'Mantova': 0.039532794249775384,\n",
       " 'Massa Carrara': 0.02362982929020665,\n",
       " 'Matera': 0.044923629829290206,\n",
       " 'Messina': 0.0,\n",
       " 'Milano': 0.004132973944294699,\n",
       " 'Modena': 0.021024258760107817,\n",
       " 'Monza e della Brianza': 0.0348607367475292,\n",
       " 'Napoli': 0.0,\n",
       " 'Novara': 0.030548068283917342,\n",
       " 'Nuoro': 0.0005390835579514825,\n",
       " 'Oristano': 0.0007187780772686433,\n",
       " 'Padova': 0.00880503144654088,\n",
       " 'Palermo': 0.0,\n",
       " 'Parma': 0.1279424977538185,\n",
       " 'Pavia': 0.0903863432165319,\n",
       " 'Perugia': 0.10601976639712489,\n",
       " 'Pesaro e Urbino': 0.19119496855345913,\n",
       " 'Pescara': 0.005750224618149146,\n",
       " 'Piacenza': 0.12075471698113208,\n",
       " 'Pisa': 0.0,\n",
       " 'Pistoia': 0.07879604672057502,\n",
       " 'Pordenone': 0.045283018867924525,\n",
       " 'Potenza': 0.0,\n",
       " 'Prato': 0.023180592991913745,\n",
       " 'Ragusa': 0.005750224618149146,\n",
       " 'Ravenna': 0.07744833782569632,\n",
       " 'Reggio di Calabria': 0.005031446540880503,\n",
       " \"Reggio nell'Emilia\": 0.16154537286612758,\n",
       " 'Rieti': 0.022641509433962263,\n",
       " 'Rimini': 0.13243486073674754,\n",
       " 'Roma': 0.01078167115902965,\n",
       " 'Rovigo': 0.07511230907457322,\n",
       " 'Salerno': 0.0,\n",
       " 'Sassari': 0.0,\n",
       " 'Savona': 0.014914645103324348,\n",
       " 'Siena': 0.009164420485175202,\n",
       " 'Siracusa': 0.0,\n",
       " 'Sondrio': 0.0,\n",
       " 'Sud Sardegna': 0.0,\n",
       " 'Taranto': 0.030548068283917342,\n",
       " 'Teramo': 0.0,\n",
       " 'Terni': 0.06684636118598383,\n",
       " 'Torino': 0.001078167115902965,\n",
       " 'Trapani': 0.0,\n",
       " 'Trento': 0.015453728661275831,\n",
       " 'Treviso': 0.05750224618149147,\n",
       " 'Trieste': 0.0,\n",
       " 'Udine': 0.030548068283917342,\n",
       " 'Varese': 0.001078167115902965,\n",
       " 'Venezia': 0.0,\n",
       " 'Verbano-Cusio-Ossola': 0.0,\n",
       " 'Vercelli': 0.014195867026055705,\n",
       " 'Verona': 0.051392632524708,\n",
       " 'Vibo Valentia': 0.004851752021563342,\n",
       " 'Vicenza': 0.05714285714285714,\n",
       " 'Viterbo': 0.0}"
      ]
     },
     "execution_count": 61,
     "metadata": {},
     "output_type": "execute_result"
    }
   ],
   "source": [
    "P.betweenness_centrality()"
   ]
  },
  {
   "cell_type": "markdown",
   "metadata": {
    "slideshow": {
     "slide_type": "subslide"
    }
   },
   "source": [
    "## Some common algorithms\n",
    "\n",
    "Calculating the betweenness centrality of all the vertices in a graph involves calculating the shortest paths between all pairs of vertices on a graph, which takes:\n",
    "* $O(|V||E|)$ for unweighted graphs *([Brandes' algorithm](https://web.archive.org/web/20171013152036/http://algo.uni-konstanz.de/publications/b-fabc-01.pdf))*.\n",
    "* $Θ(|V|^3)$ for weighted graphs *([Floyd–Warshall algorithm](https://en.wikipedia.org/wiki/Floyd%E2%80%93Warshall_algorithm))\n",
    "\n",
    "A single execution of the algorithms will find the shortest paths between all pairs of vertices. "
   ]
  },
  {
   "cell_type": "markdown",
   "metadata": {
    "slideshow": {
     "slide_type": "subslide"
    }
   },
   "source": [
    "# Our implementation\n",
    "\n",
    "Here is a snippet of our implementation, we used *Bellman-Ford's alghoritm* to find the shortest paths from a source node $i$ to $v$, with $v \\in V$\n",
    "```python\n",
    "def betweenness_centrality(self):\n",
    "    nodes = list(self.graph.nodes(data=True))\n",
    "    shortest_paths = []  \n",
    "    N = len(nodes)\n",
    "    for i in range(N):\n",
    "        paths_lists = self.bellman_ford_shortest_path(nodes[i][0]) \n",
    "        for p in paths_lists:\n",
    "            shortest_paths.append(p)\n",
    "    BC = {}\n",
    "    for target_node in range(N):\n",
    "        sum_ous = 0\n",
    "        for path in shortest_paths:\n",
    "            if path[0] != nodes[target_node][0] \n",
    "            and path[-1] != nodes[target_node][0] \n",
    "            and nodes[target_node][0] in path:\n",
    "                sum_ous += 1\n",
    "        BC[nodes[target_node][0]] = (sum_ous)/((N-1)*(N-2))\n",
    "    return BC\n",
    "```"
   ]
  },
  {
   "cell_type": "code",
   "execution_count": 62,
   "metadata": {
    "slideshow": {
     "slide_type": "subslide"
    }
   },
   "outputs": [
    {
     "name": "stdout",
     "output_type": "stream",
     "text": [
      "1 loop, best of 5: 465 ms per loop\n",
      "1 loop, best of 5: 11.4 s per loop\n"
     ]
    }
   ],
   "source": [
    "%timeit P.betweenness_centrality()\n",
    "%timeit R.betweenness_centrality()"
   ]
  },
  {
   "cell_type": "markdown",
   "metadata": {
    "slideshow": {
     "slide_type": "subslide"
    }
   },
   "source": [
    "# Implementation decisions making\n",
    "* In our implementation we used the Bellman-Ford algorithm (which is not good for this kind of problem) to calculate the shortest path between two nodes. This forced us to calculate the shortes path in both directions, therefore we needed to divide by 2 the result of the betweenness of the considered node. \n",
    "\n",
    "The total complexity of the this algorithm is $O(|V|^2|E|)$ while Floyd–Warshall algorithm takes $Θ(|V|^3)$"
   ]
  },
  {
   "cell_type": "markdown",
   "metadata": {
    "slideshow": {
     "slide_type": "fragment"
    }
   },
   "source": [
    "* Due to the great precision of the distances between the various nodes (graph **P** and **R**) and for the definition of the Bellman-Ford's algorithm itself, we thought it was appropriate to simplify the algorithm assuming that there could be at most one shortest path between each pair of nodes."
   ]
  },
  {
   "cell_type": "markdown",
   "metadata": {
    "slideshow": {
     "slide_type": "subslide"
    }
   },
   "source": [
    "* Due to the large number of nodes we normalized the value of the betweenness so that $g(v)\\in[0,1]$. The division is done by $\\frac{(N−1)(N−2)}{2}$ cause we are working with an undirected graph."
   ]
  },
  {
   "cell_type": "markdown",
   "metadata": {
    "slideshow": {
     "slide_type": "fragment"
    }
   },
   "source": [
    "* Based on the considerations made, the final formula for calculating the betweenness centrality of a node $v$ is\n",
    "\n",
    "**$g(v) =\\frac{\\sum\\limits_{s\\neq v\\neq t \\in V} \\frac{\\sigma_{st}(v)}{\\sigma_{st}}}{2}\\frac{2}{(N-1)(N-2)} = \\frac{\\sum\\limits_{s\\neq v\\neq t \\in V} \\frac{\\sigma_{st}(v)}{\\sigma_{st}}}{(N-1)(N-2)}$**\n",
    "\n",
    "where $\\sigma_{st}(v)$, $\\sigma_{st} \\in \\{0,1\\}$.\n"
   ]
  }
 ],
 "metadata": {
  "celltoolbar": "Slideshow",
  "kernelspec": {
   "display_name": "Python 3",
   "language": "python",
   "name": "python3"
  },
  "language_info": {
   "codemirror_mode": {
    "name": "ipython",
    "version": 3
   },
   "file_extension": ".py",
   "mimetype": "text/x-python",
   "name": "python",
   "nbconvert_exporter": "python",
   "pygments_lexer": "ipython3",
   "version": "3.7.3"
  }
 },
 "nbformat": 4,
 "nbformat_minor": 4
}