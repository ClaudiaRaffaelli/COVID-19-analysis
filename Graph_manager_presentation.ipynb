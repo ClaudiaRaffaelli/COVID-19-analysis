{
 "cells": [
  {
   "cell_type": "code",
   "execution_count": 50,
   "metadata": {
    "slideshow": {
     "slide_type": "notes"
    }
   },
   "outputs": [
    {
     "name": "stdout",
     "output_type": "stream",
     "text": [
      "Requirement already satisfied: pygraphviz in /Library/Frameworks/Python.framework/Versions/3.7/lib/python3.7/site-packages (1.5)\r\n"
     ]
    }
   ],
   "source": [
    "!pip install pygraphviz"
   ]
  },
  {
   "cell_type": "markdown",
   "metadata": {
    "slideshow": {
     "slide_type": "slide"
    }
   },
   "source": [
    "<img src=\"./imgs/Logo-unifi.png\" align=\"left\" width=\"15%\" style=\"float:left; display: inline-block\">\n",
    "\n",
    "<div align=\"right\" style=\"font-size:12px\">\n",
    "    Abdullah Chaudhry <br>\n",
    "Claudia Raffaelli\n",
    "        </div>\n",
    "\n",
    "\n",
    "<br><br>\n",
    "<div align=\"center\"><b> Abstract </b><br>\n",
    "These slides describe a technique to calculate the Betweenness Centrality of a graph's nodes using Bellman-Ford's algorithm</div>"
   ]
  },
  {
   "cell_type": "code",
   "execution_count": 1,
   "metadata": {},
   "outputs": [],
   "source": [
    "__AUTHORS__ = {'ac': (\"Abdullah Chaudhry\", \n",
    "                      \"abdullah.chaudhry@stud.unifi.it\",\n",
    "                      \"https://github.com/chabdullah\"),\n",
    "               'cr': (\"Claudia Raffaelli\", \n",
    "                      \"claudia.raffaelli@stud.unifi.it\", \n",
    "                      \"https://github.com/ClaudiaRaffaelli\",)}\n",
    "\n",
    "__KEYWORDS__ = ['Python', 'Jupyter', 'notebooks', 'Bellman-Ford', 'Betweenness-Centrality', 'graphs']"
   ]
  },
  {
   "cell_type": "markdown",
   "metadata": {},
   "source": [
    "<div align=\"center\"><img src=\"./imgs/Python-logo-notext.svg\"></div>"
   ]
  },
  {
   "cell_type": "markdown",
   "metadata": {
    "slideshow": {
     "slide_type": "slide"
    }
   },
   "source": [
    "## Introduction\n",
    "During the next slides we will see how to:\n",
    "* Handle large graphs\n",
    "* Implement two variations of the Bellman-Ford algorithm\n",
    "* Implement the Betweenness Centrality algorithm\n",
    "\n",
    "We start by loading the project:"
   ]
  },
  {
   "cell_type": "code",
   "execution_count": 2,
   "metadata": {
    "slideshow": {
     "slide_type": "fragment"
    }
   },
   "outputs": [],
   "source": [
    "from graph_manager import GraphManager\n",
    "import networkx as nx\n",
    "import json\n",
    "import math\n",
    "import random\n",
    "import time\n",
    "from collections import deque\n",
    "import matplotlib as plt"
   ]
  },
  {
   "cell_type": "code",
   "execution_count": 3,
   "metadata": {
    "slideshow": {
     "slide_type": "subslide"
    }
   },
   "outputs": [],
   "source": [
    "with open(\"./dati-json/dpc-covid19-ita-province.json\") as f:\n",
    "    parsed_file = json.load(f)\n",
    "\n",
    "# Building the graph of provinces\n",
    "provinces_already_annotated = []\n",
    "P = GraphManager()\n",
    "for province_data in parsed_file:\n",
    "    # extracting information from the JSON\n",
    "    if province_data['sigla_provincia'] != '' and province_data[\n",
    "        'sigla_provincia'] not in provinces_already_annotated:\n",
    "        provinces_already_annotated.append(province_data['sigla_provincia'])\n",
    "        province = province_data['denominazione_provincia']\n",
    "        position_x = province_data['long']\n",
    "        position_y = province_data['lat']\n",
    "        # adding each province to the graph\n",
    "        P.add_node_to_graph(province, position_x, position_y)\n",
    "\n",
    "# Building the graph of doubles\n",
    "R = GraphManager()\n",
    "# Generate 2000 pairs of double (x,y)\n",
    "for i in range(2000):\n",
    "    x = round(random.uniform(30, 50), 1)\n",
    "    y = round(random.uniform(10, 20), 1)\n",
    "    R.add_node_to_graph(str(i), x, y)"
   ]
  },
  {
   "cell_type": "markdown",
   "metadata": {
    "pycharm": {
     "name": "#%% md\n"
    },
    "slideshow": {
     "slide_type": "subslide"
    }
   },
   "source": [
    "## Adding edges\n",
    "\n",
    "While handling large graphs, heavy operations like adding edges to the graph itself can be challenging. \n",
    "Here, we see our implementatin of this task. \n",
    "\n",
    "We keep in mind that two nodes <code>a</code> and <code>b</code> are connected by an edge if the following holds: \n",
    "* if <code>x,y</code> is the position of <code>a</code>, then <code>b</code> is in position <code>z,w</code> with <code>z</code> in <code>[x-d,x+d]</code> and <code>w</code> in <code>[y-d, y+d]</code>, with <code>d=0.8</code>."
   ]
  },
  {
   "cell_type": "markdown",
   "metadata": {
    "slideshow": {
     "slide_type": "subslide"
    }
   },
   "source": [
    "Here we see the main steps:\n",
    "* Is created a list of pairs with this structure: <code>(node_name, (x, y))</code>,\n",
    "* This list is sorted by the <code>x</code> value,\n",
    "* We iterate over the sorted list with an index <code>i</code>,\n",
    "* We also keep an index <code>j</code> that can help us compare the node <code>i</code> to this other node,\n",
    "* If the nodes indexed by <code>i</code> and <code>j</code> are close enough relatively to <code>x</code> and <code>y</code>, then we add an edge, with weight the Eucledian distance between the two,\n",
    "* If the node <code>i</code> and <code>j</code> are close only with respect to <code>x</code>, we must check the node <code>i</code> with <code>j+1</code>, since the list is only ordered wrt <code>x</code>, and not <code>y</code>,\n",
    "* If the node indexed by <code>i</code> and the node indexed by <code>j</code> are not close enough relatively to <code>x</code>, of course <code>i</code> and <code>j+1</code> will also not be close wrt <code>x</code> because of the sorting. In this case we increment <code>i</code> and set <code>j=i+1</code>. "
   ]
  },
  {
   "cell_type": "code",
   "execution_count": 4,
   "metadata": {
    "pycharm": {
     "name": "#%%\n"
    },
    "slideshow": {
     "slide_type": "fragment"
    }
   },
   "outputs": [
    {
     "name": "stdout",
     "output_type": "stream",
     "text": [
      "2.26 ms ± 21.9 µs per loop (mean ± std. dev. of 7 runs, 100 loops each)\n",
      "327 ms ± 4.7 ms per loop (mean ± std. dev. of 7 runs, 1 loop each)\n"
     ]
    }
   ],
   "source": [
    "# Inserting the edges according to the distance between each node\n",
    "%timeit P.add_edges()\n",
    "%timeit R.add_edges()"
   ]
  },
  {
   "cell_type": "markdown",
   "metadata": {
    "pycharm": {
     "name": "#%% md\n"
    },
    "slideshow": {
     "slide_type": "slide"
    }
   },
   "source": [
    "# Shortest paths\n",
    "\n",
    "In graph theory, the **shortest path problem** is the problem of finding a path between two vertices (or nodes) in a graph such that the sum of the weights of its constituent edges is minimized.\n",
    "![Shortest path](imgs/shortest_path.png)"
   ]
  },
  {
   "cell_type": "markdown",
   "metadata": {
    "slideshow": {
     "slide_type": "subslide"
    }
   },
   "source": [
    "Applications:\n",
    "- Shortest path algorithms are applied to automatically find directions between physical locations, such as driving directions on web mapping websites like Google Maps\n",
    "- Considering a nondeterministic abstract machine as a graph where vertices describe states and edges describe possible transitions, shortest path algorithms can be used to find an optimal sequence of choices to reach a certain goal state"
   ]
  },
  {
   "cell_type": "markdown",
   "metadata": {
    "slideshow": {
     "slide_type": "subslide"
    }
   },
   "source": [
    "# Bellman-Ford algorithm\n",
    "\n",
    "The Bellman–Ford algorithm is an algorithm that computes shortest paths from a single source vertex to all of the other vertices in a **weighted digraph**. It is slower than Dijkstra's algorithm for the same problem, but more versatile, as it is capable of handling graphs in which some of the edge weights are negative numbers. \n"
   ]
  },
  {
   "cell_type": "markdown",
   "metadata": {
    "slideshow": {
     "slide_type": "fragment"
    }
   },
   "source": [
    "Negative edge weights are found in various applications of graphs, hence the usefulness of this algorithm. If a graph contains a **\"negative cycle\"** (i.e. a cycle whose edges sum to a negative value) that is reachable from the source, then there is no cheapest path: any path that has a point on the negative cycle can be made cheaper by one more walk around the negative cycle. In such a case, the Bellman–Ford algorithm can detect and report the negative cycle."
   ]
  },
  {
   "cell_type": "markdown",
   "metadata": {
    "slideshow": {
     "slide_type": "subslide"
    }
   },
   "source": [
    "## First intuition\n",
    "Like Dijkstra's algorithm, Bellman–Ford proceeds by relaxation, in which approximations to the correct distance are replaced by better ones until they eventually reach the solution. In both algorithms, the approximate distance to each vertex is always an overestimate of the true distance, and is replaced by the minimum of its old value and the length of a newly found path.\n",
    "\n",
    "Bellman–Ford algorithm simply relaxes all the edges, $|V|-1$ times, where $|V|$ is the number of vertices in the graph. In each of these repetitions, the number of vertices with correctly calculated distances grows, from which it follows that eventually all vertices will have their correct distances. \n"
   ]
  },
  {
   "cell_type": "markdown",
   "metadata": {
    "slideshow": {
     "slide_type": "subslide"
    }
   },
   "source": [
    "## Toy Example\n",
    "\n",
    "<table><tr>\n",
    "<td> <img src=\"./imgs/bellman_0.png\" alt=\"Iteration_0\" style=\"width: 350px;\"/> </td>\n",
    "<td> <img src=\"./imgs/bellman_1.png\" alt=\"Iteration_1\" style=\"width: 350px;\"/> </td>\n",
    "<td> <img src=\"./imgs/bellman_2.png\" alt=\"Iteration_2\" style=\"width: 350px;\"/> </td>\n",
    "</tr></table>\n",
    "\n",
    "- **Iteration 0:** all distances are initialized from source vertex A,\n",
    "- **Iteration 1:** all edges are processed in the order (B,E), (D,B), (B,D), (A,B), (A,C), (D,C), (B,C), (E,D). Found all shortest paths which are at most 1 edge long,\n",
    "- **Iteration 2:** processing again all edges. All shortest paths which are at most 2 edges long are found,\n",
    "- **Iteration 3 and 4:** useless."
   ]
  },
  {
   "cell_type": "markdown",
   "metadata": {
    "slideshow": {
     "slide_type": "subslide"
    }
   },
   "source": [
    "## Our First Implementation\n",
    "\n",
    "```python\n",
    "def bellman_ford(self, source_vertex):\n",
    "\tvertices = list(self.graph.nodes())\n",
    "\t\n",
    "    distances = dict.fromkeys(self.graph.nodes(), math.inf)\n",
    "\tpredecessors = dict.fromkeys(self.graph.nodes(), None)\n",
    "\tdistances[source_vertex] = 0\n",
    "    # relax edges\n",
    "\tcount = len(vertices) - 1\n",
    "\twhile count > 0:\n",
    "\t\tsomething_has_changed = False\n",
    "\t\tfor (u, v) in self.graph.edges():\n",
    "            # considering both the symmetric edges in the form (u, v) and (v, u)\n",
    "\t\t\tif distances[u] + float(self.graph[u][v]['label']) < distances[v]:\n",
    "\t\t\t\tdistances[v] = distances[u] + float(self.graph[u][v]['label'])\n",
    "\t\t\t\tpredecessors[v] = u\n",
    "\t\t\t\tsomething_has_changed = True\n",
    "\t\t\tif distances[v] + float(self.graph[v][u]['label']) < distances[u]:\n",
    "\t\t\t\tdistances[u] = distances[v] + float(self.graph[v][u]['label'])\n",
    "\t\t\t\tpredecessors[u] = v\n",
    "\t\t\t\tsomething_has_changed = True\t\t\n",
    "\t\tif something_has_changed is False:\n",
    "\t\t\tbreak\n",
    "\t\tcount -= 1\n",
    "\treturn distances, predecessors\n",
    "```"
   ]
  },
  {
   "cell_type": "markdown",
   "metadata": {
    "slideshow": {
     "slide_type": "subslide"
    }
   },
   "source": [
    "### Computation time\n",
    "Bellman–Ford runs in $O(|V|\\cdot |E|)$ time, where $|V|$ and $|E|$ are the number of vertices and edges respectively at its worst case. "
   ]
  },
  {
   "cell_type": "markdown",
   "metadata": {
    "slideshow": {
     "slide_type": "fragment"
    }
   },
   "source": [
    "The Bellman–Ford algorithm may be improved in practice (although not in the worst case), as we did, by the observation that, if an iteration of the main loop of the algorithm terminates without making any changes, the algorithm can be immediately terminated, as subsequent iterations will not make any more changes. With this early termination condition, the main loop may in some cases use many fewer than $|V| − 1$ iterations, even though the worst case of the algorithm remains unchanged."
   ]
  },
  {
   "cell_type": "markdown",
   "metadata": {
    "slideshow": {
     "slide_type": "subslide"
    }
   },
   "source": [
    "## New strategy\n",
    "The **Shortest Path Faster Algorithm (SPFA)** is an improvement of the Bellman–Ford algorithm which computes single-source shortest paths in a weighted directed graph. The algorithm is believed to work well on random sparse graphs and is particularly suitable for graphs that contain negative-weight edges. However, the worst-case complexity of SPFA is the same as that of Bellman–Ford, so for graphs with nonnegative edge weights Dijkstra's algorithm is still preferred."
   ]
  },
  {
   "cell_type": "markdown",
   "metadata": {
    "slideshow": {
     "slide_type": "fragment"
    }
   },
   "source": [
    "The basic idea of SPFA is the same as Bellman–Ford algorithm in that each vertex is used as a candidate to relax its adjacent vertices. The improvement over the latter is that instead of trying all vertices blindly, SPFA maintains a **queue** of candidate vertices and adds a vertex to the queue only if that vertex is relaxed. This process repeats until no more vertex can be relaxed."
   ]
  },
  {
   "cell_type": "markdown",
   "metadata": {
    "slideshow": {
     "slide_type": "subslide"
    }
   },
   "source": [
    "## Our Second Implementation\n",
    "```python\n",
    "def bellman_ford_SPFA(self, source_vertex):\t\n",
    "\tdistances = dict.fromkeys(self.graph.nodes(), math.inf)\n",
    "\talready_in_queue = dict.fromkeys(self.graph.nodes(), False)\n",
    "\tpredecessors = dict.fromkeys(self.graph.nodes(), math.inf)\n",
    "\tdistances[source_vertex] = 0\n",
    "    \n",
    "\tq = deque()\n",
    "\tq.append(source_vertex)\n",
    "\talready_in_queue[source_vertex] = True\n",
    "\twhile len(q) > 0:\n",
    "\t\tu = q.popleft()\n",
    "\t\tfor (u, v) in self.graph.edges(u):\n",
    "\t\t\tif distances[u] + float(self.graph[u][v]['label']) < distances[v]:\n",
    "\t\t\t\tdistances[v] = distances[u] + float(self.graph[u][v]['label'])\n",
    "\t\t\t\tif not already_in_queue[v]:\n",
    "\t\t\t\t\tq.append(v)\n",
    "\t\t\t\t\talready_in_queue[v] = True\n",
    "\t\t\t\tpredecessors[v] = u\n",
    "\t\t\tif distances[v] + float(self.graph[v][u]['label']) < distances[u]:\n",
    "\t\t\t\tdistances[u] = distances[v] + float(self.graph[v][u]['label'])\n",
    "\t\t\t\tif not already_in_queue[u]:\n",
    "\t\t\t\t\tq.append(u)\n",
    "\t\t\t\t\talready_in_queue[u] = True\n",
    "\t\t\t\tpredecessors[u] = v\n",
    "\treturn distances, predecessors\n",
    "```"
   ]
  },
  {
   "cell_type": "markdown",
   "metadata": {
    "slideshow": {
     "slide_type": "subslide"
    }
   },
   "source": [
    "### Computation time\n",
    "\n",
    "The worst-case running time of the algorithm is $O(|V|\\cdot|E|)$ , just like the standard Bellman-Ford algorithm. However experiments suggest that the average running time is $O(|E|)$. \n",
    "\n",
    "We can now compare the two strategies."
   ]
  },
  {
   "cell_type": "code",
   "execution_count": 5,
   "metadata": {
    "slideshow": {
     "slide_type": "fragment"
    }
   },
   "outputs": [
    {
     "name": "stdout",
     "output_type": "stream",
     "text": [
      "6.51 ms ± 61.5 µs per loop (mean ± std. dev. of 7 runs, 100 loops each)\n",
      "2.51 ms ± 19.6 µs per loop (mean ± std. dev. of 7 runs, 100 loops each)\n"
     ]
    }
   ],
   "source": [
    "%timeit P.bellman_ford(\"Firenze\")\n",
    "%timeit P.bellman_ford_SPFA(\"Firenze\")"
   ]
  },
  {
   "cell_type": "code",
   "execution_count": 6,
   "metadata": {
    "slideshow": {
     "slide_type": "fragment"
    }
   },
   "outputs": [],
   "source": [
    "distances, predecessors = P.bellman_ford_SPFA(\"Firenze\")"
   ]
  },
  {
   "cell_type": "code",
   "execution_count": 7,
   "metadata": {
    "slideshow": {
     "slide_type": "subslide"
    }
   },
   "outputs": [
    {
     "data": {
      "text/plain": [
       "{'Chieti': 3.470136,\n",
       " \"L'Aquila\": 2.701029,\n",
       " 'Pescara': 3.59269,\n",
       " 'Teramo': 3.134951,\n",
       " 'Matera': 7.103830000000001,\n",
       " 'Potenza': 7.232769000000001,\n",
       " 'Bolzano': 2.907397,\n",
       " 'Catanzaro': inf,\n",
       " 'Cosenza': inf,\n",
       " 'Crotone': inf,\n",
       " 'Reggio di Calabria': inf,\n",
       " 'Vibo Valentia': inf,\n",
       " 'Avellino': 5.061338000000001,\n",
       " 'Benevento': 4.848592000000001,\n",
       " 'Caserta': 4.7596870000000004,\n",
       " 'Napoli': 4.9842390000000005,\n",
       " 'Salerno': 5.299880000000001,\n",
       " 'Bologna': 0.730198,\n",
       " 'Ferrara': 1.169991,\n",
       " 'Forlì-Cesena': 0.906381,\n",
       " 'Modena': 0.978238,\n",
       " 'Parma': 1.511454,\n",
       " 'Piacenza': 2.194877,\n",
       " 'Ravenna': 1.157285,\n",
       " \"Reggio nell'Emilia\": 1.192395,\n",
       " 'Rimini': 1.455689,\n",
       " 'Gorizia': 3.706014,\n",
       " 'Pordenone': 2.71536,\n",
       " 'Trieste': 3.974841,\n",
       " 'Udine': 3.300249,\n",
       " 'Frosinone': 3.0715460000000006,\n",
       " 'Latina': 3.2058360000000006,\n",
       " 'Rieti': 2.1633500000000003,\n",
       " 'Roma': 2.6081830000000004,\n",
       " 'Viterbo': 2.061916,\n",
       " 'Genova': 3.188689,\n",
       " 'Imperia': 4.271255,\n",
       " 'La Spezia': 1.480063,\n",
       " 'Savona': 3.652097,\n",
       " 'Bergamo': 2.6031910000000003,\n",
       " 'Brescia': 2.196202,\n",
       " 'Como': 3.1084870000000002,\n",
       " 'Cremona': 1.9388450000000002,\n",
       " 'Lecco': 2.897895,\n",
       " 'Lodi': 2.489919,\n",
       " 'Mantova': 1.506617,\n",
       " 'Milano': 2.8383789999999998,\n",
       " 'Monza e della Brianza': 2.8145510000000002,\n",
       " 'Pavia': 2.743749,\n",
       " 'Sondrio': 2.916677,\n",
       " 'Varese': 3.3217570000000003,\n",
       " 'Ancona': 2.507541,\n",
       " 'Ascoli Piceno': 3.0071630000000003,\n",
       " 'Fermo': 2.9489639999999997,\n",
       " 'Macerata': 2.649132,\n",
       " 'Pesaro e Urbino': 1.834786,\n",
       " 'Campobasso': 4.403401000000001,\n",
       " 'Isernia': 4.2353760000000005,\n",
       " 'Alessandria': 3.3526890000000003,\n",
       " 'Asti': 3.76418,\n",
       " 'Biella': 3.922346,\n",
       " 'Cuneo': 4.590156,\n",
       " 'Novara': 3.341842,\n",
       " 'Torino': 4.277373000000001,\n",
       " 'Verbano-Cusio-Ossola': 3.611807,\n",
       " 'Vercelli': 3.4936450000000003,\n",
       " 'Bari': 7.048739000000001,\n",
       " 'Barletta-Andria-Trani': 6.467652000000001,\n",
       " 'Brindisi': 8.49972,\n",
       " 'Foggia': 5.679577000000001,\n",
       " 'Lecce': 8.863333,\n",
       " 'Taranto': 7.767264000000001,\n",
       " 'Cagliari': inf,\n",
       " 'Nuoro': inf,\n",
       " 'Oristano': inf,\n",
       " 'Sassari': inf,\n",
       " 'Sud Sardegna': inf,\n",
       " 'Agrigento': inf,\n",
       " 'Caltanissetta': inf,\n",
       " 'Catania': inf,\n",
       " 'Enna': inf,\n",
       " 'Messina': inf,\n",
       " 'Palermo': inf,\n",
       " 'Ragusa': inf,\n",
       " 'Siracusa': inf,\n",
       " 'Trapani': inf,\n",
       " 'Arezzo': 0.695748,\n",
       " 'Firenze': 0,\n",
       " 'Grosseto': 1.056529,\n",
       " 'Livorno': 1.047989,\n",
       " 'Lucca': 0.758103,\n",
       " 'Massa Carrara': 1.158729,\n",
       " 'Pisa': 0.909096,\n",
       " 'Pistoia': 0.37628,\n",
       " 'Prato': 0.194018,\n",
       " 'Siena': 0.457428,\n",
       " 'Trento': 2.416833,\n",
       " 'Perugia': 1.316518,\n",
       " 'Terni': 1.920635,\n",
       " 'Aosta': 4.675934,\n",
       " 'Belluno': 2.6032770000000003,\n",
       " 'Padova': 1.7962690000000001,\n",
       " 'Rovigo': 1.460682,\n",
       " 'Treviso': 2.210887,\n",
       " 'Venezia': 2.106343,\n",
       " 'Verona': 1.773487,\n",
       " 'Vicenza': 1.885203}"
      ]
     },
     "execution_count": 7,
     "metadata": {},
     "output_type": "execute_result"
    }
   ],
   "source": [
    "distances"
   ]
  },
  {
   "cell_type": "code",
   "execution_count": 8,
   "metadata": {
    "slideshow": {
     "slide_type": "subslide"
    }
   },
   "outputs": [
    {
     "data": {
      "text/plain": [
       "{'Chieti': \"L'Aquila\",\n",
       " \"L'Aquila\": 'Terni',\n",
       " 'Pescara': 'Chieti',\n",
       " 'Teramo': \"L'Aquila\",\n",
       " 'Matera': 'Barletta-Andria-Trani',\n",
       " 'Potenza': 'Barletta-Andria-Trani',\n",
       " 'Bolzano': 'Trento',\n",
       " 'Catanzaro': inf,\n",
       " 'Cosenza': inf,\n",
       " 'Crotone': inf,\n",
       " 'Reggio di Calabria': inf,\n",
       " 'Vibo Valentia': inf,\n",
       " 'Avellino': 'Campobasso',\n",
       " 'Benevento': 'Campobasso',\n",
       " 'Caserta': 'Isernia',\n",
       " 'Napoli': 'Isernia',\n",
       " 'Salerno': 'Avellino',\n",
       " 'Bologna': 'Firenze',\n",
       " 'Ferrara': 'Bologna',\n",
       " 'Forlì-Cesena': 'Firenze',\n",
       " 'Modena': 'Prato',\n",
       " 'Parma': \"Reggio nell'Emilia\",\n",
       " 'Piacenza': 'Parma',\n",
       " 'Ravenna': 'Forlì-Cesena',\n",
       " \"Reggio nell'Emilia\": 'Pistoia',\n",
       " 'Rimini': 'Forlì-Cesena',\n",
       " 'Gorizia': 'Udine',\n",
       " 'Pordenone': 'Treviso',\n",
       " 'Trieste': 'Udine',\n",
       " 'Udine': 'Pordenone',\n",
       " 'Frosinone': 'Rieti',\n",
       " 'Latina': 'Roma',\n",
       " 'Rieti': 'Perugia',\n",
       " 'Roma': 'Terni',\n",
       " 'Viterbo': 'Perugia',\n",
       " 'Genova': 'Piacenza',\n",
       " 'Imperia': 'Savona',\n",
       " 'La Spezia': 'Massa Carrara',\n",
       " 'Savona': 'Genova',\n",
       " 'Bergamo': 'Cremona',\n",
       " 'Brescia': 'Mantova',\n",
       " 'Como': 'Monza e della Brianza',\n",
       " 'Cremona': \"Reggio nell'Emilia\",\n",
       " 'Lecco': 'Cremona',\n",
       " 'Lodi': 'Cremona',\n",
       " 'Mantova': 'Modena',\n",
       " 'Milano': 'Lodi',\n",
       " 'Monza e della Brianza': 'Cremona',\n",
       " 'Pavia': 'Piacenza',\n",
       " 'Sondrio': 'Brescia',\n",
       " 'Varese': 'Monza e della Brianza',\n",
       " 'Ancona': 'Pesaro e Urbino',\n",
       " 'Ascoli Piceno': 'Rieti',\n",
       " 'Fermo': 'Macerata',\n",
       " 'Macerata': 'Pesaro e Urbino',\n",
       " 'Pesaro e Urbino': 'Rimini',\n",
       " 'Campobasso': 'Chieti',\n",
       " 'Isernia': 'Chieti',\n",
       " 'Alessandria': 'Pavia',\n",
       " 'Asti': 'Alessandria',\n",
       " 'Biella': 'Novara',\n",
       " 'Cuneo': 'Asti',\n",
       " 'Novara': 'Pavia',\n",
       " 'Torino': 'Vercelli',\n",
       " 'Verbano-Cusio-Ossola': 'Monza e della Brianza',\n",
       " 'Vercelli': 'Pavia',\n",
       " 'Bari': 'Barletta-Andria-Trani',\n",
       " 'Barletta-Andria-Trani': 'Foggia',\n",
       " 'Brindisi': 'Taranto',\n",
       " 'Foggia': 'Benevento',\n",
       " 'Lecce': 'Brindisi',\n",
       " 'Taranto': 'Matera',\n",
       " 'Cagliari': inf,\n",
       " 'Nuoro': inf,\n",
       " 'Oristano': inf,\n",
       " 'Sassari': inf,\n",
       " 'Sud Sardegna': inf,\n",
       " 'Agrigento': inf,\n",
       " 'Caltanissetta': inf,\n",
       " 'Catania': inf,\n",
       " 'Enna': inf,\n",
       " 'Messina': inf,\n",
       " 'Palermo': inf,\n",
       " 'Ragusa': inf,\n",
       " 'Siracusa': inf,\n",
       " 'Trapani': inf,\n",
       " 'Arezzo': 'Firenze',\n",
       " 'Firenze': inf,\n",
       " 'Grosseto': 'Siena',\n",
       " 'Livorno': 'Prato',\n",
       " 'Lucca': 'Firenze',\n",
       " 'Massa Carrara': 'Pistoia',\n",
       " 'Pisa': 'Prato',\n",
       " 'Pistoia': 'Firenze',\n",
       " 'Prato': 'Firenze',\n",
       " 'Siena': 'Firenze',\n",
       " 'Trento': 'Verona',\n",
       " 'Perugia': 'Arezzo',\n",
       " 'Terni': 'Perugia',\n",
       " 'Aosta': 'Biella',\n",
       " 'Belluno': 'Padova',\n",
       " 'Padova': 'Ferrara',\n",
       " 'Rovigo': 'Bologna',\n",
       " 'Treviso': 'Rovigo',\n",
       " 'Venezia': 'Ferrara',\n",
       " 'Verona': 'Modena',\n",
       " 'Vicenza': 'Ferrara'}"
      ]
     },
     "execution_count": 8,
     "metadata": {},
     "output_type": "execute_result"
    }
   ],
   "source": [
    "predecessors"
   ]
  },
  {
   "cell_type": "markdown",
   "metadata": {
    "slideshow": {
     "slide_type": "subslide"
    }
   },
   "source": [
    "## Putting all together\n",
    "```python\n",
    "def bellman_ford_shortest_path(self, source_vertex, SPFA=True):\n",
    "\tif SPFA:\n",
    "\t\tdistances, predecessors = self.bellman_ford_SPFA(source_vertex)\n",
    "\telse:\n",
    "\t\tdistances, predecessors = self.bellman_ford(source_vertex)\n",
    "\tall__shortest_paths = []\n",
    "\tnodes = list(self.graph.nodes(data=True))\n",
    "\tfor target_vertex in nodes:\n",
    "\t\ttarget_vertex = target_vertex[0]\n",
    "\t\tif predecessors[target_vertex] == math.inf:\n",
    "\t\t\tcontinue\n",
    "\t\t# using the predecessors of each node to build the shortest path\n",
    "\t\tshortest_path = []\n",
    "\t\tcurrent_node = target_vertex\n",
    "\t\tshortest_path.append(target_vertex)\n",
    "\t\twhile current_node != source_vertex:\n",
    "\t\t\tcurrent_node = predecessors[current_node]\n",
    "\t\t\t# no path between the two nodes: exiting from the loop\n",
    "\t\t\tif current_node is None:\n",
    "\t\t\t\tbreak\n",
    "\t\t\tshortest_path.append(current_node)\n",
    "\t\tif len(shortest_path) != 1:\n",
    "\t\t\tall__shortest_paths.append(shortest_path)\n",
    "\treturn all__shortest_paths\n",
    "```"
   ]
  },
  {
   "cell_type": "markdown",
   "metadata": {
    "slideshow": {
     "slide_type": "subslide"
    }
   },
   "source": [
    "The output obtained by this computation:"
   ]
  },
  {
   "cell_type": "code",
   "execution_count": 9,
   "metadata": {
    "slideshow": {
     "slide_type": "fragment"
    }
   },
   "outputs": [
    {
     "data": {
      "text/plain": [
       "[['Chieti', \"L'Aquila\", 'Terni', 'Perugia', 'Arezzo', 'Firenze'],\n",
       " [\"L'Aquila\", 'Terni', 'Perugia', 'Arezzo', 'Firenze'],\n",
       " ['Pescara', 'Chieti', \"L'Aquila\", 'Terni', 'Perugia', 'Arezzo', 'Firenze'],\n",
       " ['Teramo', \"L'Aquila\", 'Terni', 'Perugia', 'Arezzo', 'Firenze'],\n",
       " ['Matera',\n",
       "  'Barletta-Andria-Trani',\n",
       "  'Foggia',\n",
       "  'Benevento',\n",
       "  'Campobasso',\n",
       "  'Chieti',\n",
       "  \"L'Aquila\",\n",
       "  'Terni',\n",
       "  'Perugia',\n",
       "  'Arezzo',\n",
       "  'Firenze']]"
      ]
     },
     "execution_count": 9,
     "metadata": {},
     "output_type": "execute_result"
    }
   ],
   "source": [
    "P.bellman_ford_shortest_path(\"Firenze\", SPFA=True)[:5]"
   ]
  },
  {
   "cell_type": "code",
   "execution_count": 10,
   "metadata": {
    "slideshow": {
     "slide_type": "fragment"
    }
   },
   "outputs": [
    {
     "name": "stdout",
     "output_type": "stream",
     "text": [
      "2.58 ms ± 30.1 µs per loop (mean ± std. dev. of 7 runs, 100 loops each)\n"
     ]
    }
   ],
   "source": [
    "%timeit P.bellman_ford_shortest_path(\"Firenze\", SPFA=True)"
   ]
  },
  {
   "cell_type": "code",
   "execution_count": 11,
   "metadata": {
    "slideshow": {
     "slide_type": "notes"
    }
   },
   "outputs": [],
   "source": [
    "# Building the TOY graph of provinces (for example, slice [75:85])\n",
    "provinces_already_annotated = []\n",
    "P_toy = GraphManager()\n",
    "for province_data in parsed_file[75:85]:\n",
    "    # extracting information from the JSON\n",
    "    if province_data['sigla_provincia'] != '' and province_data[\n",
    "        'sigla_provincia'] not in provinces_already_annotated:\n",
    "        provinces_already_annotated.append(province_data['sigla_provincia'])\n",
    "        province = province_data['denominazione_provincia']\n",
    "        position_x = province_data['long']\n",
    "        position_y = province_data['lat']\n",
    "        # adding each province to the graph\n",
    "        P_toy.add_node_to_graph(province, position_x, position_y)\n",
    "P_toy.add_edges()"
   ]
  },
  {
   "cell_type": "markdown",
   "metadata": {
    "slideshow": {
     "slide_type": "slide"
    }
   },
   "source": [
    "\n",
    "# Centrality \n",
    "\n",
    "In network analysis, indicators of **centrality** identify the most important vertices within a graph.\n",
    "![title](./imgs/important_node.png)\n",
    "Applications:\n",
    "- Identifying the most influential person(s) in a social network\n",
    "  \n",
    "- Key infrastructure nodes in the Internet\n",
    "  \n",
    "- Super-spreaders of disease."
   ]
  },
  {
   "cell_type": "markdown",
   "metadata": {
    "slideshow": {
     "slide_type": "subslide"
    }
   },
   "source": [
    "# Betweenness Centrality \n",
    "\n",
    "### First intuition\n",
    "It was introduced as a measure for quantifying the control of a human on the communication between other humans in a social network by *Linton Freeman*. In his conception, vertices that have a high probability to occur on a randomly chosen **shortest path** between two randomly chosen vertices have a high betweenness.<br>\n",
    "<img src=\"./imgs/linfreeman.jpg\" width=\"20%\" align=\"right\">"
   ]
  },
  {
   "cell_type": "markdown",
   "metadata": {
    "slideshow": {
     "slide_type": "subslide"
    }
   },
   "source": [
    "Betweenness centrality, in Graph Theory, is a measure of centrality in a graph based on shortest paths. Vertices with high betweenness may have considerable influence within a network by virtue of their control over information passing between others. They are also the ones whose removal from the network will most disrupt communications between other vertices because they lie on the largest number of paths taken by messages."
   ]
  },
  {
   "cell_type": "markdown",
   "metadata": {
    "slideshow": {
     "slide_type": "fragment"
    }
   },
   "source": [
    "More compactly the betweenness can be represented as:\n",
    "\n",
    "<div align=\"center\">$g(v) =\\sum\\limits_{s\\neq v\\neq t \\in V} \\frac{\\sigma_{st}(v)}{\\sigma_{st}}$</div>\n",
    "\n",
    "\n",
    "where **$\\sigma_{st}$** is total number of shortest paths from node $s$ to node $t$ and **$\\sigma_{st}(v)$** is the number of those paths that pass through $v$."
   ]
  },
  {
   "cell_type": "markdown",
   "metadata": {
    "slideshow": {
     "slide_type": "subslide"
    }
   },
   "source": [
    "# Toy example\n",
    "\n",
    "<img src=\"./imgs/bc_toy_example.png\" width=600>"
   ]
  },
  {
   "cell_type": "markdown",
   "metadata": {
    "slideshow": {
     "slide_type": "subslide"
    }
   },
   "source": [
    "# Betweenness centrality in large graphs\n",
    "The betweenness centrality of a node scales with the number of pairs of nodes. Therefore, the calculation may be rescaled by dividing through by the number of pairs of nodes not including $v$, so that $g(v)\\in[0,1]$. The division is done by $(N−1)(N−2)$ for directed graphs and $\\frac{(N−1)(N−2)}{2}$ for undirected graphs, where $N$ is the number of nodes."
   ]
  },
  {
   "cell_type": "markdown",
   "metadata": {
    "slideshow": {
     "slide_type": "subslide"
    }
   },
   "source": [
    "### A handy benefit to betwenness centrality \n",
    "You don't need a fully connected graph or component to calculate it\n",
    "![title](./imgs/component.png)"
   ]
  },
  {
   "cell_type": "code",
   "execution_count": 12,
   "metadata": {
    "slideshow": {
     "slide_type": "-"
    }
   },
   "outputs": [
    {
     "name": "stdout",
     "output_type": "stream",
     "text": [
      "{'Torino': 0.0, 'Verbano-Cusio-Ossola': 0.0, 'Vercelli': 0.03571428571428571, 'Bari': 0.21428571428571427, 'Barletta-Andria-Trani': 0.14285714285714285, 'Brindisi': 0.14285714285714285, 'Foggia': 0.0, 'Lecce': 0.0, 'Taranto': 0.21428571428571427}\n"
     ]
    }
   ],
   "source": [
    "print(P_toy.betweenness_centrality())"
   ]
  },
  {
   "cell_type": "markdown",
   "metadata": {
    "slideshow": {
     "slide_type": "subslide"
    }
   },
   "source": [
    "## Some common algorithms\n",
    "\n",
    "Calculating the betweenness centrality of all the vertices in a graph involves calculating the shortest paths between all pairs of vertices on a graph, which takes:\n",
    "* $Θ(|V|^3)$ for weighted graphs *([Floyd–Warshall algorithm](https://en.wikipedia.org/wiki/Floyd%E2%80%93Warshall_algorithm))*.<br> $O(|V|^2 log|V| + |V||E|)$ on sparse graphs *([Johnson's algorithm](https://en.wikipedia.org/wiki/Johnson%27s_algorithm) or [Brandes' algorithm](https://web.archive.org/web/20171013152036/http://algo.uni-konstanz.de/publications/b-fabc-01.pdf))*<br><br>\n",
    "* $O(|V||E|)$ for unweighted graphs *(Brandes' algorithm)*.\n",
    "\n",
    "\n",
    "A single execution of the algorithms will find the shortest paths between all pairs of vertices. "
   ]
  },
  {
   "cell_type": "markdown",
   "metadata": {
    "slideshow": {
     "slide_type": "subslide"
    }
   },
   "source": [
    "# Our implementation\n",
    "\n",
    "Here is a snippet of our implementation in $O(|V|^3|E|)$, we used *Bellman-Ford's alghoritm* to find the shortest paths from a source node $i$ to $v$, with $v \\in V$\n",
    "```python\n",
    "def betweenness_centrality(self, SPFA=True):\n",
    "    nodes = list(self.graph.nodes(data=True))\n",
    "    N = len(nodes)\n",
    "    # Initialize the betweenness centrality to 0 for each node\n",
    "    BC = {nodes[i][0]: 0 for i in range(N)}  \n",
    "    for i in range(N):\n",
    "        paths_lists = self.bellman_ford_shortest_path(nodes[i][0], SPFA=SPFA)\n",
    "        for path in paths_lists:\n",
    "            for node in path[1:-1]:\n",
    "                BC[node] += 1\n",
    "    # Normalize\n",
    "    for i in BC:\n",
    "        BC[i] /= ((N - 1) * (N - 2))\n",
    "    return BC\n",
    "```"
   ]
  },
  {
   "cell_type": "code",
   "execution_count": 13,
   "metadata": {
    "slideshow": {
     "slide_type": "fragment"
    }
   },
   "outputs": [
    {
     "name": "stdout",
     "output_type": "stream",
     "text": [
      "241 ms ± 3.18 ms per loop (mean ± std. dev. of 7 runs, 1 loop each)\n",
      "67.4 ms ± 257 µs per loop (mean ± std. dev. of 7 runs, 10 loops each)\n",
      "4min 49s ± 5.22 s per loop (mean ± std. dev. of 7 runs, 1 loop each)\n",
      "1min 9s ± 615 ms per loop (mean ± std. dev. of 7 runs, 1 loop each)\n"
     ]
    }
   ],
   "source": [
    "%timeit P.betweenness_centrality()\n",
    "%timeit nx.betweenness_centrality(P.graph, weight='label', normalized=True)\n",
    "%timeit R.betweenness_centrality()\n",
    "%timeit nx.betweenness_centrality(R.graph, weight='label', normalized=True)"
   ]
  },
  {
   "cell_type": "markdown",
   "metadata": {
    "slideshow": {
     "slide_type": "subslide"
    }
   },
   "source": [
    "# Implementation decisions making\n",
    "* In our implementation we used the Bellman-Ford algorithm (which is not good for this kind of problem) to calculate the shortest path between two nodes. This forced us to calculate the shortes path in both directions, therefore we needed to divide by 2 the result of the betweenness of the considered node. <br>The total complexity of the this algorithm is $O(|V|^3|E|)$ while Floyd–Warshall algorithm takes $Θ(|V|^3)$\n",
    "\n",
    "\n"
   ]
  },
  {
   "cell_type": "markdown",
   "metadata": {
    "slideshow": {
     "slide_type": "fragment"
    }
   },
   "source": [
    "* Due to the great precision of the distances between the various nodes (graph **P** and **R**) and for the definition of the Bellman-Ford's algorithm itself, we thought it was appropriate to simplify the algorithm assuming that there could be at most one shortest path between each pair of nodes."
   ]
  },
  {
   "cell_type": "code",
   "execution_count": 14,
   "metadata": {},
   "outputs": [
    {
     "name": "stdout",
     "output_type": "stream",
     "text": [
      "Our Implementation:  [('Chieti', 0.19748427672955976), (\"L'Aquila\", 0.06037735849056604), ('Pescara', 0.005750224618149146)]\n",
      "\n",
      "\n",
      "Networkx method:  [('Chieti', 0.19748427672955976), (\"L'Aquila\", 0.06037735849056604), ('Pescara', 0.005750224618149146)]\n"
     ]
    }
   ],
   "source": [
    "print(\"Our Implementation: \",list(P.betweenness_centrality().items())[0:3])\n",
    "print(\"\\n\\nNetworkx method: \",list(nx.betweenness_centrality(P.graph, weight='label').items())[0:3])"
   ]
  },
  {
   "cell_type": "markdown",
   "metadata": {
    "slideshow": {
     "slide_type": "subslide"
    }
   },
   "source": [
    "* Due to the large number of nodes we normalized the value of the betweenness so that $g(v)\\in[0,1]$. The division is done by $\\frac{(N−1)(N−2)}{2}$ cause we are working with an undirected graph."
   ]
  },
  {
   "cell_type": "markdown",
   "metadata": {
    "slideshow": {
     "slide_type": "fragment"
    }
   },
   "source": [
    "* Based on the considerations made, the final formula for calculating the betweenness centrality of a node $v$ is <div align=\"center\">$g(v) =\\frac{\\sum\\limits_{s\\neq v\\neq t \\in V} \\frac{\\sigma_{st}(v)}{\\sigma_{st}}}{2}\\frac{2}{(N-1)(N-2)} = \\frac{\\sum\\limits_{s\\neq v\\neq t \\in V} \\frac{\\sigma_{st}(v)}{\\sigma_{st}}}{(N-1)(N-2)}$\n",
    "</div> <br>where $\\sigma_{st}(v)$, $\\sigma_{st} \\in \\{0,1\\}$.\n"
   ]
  }
 ],
 "metadata": {
  "celltoolbar": "Slideshow",
  "kernelspec": {
   "display_name": "Python 3",
   "language": "python",
   "name": "python3"
  },
  "language_info": {
   "codemirror_mode": {
    "name": "ipython",
    "version": 3
   },
   "file_extension": ".py",
   "mimetype": "text/x-python",
   "name": "python",
   "nbconvert_exporter": "python",
   "pygments_lexer": "ipython3",
   "version": "3.8.2"
  }
 },
 "nbformat": 4,
 "nbformat_minor": 4
}
