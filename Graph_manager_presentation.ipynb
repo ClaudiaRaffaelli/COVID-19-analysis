{
 "cells": [
  {
   "cell_type": "code",
   "execution_count": 32,
   "metadata": {
    "slideshow": {
     "slide_type": "notes"
    }
   },
   "outputs": [
    {
     "name": "stdout",
     "output_type": "stream",
     "text": [
      "Requirement already satisfied: pygraphviz in /Library/Frameworks/Python.framework/Versions/3.7/lib/python3.7/site-packages (1.5)\r\n"
     ]
    }
   ],
   "source": [
    "!pip install pygraphviz"
   ]
  },
  {
   "cell_type": "code",
   "execution_count": 2,
   "metadata": {
    "slideshow": {
     "slide_type": "notes"
    }
   },
   "outputs": [],
   "source": [
    "from graph_manager import GraphManager\n",
    "import networkx as nx\n",
    "import json\n",
    "import math\n",
    "import random\n",
    "import time\n",
    "from collections import deque\n",
    "import matplotlib as plt"
   ]
  },
  {
   "cell_type": "code",
   "execution_count": 3,
   "metadata": {
    "slideshow": {
     "slide_type": "notes"
    }
   },
   "outputs": [],
   "source": [
    "with open(\"./dati-json/dpc-covid19-ita-province.json\") as f:\n",
    "    parsed_file = json.load(f)\n",
    "\n",
    "# Building the graph of provinces\n",
    "provinces_already_annotated = []\n",
    "P = GraphManager()\n",
    "for province_data in parsed_file[75:85]:\n",
    "    # extracting information from the JSON\n",
    "    if province_data['sigla_provincia'] != '' and province_data[\n",
    "        'sigla_provincia'] not in provinces_already_annotated:\n",
    "        provinces_already_annotated.append(province_data['sigla_provincia'])\n",
    "        province = province_data['denominazione_provincia']\n",
    "        position_x = province_data['long']\n",
    "        position_y = province_data['lat']\n",
    "        # adding each province to the graph\n",
    "        P.add_node_to_graph(province, position_x, position_y)\n",
    "\n",
    "# Building the graph of doubles\n",
    "R = GraphManager()\n",
    "# Generate 2000 pairs of double (x,y)\n",
    "for i in range(2000):\n",
    "    x = random.randrange(30, 50)\n",
    "    y = random.randrange(10, 20)\n",
    "    R.add_node_to_graph(str(i), x, y)"
   ]
  },
  {
   "cell_type": "markdown",
   "metadata": {
    "slideshow": {
     "slide_type": "slide"
    }
   },
   "source": [
    "<div align=\"right\">Abdullah Chaudhry <br>\n",
    "Claudia Raffelli\n",
    "<img src=\"./imgs/Logo-unifi.png\" style=\"float:left;overflow: auto\" width=\"10%\">\n",
    "</div>\n",
    "<br><br>\n",
    "<div align=\"center\"><b> Abstract </b><br>\n",
    "These slides describe a technique to calculate the Betweenness Centrality of a graph's nodes using Bellman-Ford's algorithm</div>"
   ]
  },
  {
   "cell_type": "code",
   "execution_count": 1,
   "metadata": {},
   "outputs": [],
   "source": [
    "__AUTHORS__ = {'ac': (\"Abdullah Chaudhry\", \n",
    "                      \"abdullah.chaudhry@stud.unifi.it\",\n",
    "                      \"https://github.com/chabdullah\"),\n",
    "               'cr': (\"Claudia Raffaelli\", \n",
    "                      \"caludia.raffaelli@stud.unifi.it\", \n",
    "                      \"https://github.com/ClaudiaRaffaelli\",)}\n",
    "\n",
    "__KEYWORDS__ = ['Python', 'Jupyter', 'notebooks', 'Bellman-Ford', 'Betweenness-Centrality', 'graphs']"
   ]
  },
  {
   "cell_type": "markdown",
   "metadata": {},
   "source": [
    "<div align=\"center\"><img src=\"./imgs/Python-logo-notext.svg\"></div>"
   ]
  },
  {
   "cell_type": "markdown",
   "metadata": {
    "pycharm": {
     "name": "#%% md\n"
    },
    "slideshow": {
     "slide_type": "slide"
    }
   },
   "source": [
    "## Graph building\n",
    "TODO aggiungere qualcosa riguardo a come abbiamo implementato l'aggiunta degli archi, per far vedere che è fatta in modo efficiente."
   ]
  },
  {
   "cell_type": "code",
   "execution_count": 4,
   "metadata": {
    "pycharm": {
     "name": "#%%\n"
    },
    "slideshow": {
     "slide_type": "fragment"
    }
   },
   "outputs": [
    {
     "name": "stdout",
     "output_type": "stream",
     "text": [
      "50.4 µs ± 902 ns per loop (mean ± std. dev. of 7 runs, 10000 loops each)\n",
      "165 ms ± 10.2 ms per loop (mean ± std. dev. of 7 runs, 10 loops each)\n"
     ]
    }
   ],
   "source": [
    "# Inserting the edges according to the distance between each node\n",
    "%timeit P.add_edges()\n",
    "%timeit R.add_edges()"
   ]
  },
  {
   "cell_type": "markdown",
   "metadata": {
    "pycharm": {
     "name": "#%% md\n"
    },
    "slideshow": {
     "slide_type": "slide"
    }
   },
   "source": [
    "# Shortest paths\n",
    "\n",
    "In graph theory, the **shortest path problem** is the problem of finding a path between two vertices (or nodes) in a graph such that the sum of the weights of its constituent edges is minimized.\n",
    "\n",
    "<img src=\"./imgs/shortest_path.png\" alt=\"Drawing\" style=\"width: 500px;\"/>\n",
    "Applications:\n",
    "- Shortest path algorithms are applied to automatically find directions between physical locations, such as driving directions on web mapping websites like Google Maps\n",
    "- Considering a nondeterministic abstract machine as a graph where vertices describe states and edges describe possible transitions, shortest path algorithms can be used to find an optimal sequence of choices to reach a certain goal state\n"
   ]
  },
  {
   "cell_type": "markdown",
   "metadata": {
    "slideshow": {
     "slide_type": "subslide"
    }
   },
   "source": [
    "# Bellman-Ford algorithm\n",
    "\n",
    "The Bellman–Ford algorithm is an algorithm that computes shortest paths from a single source vertex to all of the other vertices in a **weighted digraph**. It is slower than Dijkstra's algorithm for the same problem, but more versatile, as it is capable of handling graphs in which some of the edge weights are negative numbers. \n",
    "\n",
    "Negative edge weights are found in various applications of graphs, hence the usefulness of this algorithm. If a graph contains a **\"negative cycle\"** (i.e. a cycle whose edges sum to a negative value) that is reachable from the source, then there is no cheapest path: any path that has a point on the negative cycle can be made cheaper by one more walk around the negative cycle. In such a case, the Bellman–Ford algorithm can detect and report the negative cycle.\n"
   ]
  },
  {
   "cell_type": "markdown",
   "metadata": {
    "slideshow": {
     "slide_type": "fragment"
    }
   },
   "source": [
    "## First intuition\n",
    "Like Dijkstra's algorithm, Bellman–Ford proceeds by relaxation, in which approximations to the correct distance are replaced by better ones until they eventually reach the solution. In both algorithms, the approximate distance to each vertex is always an overestimate of the true distance, and is replaced by the minimum of its old value and the length of a newly found path.\n",
    "\n",
    "Bellman–Ford algorithm simply relaxes all the edges, $|V|-1$ times, where $|V|$ is the number of vertices in the graph. In each of these repetitions, the number of vertices with correctly calculated distances grows, from which it follows that eventually all vertices will have their correct distances. \n"
   ]
  },
  {
   "cell_type": "markdown",
   "metadata": {},
   "source": [
    "## Toy Example\n",
    "\n",
    "<table><tr>\n",
    "<td> <img src=\"./imgs/bellman_0.png\" alt=\"Iteration_0\" style=\"width: 350px;\"/> </td>\n",
    "<td> <img src=\"./imgs/bellman_1.png\" alt=\"Iteration_1\" style=\"width: 350px;\"/> </td>\n",
    "<td> <img src=\"./imgs/bellman_2.png\" alt=\"Iteration_2\" style=\"width: 350px;\"/> </td>\n",
    "</tr></table>\n",
    "\n",
    "- **Iteration 0:** all distances are initialized from source vertex A,\n",
    "- **Iteration 1:** all edges are processed in the order (B,E), (D,B), (B,D), (A,B), (A,C), (D,C), (B,C), (E,D). Found all shortest paths which are at most 1 edge long,\n",
    "- **Iteration 2:** processing again all edges. All shortest paths which are at most 2 edges long are found,\n",
    "- **Iteration 3 and 4:** useless."
   ]
  },
  {
   "cell_type": "markdown",
   "metadata": {},
   "source": [
    "## Our First Implementation\n",
    "\n",
    "```python\n",
    "def bellman_ford(self, source_vertex):\n",
    "\tvertices = list(self.graph.nodes())\n",
    "\t\n",
    "    distances = dict.fromkeys(self.graph.nodes(), math.inf)\n",
    "\tpredecessors = dict.fromkeys(self.graph.nodes(), None)\n",
    "\tdistances[source_vertex] = 0\n",
    "    \n",
    "\tcount = len(vertices) - 1\n",
    "\twhile count > 0:\n",
    "\t\tsomething_has_changed = False\n",
    "\t\tfor (u, v) in self.graph.edges():\n",
    "\t\t\tif distances[u] + float(self.graph[u][v]['label']) < distances[v]:\n",
    "\t\t\t\tdistances[v] = distances[u] + float(self.graph[u][v]['label'])\n",
    "\t\t\t\tpredecessors[v] = u\n",
    "\t\t\t\tsomething_has_changed = True\n",
    "\t\t\tif distances[v] + float(self.graph[v][u]['label']) < distances[u]:\n",
    "\t\t\t\tdistances[u] = distances[v] + float(self.graph[v][u]['label'])\n",
    "\t\t\t\tpredecessors[u] = v\n",
    "\t\t\t\tsomething_has_changed = True\t\t\n",
    "\t\tif something_has_changed is False:\n",
    "\t\t\tbreak\n",
    "\t\tcount -= 1\n",
    "\treturn distances, predecessors\n",
    "```"
   ]
  },
  {
   "cell_type": "markdown",
   "metadata": {},
   "source": [
    "### Computation time\n",
    "Bellman–Ford runs in $O(|V|\\cdot |E|)$ time, where $|V|$ and $|E|$ are the number of vertices and edges respectively at its worst case. \n",
    "\n",
    "The Bellman–Ford algorithm may be improved in practice (although not in the worst case) by the observation that, if an iteration of the main loop of the algorithm terminates without making any changes, the algorithm can be immediately terminated, as subsequent iterations will not make any more changes. With this early termination condition, the main loop may in some cases use many fewer than $|V| − 1$ iterations, even though the worst case of the algorithm remains unchanged."
   ]
  },
  {
   "cell_type": "markdown",
   "metadata": {},
   "source": [
    "## New strategy\n",
    "The **Shortest Path Faster Algorithm (SPFA)** is an improvement of the Bellman–Ford algorithm which computes single-source shortest paths in a weighted directed graph. The algorithm is believed to work well on random sparse graphs and is particularly suitable for graphs that contain negative-weight edges. However, the worst-case complexity of SPFA is the same as that of Bellman–Ford, so for graphs with nonnegative edge weights Dijkstra's algorithm is still preferred.\n",
    "\n",
    "The basic idea of SPFA is the same as Bellman–Ford algorithm in that each vertex is used as a candidate to relax its adjacent vertices. The improvement over the latter is that instead of trying all vertices blindly, SPFA maintains a **queue** of candidate vertices and adds a vertex to the queue only if that vertex is relaxed. This process repeats until no more vertex can be relaxed."
   ]
  },
  {
   "cell_type": "markdown",
   "metadata": {},
   "source": [
    "## Our Second Implementation\n",
    "```python\n",
    "def bellman_ford_SPFA(self, source_vertex):\t\n",
    "\tdistances = dict.fromkeys(self.graph.nodes(), math.inf)\n",
    "\talready_in_queue = dict.fromkeys(self.graph.nodes(), False)\n",
    "\tpredecessors = dict.fromkeys(self.graph.nodes(), math.inf)\n",
    "\tdistances[source_vertex] = 0\n",
    "    \n",
    "\tq = deque()\n",
    "\tq.append(source_vertex)\n",
    "\talready_in_queue[source_vertex] = True\n",
    "\twhile len(q) > 0:\n",
    "\t\tu = q.popleft()\n",
    "\t\tfor (u, v) in self.graph.edges(u):\n",
    "\t\t\tif distances[u] + float(self.graph[u][v]['label']) < distances[v]:\n",
    "\t\t\t\tdistances[v] = distances[u] + float(self.graph[u][v]['label'])\n",
    "\t\t\t\tif not already_in_queue[v]:\n",
    "\t\t\t\t\tq.append(v)\n",
    "\t\t\t\t\talready_in_queue[v] = True\n",
    "\t\t\t\tpredecessors[v] = u\n",
    "\t\t\tif distances[v] + float(self.graph[v][u]['label']) < distances[u]:\n",
    "\t\t\t\tdistances[u] = distances[v] + float(self.graph[v][u]['label'])\n",
    "\t\t\t\tif not already_in_queue[u]:\n",
    "\t\t\t\t\tq.append(u)\n",
    "\t\t\t\t\talready_in_queue[u] = True\n",
    "\t\t\t\tpredecessors[u] = v\n",
    "\treturn distances, predecessors\n",
    "```"
   ]
  },
  {
   "cell_type": "markdown",
   "metadata": {},
   "source": [
    "### Computation time\n",
    "\n",
    "The worst-case running time of the algorithm is $O(|V|\\cdot|E|)$ , just like the standard Bellman-Ford algorithm. However experiments suggest that the average running time is $O(|E|)$. \n",
    "\n",
    "We can now compare the two strategies."
   ]
  },
  {
   "cell_type": "code",
   "execution_count": null,
   "metadata": {
    "pycharm": {
     "name": "#%%\n"
    }
   },
   "outputs": [],
   "source": [
    "%timeit P.bellman_ford('Firenze')\n",
    "%timeit P.bellman_ford_SPFA('Firenze')"
   ]
  },
  {
   "cell_type": "markdown",
   "metadata": {},
   "source": [
    "## Putting all together\n",
    "```python\n",
    "def bellman_ford_shortest_path(self, source_vertex, SPFA=True):\n",
    "\tif SPFA:\n",
    "\t\tdistances, predecessors = self.bellman_ford_SPFA(source_vertex)\n",
    "\telse:\n",
    "\t\tdistances, predecessors = self.bellman_ford(source_vertex)\n",
    "\tall__shortest_paths = []\n",
    "\tnodes = list(self.graph.nodes(data=True))\n",
    "\tfor target_vertex in nodes:\n",
    "\t\ttarget_vertex = target_vertex[0]\n",
    "\t\tif predecessors[target_vertex] == math.inf:\n",
    "\t\t\tcontinue\n",
    "\t\t# using the predecessors of each node to build the shortest path\n",
    "\t\tshortest_path = []\n",
    "\t\tcurrent_node = target_vertex\n",
    "\t\tshortest_path.append(target_vertex)\n",
    "\t\twhile current_node != source_vertex:\n",
    "\t\t\tcurrent_node = predecessors[current_node]\n",
    "\t\t\t# raising an exception if there is not path between the two nodes considered\n",
    "\t\t\tif current_node is None:\n",
    "\t\t\t\traise ValueError(\"There is no path between node \" +target_vertex+\" and node \" + source_vertex)\n",
    "\t\t\tshortest_path.append(current_node)\n",
    "\t\tall__shortest_paths.append(shortest_path)\n",
    "\treturn all__shortest_paths\n",
    "```"
   ]
  },
  {
   "cell_type": "markdown",
   "metadata": {
    "slideshow": {
     "slide_type": "subslide"
    }
   },
   "source": [
    "\n",
    "# Centrality \n",
    "\n",
    "In network analysis, indicators of **centrality** identify the most important vertices within a graph.\n",
    "![title](./imgs/important_node.png)\n",
    "Applications:\n",
    "- Identifying the most influential person(s) in a social network\n",
    "  \n",
    "- Key infrastructure nodes in the Internet\n",
    "  \n",
    "- Super-spreaders of disease."
   ]
  },
  {
   "cell_type": "markdown",
   "metadata": {
    "slideshow": {
     "slide_type": "subslide"
    }
   },
   "source": [
    "## Our First Implementation\n",
    "\n",
    "```python\n",
    "def bellman_ford(self, source_vertex):\n",
    "\tvertices = list(self.graph.nodes())\n",
    "\t\n",
    "    distances = dict.fromkeys(self.graph.nodes(), math.inf)\n",
    "\tpredecessors = dict.fromkeys(self.graph.nodes(), None)\n",
    "\tdistances[source_vertex] = 0\n",
    "    \n",
    "\tcount = len(vertices) - 1\n",
    "\twhile count > 0:\n",
    "\t\tsomething_has_changed = False\n",
    "\t\tfor (u, v) in self.graph.edges():\n",
    "\t\t\tif distances[u] + float(self.graph[u][v]['label']) < distances[v]:\n",
    "\t\t\t\tdistances[v] = distances[u] + float(self.graph[u][v]['label'])\n",
    "\t\t\t\tpredecessors[v] = u\n",
    "\t\t\t\tsomething_has_changed = True\n",
    "\t\t\tif distances[v] + float(self.graph[v][u]['label']) < distances[u]:\n",
    "\t\t\t\tdistances[u] = distances[v] + float(self.graph[v][u]['label'])\n",
    "\t\t\t\tpredecessors[u] = v\n",
    "\t\t\t\tsomething_has_changed = True\t\t\n",
    "\t\tif something_has_changed is False:\n",
    "\t\t\tbreak\n",
    "\t\tcount -= 1\n",
    "\treturn distances, predecessors\n",
    "```"
   ]
  },
  {
   "cell_type": "markdown",
   "metadata": {
    "slideshow": {
     "slide_type": "subslide"
    }
   },
   "source": [
    "### Computation time\n",
    "Bellman–Ford runs in $O(|V|\\cdot |E|)$ time, where $|V|$ and $|E|$ are the number of vertices and edges respectively at its worst case. \n",
    "\n",
    "The Bellman–Ford algorithm may be improved in practice (although not in the worst case) by the observation that, if an iteration of the main loop of the algorithm terminates without making any changes, the algorithm can be immediately terminated, as subsequent iterations will not make any more changes. With this early termination condition, the main loop may in some cases use many fewer than $|V| − 1$ iterations, even though the worst case of the algorithm remains unchanged."
   ]
  },
  {
   "cell_type": "markdown",
   "metadata": {
    "slideshow": {
     "slide_type": "subslide"
    }
   },
   "source": [
    "## New strategy\n",
    "The **Shortest Path Faster Algorithm (SPFA)** is an improvement of the Bellman–Ford algorithm which computes single-source shortest paths in a weighted directed graph. The algorithm is believed to work well on random sparse graphs and is particularly suitable for graphs that contain negative-weight edges. However, the worst-case complexity of SPFA is the same as that of Bellman–Ford, so for graphs with nonnegative edge weights Dijkstra's algorithm is still preferred.\n",
    "\n",
    "The basic idea of SPFA is the same as Bellman–Ford algorithm in that each vertex is used as a candidate to relax its adjacent vertices. The improvement over the latter is that instead of trying all vertices blindly, SPFA maintains a **queue** of candidate vertices and adds a vertex to the queue only if that vertex is relaxed. This process repeats until no more vertex can be relaxed."
   ]
  },
  {
   "cell_type": "markdown",
   "metadata": {
    "slideshow": {
     "slide_type": "subslide"
    }
   },
   "source": [
    "## Our Second Implementation\n",
    "```python\n",
    "def bellman_ford_SPFA(self, source_vertex):\t\n",
    "\tdistances = dict.fromkeys(self.graph.nodes(), math.inf)\n",
    "\talready_in_queue = dict.fromkeys(self.graph.nodes(), False)\n",
    "\tpredecessors = dict.fromkeys(self.graph.nodes(), math.inf)\n",
    "\tdistances[source_vertex] = 0\n",
    "    \n",
    "\tq = deque()\n",
    "\tq.append(source_vertex)\n",
    "\talready_in_queue[source_vertex] = True\n",
    "\twhile len(q) > 0:\n",
    "\t\tu = q.popleft()\n",
    "\t\tfor (u, v) in self.graph.edges(u):\n",
    "\t\t\tif distances[u] + float(self.graph[u][v]['label']) < distances[v]:\n",
    "\t\t\t\tdistances[v] = distances[u] + float(self.graph[u][v]['label'])\n",
    "\t\t\t\tif not already_in_queue[v]:\n",
    "\t\t\t\t\tq.append(v)\n",
    "\t\t\t\t\talready_in_queue[v] = True\n",
    "\t\t\t\tpredecessors[v] = u\n",
    "\t\t\tif distances[v] + float(self.graph[v][u]['label']) < distances[u]:\n",
    "\t\t\t\tdistances[u] = distances[v] + float(self.graph[v][u]['label'])\n",
    "\t\t\t\tif not already_in_queue[u]:\n",
    "\t\t\t\t\tq.append(u)\n",
    "\t\t\t\t\talready_in_queue[u] = True\n",
    "\t\t\t\tpredecessors[u] = v\n",
    "\treturn distances, predecessors\n",
    "```"
   ]
  },
  {
   "cell_type": "markdown",
   "metadata": {
    "slideshow": {
     "slide_type": "subslide"
    }
   },
   "source": [
    "### Computation time\n",
    "\n",
    "The worst-case running time of the algorithm is $O(|V|\\cdot|E|)$ , just like the standard Bellman-Ford algorithm. However experiments suggest that the average running time is $O(|E|)$. \n",
    "\n",
    "We can now compare the two strategies."
   ]
  },
  {
   "cell_type": "code",
   "execution_count": 36,
   "metadata": {
    "slideshow": {
     "slide_type": "fragment"
    }
   },
   "outputs": [
    {
     "name": "stdout",
     "output_type": "stream",
     "text": [
      "10000 loops, best of 5: 28.5 µs per loop\n",
      "The slowest run took 5.45 times longer than the fastest. This could mean that an intermediate result is being cached.\n",
      "100000 loops, best of 5: 9.1 µs per loop\n"
     ]
    }
   ],
   "source": [
    "%timeit P.bellman_ford('Firenze')\n",
    "%timeit P.bellman_ford_SPFA('Firenze')"
   ]
  },
  {
   "cell_type": "markdown",
   "metadata": {
    "slideshow": {
     "slide_type": "subslide"
    }
   },
   "source": [
    "## Putting all together\n",
    "```python\n",
    "def bellman_ford_shortest_path(self, source_vertex, SPFA=True):\n",
    "\tif SPFA:\n",
    "\t\tdistances, predecessors = self.bellman_ford_SPFA(source_vertex)\n",
    "\telse:\n",
    "\t\tdistances, predecessors = self.bellman_ford(source_vertex)\n",
    "\tall__shortest_paths = []\n",
    "\tnodes = list(self.graph.nodes(data=True))\n",
    "\tfor target_vertex in nodes:\n",
    "\t\ttarget_vertex = target_vertex[0]\n",
    "\t\tif predecessors[target_vertex] == math.inf:\n",
    "\t\t\tcontinue\n",
    "\t\t# using the predecessors of each node to build the shortest path\n",
    "\t\tshortest_path = []\n",
    "\t\tcurrent_node = target_vertex\n",
    "\t\tshortest_path.append(target_vertex)\n",
    "\t\twhile current_node != source_vertex:\n",
    "\t\t\tcurrent_node = predecessors[current_node]\n",
    "\t\t\t# raising an exception if there is not path between the two nodes considered\n",
    "\t\t\tif current_node is None:\n",
    "\t\t\t\traise ValueError(\"There is no path between node \" +target_vertex+\" and node \" + source_vertex)\n",
    "\t\t\tshortest_path.append(current_node)\n",
    "\t\tall__shortest_paths.append(shortest_path)\n",
    "\treturn all__shortest_paths\n",
    "```"
   ]
  },
  {
   "cell_type": "markdown",
   "metadata": {
    "slideshow": {
     "slide_type": "slide"
    }
   },
   "source": [
    "\n",
    "# Centrality \n",
    "\n",
    "In network analysis, indicators of **centrality** identify the most important vertices within a graph.\n",
    "![title](./imgs/important_node.png)\n",
    "Applications:\n",
    "- Identifying the most influential person(s) in a social network\n",
    "  \n",
    "- Key infrastructure nodes in the Internet\n",
    "  \n",
    "- Super-spreaders of disease."
   ]
  },
  {
   "cell_type": "markdown",
   "metadata": {
    "slideshow": {
     "slide_type": "subslide"
    }
   },
   "source": [
    "# Betweenness Centrality\n",
    "\n",
    "Betweenness centrality, in Graph Theory, is a measure of centrality in a graph based on shortest paths. Vertices with high betweenness may have considerable influence within a network by virtue of their control over information passing between others. They are also the ones whose removal from the network will most disrupt communications between other vertices because they lie on the largest number of paths taken by messages."
   ]
  },
  {
   "cell_type": "markdown",
   "metadata": {
    "slideshow": {
     "slide_type": "fragment"
    }
   },
   "source": [
    "More compactly the betweenness can be represented as:\n",
    "\n",
    "**$g(v) =\\sum\\limits_{s\\neq v\\neq t \\in V} \\frac{\\sigma_{st}(v)}{\\sigma_{st}}$**\n",
    "\n",
    "\n",
    "where **$\\sigma_{st}$** is total number of shortest paths from node $s$ to node $t$ and **$\\sigma_{st}(v)$** is the number of those paths that pass through $v$."
   ]
  },
  {
   "cell_type": "markdown",
   "metadata": {
    "slideshow": {
     "slide_type": "subslide"
    }
   },
   "source": [
    "# Toy example\n",
    "\n",
    "<img src=\"./imgs/bc_toy_example.png\" width=600>"
   ]
  },
  {
   "cell_type": "markdown",
   "metadata": {
    "slideshow": {
     "slide_type": "subslide"
    }
   },
   "source": [
    "# Betweenness centrality in large graphs\n",
    "The betweenness centrality of a node scales with the number of pairs of nodes. Therefore, the calculation may be rescaled by dividing through by the number of pairs of nodes not including $v$, so that $g(v)\\in[0,1]$. The division is done by $(N−1)(N−2)$ for directed graphs and $\\frac{(N−1)(N−2)}{2}$ for undirected graphs, where $N$ is the number of nodes."
   ]
  },
  {
   "cell_type": "markdown",
   "metadata": {
    "slideshow": {
     "slide_type": "subslide"
    }
   },
   "source": [
    "### A handy benefit to betwenness centrality \n",
    "You don't need a fully connected graph or component to calculate it\n",
    "![title](./imgs/component.png)"
   ]
  },
  {
   "cell_type": "code",
   "execution_count": 37,
   "metadata": {},
   "outputs": [
    {
     "name": "stdout",
     "output_type": "stream",
     "text": [
      "{'Torino': 0.0, 'Verbano-Cusio-Ossola': 0.0, 'Vercelli': 0.03571428571428571, 'Bari': 0.21428571428571427, 'Barletta-Andria-Trani': 0.14285714285714285, 'Brindisi': 0.14285714285714285, 'Foggia': 0.0, 'Lecce': 0.0, 'Taranto': 0.21428571428571427}\n"
     ]
    }
   ],
   "source": [
    "print(P.betweenness_centrality())"
   ]
  },
  {
   "cell_type": "markdown",
   "metadata": {
    "slideshow": {
     "slide_type": "subslide"
    }
   },
   "source": [
    "## Some common algorithms\n",
    "\n",
    "Calculating the betweenness centrality of all the vertices in a graph involves calculating the shortest paths between all pairs of vertices on a graph, which takes:\n",
    "* $O(|V||E|)$ for unweighted graphs *([Brandes' algorithm](https://web.archive.org/web/20171013152036/http://algo.uni-konstanz.de/publications/b-fabc-01.pdf))*.\n",
    "* $Θ(|V|^3)$ for weighted graphs *([Floyd–Warshall algorithm](https://en.wikipedia.org/wiki/Floyd%E2%80%93Warshall_algorithm))\n",
    "\n",
    "A single execution of the algorithms will find the shortest paths between all pairs of vertices. "
   ]
  },
  {
   "cell_type": "markdown",
   "metadata": {
    "slideshow": {
     "slide_type": "subslide"
    }
   },
   "source": [
    "# Our implementation\n",
    "\n",
    "Here is a snippet of our implementation, we used *Bellman-Ford's alghoritm* to find the shortest paths from a source node $i$ to $v$, with $v \\in V$\n",
    "```python\n",
    "def betweenness_centrality(self):\n",
    "    nodes = list(self.graph.nodes(data=True))\n",
    "    shortest_paths = []  \n",
    "    N = len(nodes)\n",
    "    for i in range(N):\n",
    "        paths_lists = self.bellman_ford_shortest_path(nodes[i][0]) \n",
    "        for p in paths_lists:\n",
    "            shortest_paths.append(p)\n",
    "    BC = {}\n",
    "    for target_node in range(N):\n",
    "        sum_ous = 0\n",
    "        for path in shortest_paths:\n",
    "            if path[0] != nodes[target_node][0] \n",
    "            and path[-1] != nodes[target_node][0] \n",
    "            and nodes[target_node][0] in path:\n",
    "                sum_ous += 1\n",
    "        BC[nodes[target_node][0]] = (sum_ous)/((N-1)*(N-2))\n",
    "    return BC\n",
    "```"
   ]
  },
  {
   "cell_type": "code",
   "execution_count": 38,
   "metadata": {},
   "outputs": [
    {
     "name": "stdout",
     "output_type": "stream",
     "text": [
      "1000 loops, best of 5: 614 µs per loop\n",
      "1 loop, best of 5: 11.6 s per loop\n"
     ]
    }
   ],
   "source": [
    "%timeit P.betweenness_centrality()\n",
    "%timeit R.betweenness_centrality()"
   ]
  },
  {
   "cell_type": "markdown",
   "metadata": {
    "slideshow": {
     "slide_type": "subslide"
    }
   },
   "source": [
    "# Implementation decisions making\n",
    "* In our implementation we used the Bellman-Ford algorithm (which is not good for this kind of problem) to calculate the shortest path between two nodes. This forced us to calculate the shortes path in both directions, therefore we needed to divide by 2 the result of the betweenness of the considered node. \n",
    "\n",
    "The total complexity of the this algorithm is $O(|V|^2|E|)$ while Floyd–Warshall algorithm takes $Θ(|V|^3)$"
   ]
  },
  {
   "cell_type": "markdown",
   "metadata": {
    "slideshow": {
     "slide_type": "fragment"
    }
   },
   "source": [
    "* Due to the great precision of the distances between the various nodes (graph **P** and **R**) and for the definition of the Bellman-Ford's algorithm itself, we thought it was appropriate to simplify the algorithm assuming that there could be at most one shortest path between each pair of nodes."
   ]
  },
  {
   "cell_type": "markdown",
   "metadata": {
    "slideshow": {
     "slide_type": "subslide"
    }
   },
   "source": [
    "* Due to the large number of nodes we normalized the value of the betweenness so that $g(v)\\in[0,1]$. The division is done by $\\frac{(N−1)(N−2)}{2}$ cause we are working with an undirected graph."
   ]
  },
  {
   "cell_type": "markdown",
   "metadata": {
    "slideshow": {
     "slide_type": "fragment"
    }
   },
   "source": [
    "* Based on the considerations made, the final formula for calculating the betweenness centrality of a node $v$ is\n",
    "\n",
    "**$g(v) =\\frac{\\sum\\limits_{s\\neq v\\neq t \\in V} \\frac{\\sigma_{st}(v)}{\\sigma_{st}}}{2}\\frac{2}{(N-1)(N-2)} = \\frac{\\sum\\limits_{s\\neq v\\neq t \\in V} \\frac{\\sigma_{st}(v)}{\\sigma_{st}}}{(N-1)(N-2)}$**\n",
    "\n",
    "where $\\sigma_{st}(v)$, $\\sigma_{st} \\in \\{0,1\\}$.\n"
   ]
  }
 ],
 "metadata": {
  "celltoolbar": "Slideshow",
  "kernelspec": {
   "display_name": "Python 3",
   "language": "python",
   "name": "python3"
  },
  "language_info": {
   "codemirror_mode": {
    "name": "ipython",
    "version": 3
   },
   "file_extension": ".py",
   "mimetype": "text/x-python",
   "name": "python",
   "nbconvert_exporter": "python",
   "pygments_lexer": "ipython3",
   "version": "3.8.2"
  }
 },
 "nbformat": 4,
 "nbformat_minor": 4
}
