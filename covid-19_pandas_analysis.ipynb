{
 "cells": [
  {
   "cell_type": "markdown",
   "metadata": {},
   "source": [
    "# COVID-19 Analysis"
   ]
  },
  {
   "cell_type": "markdown",
   "metadata": {},
   "source": [
    "## Table of Contents\n",
    "1. [About the authors](#About-the-authors)\n",
    "    1. [Abdullah Chaudhry](#Abdullah-Chaudhry)\n",
    "    2. [Claudia Raffaelli](#Claudia-Raffaelli)\n",
    "2. [Introduction to the dataset](#Introduction-to-the-dataset)\n",
    "3. [Getting Started](#Getting-started)\n",
    "4. [Familiarizing with the dataset](#Familiarizing-with-the-dataset)\n",
    "    1. [Provinces JSON](#Provinces-JSON)\n",
    "    1. [Regions JSON](#Regions-JSON)\n",
    "5. [Province Analysis](#Province-analysis)\n",
    "6. [Region Analysis](#Region-analysis)\n"
   ]
  },
  {
   "cell_type": "markdown",
   "metadata": {},
   "source": [
    "## About the authors\n",
    "\n",
    "#### Abdullah Chaudhry\n",
    "- Personal GitHub: https://github.com/chabdullah\n",
    "- Operating System: Ubuntu 20.04 LTS\n",
    "- Computer: Huawei Matebook D 14\n",
    "- Processor: AMD Ryzen 5 2500U\n",
    "- RAM: 8GB\n",
    "- Storage: 250GB SSD + 1TB HDD\n",
    "----\n",
    "#### Claudia Raffaelli\n",
    "- Personal GitHub: https://github.com/ClaudiaRaffaelli\n",
    "- Operating System: macOS Catalina\n",
    "- Computer: MacBook Pro\n",
    "- Processor: 2,8 GHz Intel Core i7 quad-core\n",
    "- RAM: 16GB\n",
    "- Storage: 1TB SSD"
   ]
  },
  {
   "cell_type": "markdown",
   "metadata": {},
   "source": [
    "## Introduction to the dataset\n",
    "\n",
    "The analysis proposed hereafter have the purpose of uncovering the various aspects that links the cases of COVID-19 to the different regions and provinces of Italy. This work is based upon the dataset at the link [COVID-19](https://github.com/pcm-dpc/COVID-19), made available by the \"Protezione Civile Italiana\" organization.\n",
    "\n",
    "The dataset under consideration has a wide repository structure, although we will just make use of two JSON files, related to the province and region data, largely discussed below. \n",
    "\n",
    "The COVID-19 dataset has been collecting a broad amount of data, since the beginning of the spread of the coronavirus in Italy. For this reason the gathered data, dates back to the end of February 2020 and still continues to be collected (at least as we speak, 2020-05-27).\n",
    "\n",
    "The dataset is updated daily with the new data regarding for example the national, regional and province trends. Most of the commits add new records concerning the past day.\n",
    "\n",
    "There are two major contributors to this project under the names: [Umbros](https://github.com/umbros) and [Pierluigicara](https://github.com/pierluigicara) in the department of Protezione Civile Italiana already mentioned.\n"
   ]
  },
  {
   "cell_type": "markdown",
   "metadata": {},
   "source": [
    "## Getting started\n",
    "\n",
    "As first thing, we make sure that our system satisfies the main prerequisites required to run the following code. In order to do so, we execute the subsequent Terminal commands (recognizable by the bang symbol <code>!</code>). This commands will check, and if necessary install, a few libraries."
   ]
  },
  {
   "cell_type": "code",
   "execution_count": 274,
   "metadata": {},
   "outputs": [
    {
     "name": "stdout",
     "output_type": "stream",
     "text": [
      "Requirement already satisfied: matplotlib in /Library/Frameworks/Python.framework/Versions/3.7/lib/python3.7/site-packages (3.1.1)\n",
      "Requirement already satisfied: python-dateutil>=2.1 in /Library/Frameworks/Python.framework/Versions/3.7/lib/python3.7/site-packages (from matplotlib) (2.8.0)\n",
      "Requirement already satisfied: kiwisolver>=1.0.1 in /Library/Frameworks/Python.framework/Versions/3.7/lib/python3.7/site-packages (from matplotlib) (1.1.0)\n",
      "Requirement already satisfied: cycler>=0.10 in /Library/Frameworks/Python.framework/Versions/3.7/lib/python3.7/site-packages (from matplotlib) (0.10.0)\n",
      "Requirement already satisfied: pyparsing!=2.0.4,!=2.1.2,!=2.1.6,>=2.0.1 in /Library/Frameworks/Python.framework/Versions/3.7/lib/python3.7/site-packages (from matplotlib) (2.4.1)\n",
      "Requirement already satisfied: numpy>=1.11 in /Library/Frameworks/Python.framework/Versions/3.7/lib/python3.7/site-packages (from matplotlib) (1.18.3)\n",
      "Requirement already satisfied: six>=1.5 in /Library/Frameworks/Python.framework/Versions/3.7/lib/python3.7/site-packages (from python-dateutil>=2.1->matplotlib) (1.12.0)\n",
      "Requirement already satisfied: setuptools in /Library/Frameworks/Python.framework/Versions/3.7/lib/python3.7/site-packages (from kiwisolver>=1.0.1->matplotlib) (40.8.0)\n",
      "Requirement already satisfied: networkx in /Library/Frameworks/Python.framework/Versions/3.7/lib/python3.7/site-packages (2.4)\n",
      "Requirement already satisfied: decorator>=4.3.0 in /Library/Frameworks/Python.framework/Versions/3.7/lib/python3.7/site-packages (from networkx) (4.4.2)\n",
      "Requirement already satisfied: numpy in /Library/Frameworks/Python.framework/Versions/3.7/lib/python3.7/site-packages (1.18.3)\n",
      "Requirement already satisfied: pandas in /Library/Frameworks/Python.framework/Versions/3.7/lib/python3.7/site-packages (0.24.2)\n",
      "Requirement already satisfied: python-dateutil>=2.5.0 in /Library/Frameworks/Python.framework/Versions/3.7/lib/python3.7/site-packages (from pandas) (2.8.0)\n",
      "Requirement already satisfied: numpy>=1.12.0 in /Library/Frameworks/Python.framework/Versions/3.7/lib/python3.7/site-packages (from pandas) (1.18.3)\n",
      "Requirement already satisfied: pytz>=2011k in /Library/Frameworks/Python.framework/Versions/3.7/lib/python3.7/site-packages (from pandas) (2019.2)\n",
      "Requirement already satisfied: six>=1.5 in /Library/Frameworks/Python.framework/Versions/3.7/lib/python3.7/site-packages (from python-dateutil>=2.5.0->pandas) (1.12.0)\n",
      "Requirement already satisfied: geopandas in /Library/Frameworks/Python.framework/Versions/3.7/lib/python3.7/site-packages (0.7.0)\n",
      "Requirement already satisfied: pyproj>=2.2.0 in /Library/Frameworks/Python.framework/Versions/3.7/lib/python3.7/site-packages (from geopandas) (2.6.1.post1)\n",
      "Requirement already satisfied: pandas>=0.23.0 in /Library/Frameworks/Python.framework/Versions/3.7/lib/python3.7/site-packages (from geopandas) (0.24.2)\n",
      "Requirement already satisfied: fiona in /Library/Frameworks/Python.framework/Versions/3.7/lib/python3.7/site-packages (from geopandas) (1.8.13.post1)\n",
      "Requirement already satisfied: shapely in /Library/Frameworks/Python.framework/Versions/3.7/lib/python3.7/site-packages (from geopandas) (1.7.0)\n",
      "Requirement already satisfied: pytz>=2011k in /Library/Frameworks/Python.framework/Versions/3.7/lib/python3.7/site-packages (from pandas>=0.23.0->geopandas) (2019.2)\n",
      "Requirement already satisfied: python-dateutil>=2.5.0 in /Library/Frameworks/Python.framework/Versions/3.7/lib/python3.7/site-packages (from pandas>=0.23.0->geopandas) (2.8.0)\n",
      "Requirement already satisfied: numpy>=1.12.0 in /Library/Frameworks/Python.framework/Versions/3.7/lib/python3.7/site-packages (from pandas>=0.23.0->geopandas) (1.18.3)\n",
      "Requirement already satisfied: cligj>=0.5 in /Library/Frameworks/Python.framework/Versions/3.7/lib/python3.7/site-packages (from fiona->geopandas) (0.5.0)\n",
      "Requirement already satisfied: munch in /Library/Frameworks/Python.framework/Versions/3.7/lib/python3.7/site-packages (from fiona->geopandas) (2.5.0)\n",
      "Requirement already satisfied: six>=1.7 in /Library/Frameworks/Python.framework/Versions/3.7/lib/python3.7/site-packages (from fiona->geopandas) (1.12.0)\n",
      "Requirement already satisfied: click-plugins>=1.0 in /Library/Frameworks/Python.framework/Versions/3.7/lib/python3.7/site-packages (from fiona->geopandas) (1.1.1)\n",
      "Requirement already satisfied: attrs>=17 in /Library/Frameworks/Python.framework/Versions/3.7/lib/python3.7/site-packages (from fiona->geopandas) (19.3.0)\n",
      "Requirement already satisfied: click<8,>=4.0 in /Library/Frameworks/Python.framework/Versions/3.7/lib/python3.7/site-packages (from fiona->geopandas) (7.1.2)\n",
      "Requirement already satisfied: descartes in /Library/Frameworks/Python.framework/Versions/3.7/lib/python3.7/site-packages (1.1.0)\n",
      "Requirement already satisfied: matplotlib in /Library/Frameworks/Python.framework/Versions/3.7/lib/python3.7/site-packages (from descartes) (3.1.1)\n",
      "Requirement already satisfied: pyparsing!=2.0.4,!=2.1.2,!=2.1.6,>=2.0.1 in /Library/Frameworks/Python.framework/Versions/3.7/lib/python3.7/site-packages (from matplotlib->descartes) (2.4.1)\n",
      "Requirement already satisfied: cycler>=0.10 in /Library/Frameworks/Python.framework/Versions/3.7/lib/python3.7/site-packages (from matplotlib->descartes) (0.10.0)\n",
      "Requirement already satisfied: numpy>=1.11 in /Library/Frameworks/Python.framework/Versions/3.7/lib/python3.7/site-packages (from matplotlib->descartes) (1.18.3)\n",
      "Requirement already satisfied: kiwisolver>=1.0.1 in /Library/Frameworks/Python.framework/Versions/3.7/lib/python3.7/site-packages (from matplotlib->descartes) (1.1.0)\n",
      "Requirement already satisfied: python-dateutil>=2.1 in /Library/Frameworks/Python.framework/Versions/3.7/lib/python3.7/site-packages (from matplotlib->descartes) (2.8.0)\n",
      "Requirement already satisfied: six in /Library/Frameworks/Python.framework/Versions/3.7/lib/python3.7/site-packages (from cycler>=0.10->matplotlib->descartes) (1.12.0)\n",
      "Requirement already satisfied: setuptools in /Library/Frameworks/Python.framework/Versions/3.7/lib/python3.7/site-packages (from kiwisolver>=1.0.1->matplotlib->descartes) (40.8.0)\n"
     ]
    }
   ],
   "source": [
    "!pip install matplotlib\n",
    "!pip install networkx\n",
    "!pip install numpy\n",
    "!pip install pandas\n",
    "!pip install geopandas\n",
    "!pip install descartes"
   ]
  },
  {
   "cell_type": "markdown",
   "metadata": {},
   "source": [
    "Importing below the required libraries used for the analysis."
   ]
  },
  {
   "cell_type": "code",
   "execution_count": 275,
   "metadata": {},
   "outputs": [],
   "source": [
    "import json\n",
    "import geopandas as gpd\n",
    "import networkx as nx\n",
    "import matplotlib.pyplot as plt\n",
    "import pandas as pd\n",
    "from shapely.geometry import Point, Polygon\n",
    "from pyproj import CRS"
   ]
  },
  {
   "cell_type": "markdown",
   "metadata": {},
   "source": [
    "## Familiarizing with the dataset\n",
    "\n",
    "To conduct the analysis we will be using two JSON file that are briefly described hereunder. \n",
    "\n",
    "### Provinces JSON\n",
    "The first file taken into account can be reached at [this link](https://github.com/pcm-dpc/COVID-19/blob/master/dati-json/dpc-covid19-ita-province.json). Hereafter we will be referring at the collected data from this file as provinces data. \n",
    "\n",
    "TODO: aggiungi info\n",
    "... spiegare il perché sono presenti record in <code>denominazione_provincia</code> con scritto <code>In fase di definizione/aggiornamento</code>\n",
    "\n",
    "### Regions JSON\n",
    "The Regions file, on the other hand, can be found at [this other link](https://github.com/pcm-dpc/COVID-19/blob/master/dati-json/dpc-covid19-ita-regioni.json). The data drawn from the region file will be henceforth called regions data.\n",
    "\n",
    "TODO: aggiungi info"
   ]
  },
  {
   "cell_type": "markdown",
   "metadata": {},
   "source": [
    "Now that the main features from the two files have been described, is time to load the two files and get started with the assessment."
   ]
  },
  {
   "cell_type": "code",
   "execution_count": 276,
   "metadata": {},
   "outputs": [],
   "source": [
    "with open('./dati-json/dpc-covid19-ita-province.json') as f:\n",
    "    covid19_provinces_data = json.load(f)\n",
    "\n",
    "with open('./dati-json/dpc-covid19-ita-regioni.json') as f:\n",
    "    covid19_regions_data = json.load(f)"
   ]
  },
  {
   "cell_type": "markdown",
   "metadata": {},
   "source": [
    "## Province analysis\n",
    "\n",
    "Once the province data has been loaded we want to quickly show how the raw data appears with just a few refinements.\n",
    "The modifications adopted are the following:\n",
    "1. First is created a DataFrame <code>refined_province_data</code> in which some unnecessary columns are dropped. \n",
    "2. Morover, since inside the columm <code>denominazione_provincia</code> are present a few records labeled as <code>In fase di definizione/aggiornamento</code> that we simply discard. \n",
    "3. Lastly the <code>data</code> column has been revised so as to give it a more pleasant appearance.\n",
    "\n",
    "The result of this readjustments is reported below."
   ]
  },
  {
   "cell_type": "code",
   "execution_count": 277,
   "metadata": {},
   "outputs": [
    {
     "data": {
      "text/html": [
       "<div>\n",
       "<style scoped>\n",
       "    .dataframe tbody tr th:only-of-type {\n",
       "        vertical-align: middle;\n",
       "    }\n",
       "\n",
       "    .dataframe tbody tr th {\n",
       "        vertical-align: top;\n",
       "    }\n",
       "\n",
       "    .dataframe thead th {\n",
       "        text-align: right;\n",
       "    }\n",
       "</style>\n",
       "<table border=\"1\" class=\"dataframe\">\n",
       "  <thead>\n",
       "    <tr style=\"text-align: right;\">\n",
       "      <th></th>\n",
       "      <th>data</th>\n",
       "      <th>denominazione_provincia</th>\n",
       "      <th>denominazione_regione</th>\n",
       "      <th>lat</th>\n",
       "      <th>long</th>\n",
       "      <th>sigla_provincia</th>\n",
       "      <th>totale_casi</th>\n",
       "    </tr>\n",
       "  </thead>\n",
       "  <tbody>\n",
       "    <tr>\n",
       "      <th>0</th>\n",
       "      <td>2020-02-24</td>\n",
       "      <td>Chieti</td>\n",
       "      <td>Abruzzo</td>\n",
       "      <td>42.351032</td>\n",
       "      <td>14.167546</td>\n",
       "      <td>CH</td>\n",
       "      <td>0</td>\n",
       "    </tr>\n",
       "    <tr>\n",
       "      <th>1</th>\n",
       "      <td>2020-02-24</td>\n",
       "      <td>L'Aquila</td>\n",
       "      <td>Abruzzo</td>\n",
       "      <td>42.351222</td>\n",
       "      <td>13.398438</td>\n",
       "      <td>AQ</td>\n",
       "      <td>0</td>\n",
       "    </tr>\n",
       "    <tr>\n",
       "      <th>2</th>\n",
       "      <td>2020-02-24</td>\n",
       "      <td>Pescara</td>\n",
       "      <td>Abruzzo</td>\n",
       "      <td>42.464584</td>\n",
       "      <td>14.213648</td>\n",
       "      <td>PE</td>\n",
       "      <td>0</td>\n",
       "    </tr>\n",
       "    <tr>\n",
       "      <th>3</th>\n",
       "      <td>2020-02-24</td>\n",
       "      <td>Teramo</td>\n",
       "      <td>Abruzzo</td>\n",
       "      <td>42.658918</td>\n",
       "      <td>13.704400</td>\n",
       "      <td>TE</td>\n",
       "      <td>0</td>\n",
       "    </tr>\n",
       "    <tr>\n",
       "      <th>5</th>\n",
       "      <td>2020-02-24</td>\n",
       "      <td>Matera</td>\n",
       "      <td>Basilicata</td>\n",
       "      <td>40.667512</td>\n",
       "      <td>16.597924</td>\n",
       "      <td>MT</td>\n",
       "      <td>0</td>\n",
       "    </tr>\n",
       "  </tbody>\n",
       "</table>\n",
       "</div>"
      ],
      "text/plain": [
       "         data denominazione_provincia denominazione_regione        lat  \\\n",
       "0  2020-02-24                  Chieti               Abruzzo  42.351032   \n",
       "1  2020-02-24                L'Aquila               Abruzzo  42.351222   \n",
       "2  2020-02-24                 Pescara               Abruzzo  42.464584   \n",
       "3  2020-02-24                  Teramo               Abruzzo  42.658918   \n",
       "5  2020-02-24                  Matera            Basilicata  40.667512   \n",
       "\n",
       "        long sigla_provincia  totale_casi  \n",
       "0  14.167546              CH            0  \n",
       "1  13.398438              AQ            0  \n",
       "2  14.213648              PE            0  \n",
       "3  13.704400              TE            0  \n",
       "5  16.597924              MT            0  "
      ]
     },
     "execution_count": 277,
     "metadata": {},
     "output_type": "execute_result"
    }
   ],
   "source": [
    "# loding into a DataFrame the provinces data as is\n",
    "province_data = pd.DataFrame(covid19_provinces_data)\n",
    "\n",
    "# performing the few modifications listed above\n",
    "refined_province_data = province_data[province_data.denominazione_provincia!= \"In fase di definizione/aggiornamento\"].drop(columns=[\"note_it\", \"note_en\", \"codice_provincia\", \"codice_regione\", \"stato\"])\n",
    "\n",
    "# for each date value is cropped the ending, leaving only the structure year-month-day.\n",
    "# E.g. from the original date '2020-02-24T18:00:00' the result is simply '2020-02-24'\n",
    "refined_province_data['data'] = refined_province_data['data'].map(lambda a: a[:10])\n",
    "\n",
    "refined_province_data.head()"
   ]
  },
  {
   "cell_type": "markdown",
   "metadata": {},
   "source": [
    "We can play a little bit with the appearance of our table, changing the key from which the table can be indexed. Different key choices can lead to different operations to be performed on the data. \n",
    "\n",
    "As a first approach we can think of setting the <code>data</code> column as index. The result is the following."
   ]
  },
  {
   "cell_type": "code",
   "execution_count": 278,
   "metadata": {},
   "outputs": [
    {
     "data": {
      "text/html": [
       "<div>\n",
       "<style scoped>\n",
       "    .dataframe tbody tr th:only-of-type {\n",
       "        vertical-align: middle;\n",
       "    }\n",
       "\n",
       "    .dataframe tbody tr th {\n",
       "        vertical-align: top;\n",
       "    }\n",
       "\n",
       "    .dataframe thead th {\n",
       "        text-align: right;\n",
       "    }\n",
       "</style>\n",
       "<table border=\"1\" class=\"dataframe\">\n",
       "  <thead>\n",
       "    <tr style=\"text-align: right;\">\n",
       "      <th></th>\n",
       "      <th>denominazione_provincia</th>\n",
       "      <th>denominazione_regione</th>\n",
       "      <th>lat</th>\n",
       "      <th>long</th>\n",
       "      <th>sigla_provincia</th>\n",
       "      <th>totale_casi</th>\n",
       "    </tr>\n",
       "    <tr>\n",
       "      <th>data</th>\n",
       "      <th></th>\n",
       "      <th></th>\n",
       "      <th></th>\n",
       "      <th></th>\n",
       "      <th></th>\n",
       "      <th></th>\n",
       "    </tr>\n",
       "  </thead>\n",
       "  <tbody>\n",
       "    <tr>\n",
       "      <th>2020-02-24</th>\n",
       "      <td>Chieti</td>\n",
       "      <td>Abruzzo</td>\n",
       "      <td>42.351032</td>\n",
       "      <td>14.167546</td>\n",
       "      <td>CH</td>\n",
       "      <td>0</td>\n",
       "    </tr>\n",
       "    <tr>\n",
       "      <th>2020-02-24</th>\n",
       "      <td>L'Aquila</td>\n",
       "      <td>Abruzzo</td>\n",
       "      <td>42.351222</td>\n",
       "      <td>13.398438</td>\n",
       "      <td>AQ</td>\n",
       "      <td>0</td>\n",
       "    </tr>\n",
       "    <tr>\n",
       "      <th>2020-02-24</th>\n",
       "      <td>Pescara</td>\n",
       "      <td>Abruzzo</td>\n",
       "      <td>42.464584</td>\n",
       "      <td>14.213648</td>\n",
       "      <td>PE</td>\n",
       "      <td>0</td>\n",
       "    </tr>\n",
       "    <tr>\n",
       "      <th>2020-02-24</th>\n",
       "      <td>Teramo</td>\n",
       "      <td>Abruzzo</td>\n",
       "      <td>42.658918</td>\n",
       "      <td>13.704400</td>\n",
       "      <td>TE</td>\n",
       "      <td>0</td>\n",
       "    </tr>\n",
       "    <tr>\n",
       "      <th>2020-02-24</th>\n",
       "      <td>Matera</td>\n",
       "      <td>Basilicata</td>\n",
       "      <td>40.667512</td>\n",
       "      <td>16.597924</td>\n",
       "      <td>MT</td>\n",
       "      <td>0</td>\n",
       "    </tr>\n",
       "  </tbody>\n",
       "</table>\n",
       "</div>"
      ],
      "text/plain": [
       "           denominazione_provincia denominazione_regione        lat  \\\n",
       "data                                                                  \n",
       "2020-02-24                  Chieti               Abruzzo  42.351032   \n",
       "2020-02-24                L'Aquila               Abruzzo  42.351222   \n",
       "2020-02-24                 Pescara               Abruzzo  42.464584   \n",
       "2020-02-24                  Teramo               Abruzzo  42.658918   \n",
       "2020-02-24                  Matera            Basilicata  40.667512   \n",
       "\n",
       "                 long sigla_provincia  totale_casi  \n",
       "data                                                \n",
       "2020-02-24  14.167546              CH            0  \n",
       "2020-02-24  13.398438              AQ            0  \n",
       "2020-02-24  14.213648              PE            0  \n",
       "2020-02-24  13.704400              TE            0  \n",
       "2020-02-24  16.597924              MT            0  "
      ]
     },
     "execution_count": 278,
     "metadata": {},
     "output_type": "execute_result"
    }
   ],
   "source": [
    "# creating a new table, in which \"data\" has been set as index\n",
    "refined_province_data_by_date = refined_province_data.set_index(\"data\")\n",
    "refined_province_data_by_date.head()"
   ]
  },
  {
   "cell_type": "markdown",
   "metadata": {},
   "source": [
    "A different approch can involve having a table in which the <code>denominazione_provincia</code> has been set as index."
   ]
  },
  {
   "cell_type": "code",
   "execution_count": 279,
   "metadata": {},
   "outputs": [
    {
     "data": {
      "text/html": [
       "<div>\n",
       "<style scoped>\n",
       "    .dataframe tbody tr th:only-of-type {\n",
       "        vertical-align: middle;\n",
       "    }\n",
       "\n",
       "    .dataframe tbody tr th {\n",
       "        vertical-align: top;\n",
       "    }\n",
       "\n",
       "    .dataframe thead th {\n",
       "        text-align: right;\n",
       "    }\n",
       "</style>\n",
       "<table border=\"1\" class=\"dataframe\">\n",
       "  <thead>\n",
       "    <tr style=\"text-align: right;\">\n",
       "      <th></th>\n",
       "      <th>data</th>\n",
       "      <th>denominazione_regione</th>\n",
       "      <th>lat</th>\n",
       "      <th>long</th>\n",
       "      <th>sigla_provincia</th>\n",
       "      <th>totale_casi</th>\n",
       "    </tr>\n",
       "    <tr>\n",
       "      <th>denominazione_provincia</th>\n",
       "      <th></th>\n",
       "      <th></th>\n",
       "      <th></th>\n",
       "      <th></th>\n",
       "      <th></th>\n",
       "      <th></th>\n",
       "    </tr>\n",
       "  </thead>\n",
       "  <tbody>\n",
       "    <tr>\n",
       "      <th>Chieti</th>\n",
       "      <td>2020-02-24</td>\n",
       "      <td>Abruzzo</td>\n",
       "      <td>42.351032</td>\n",
       "      <td>14.167546</td>\n",
       "      <td>CH</td>\n",
       "      <td>0</td>\n",
       "    </tr>\n",
       "    <tr>\n",
       "      <th>L'Aquila</th>\n",
       "      <td>2020-02-24</td>\n",
       "      <td>Abruzzo</td>\n",
       "      <td>42.351222</td>\n",
       "      <td>13.398438</td>\n",
       "      <td>AQ</td>\n",
       "      <td>0</td>\n",
       "    </tr>\n",
       "    <tr>\n",
       "      <th>Pescara</th>\n",
       "      <td>2020-02-24</td>\n",
       "      <td>Abruzzo</td>\n",
       "      <td>42.464584</td>\n",
       "      <td>14.213648</td>\n",
       "      <td>PE</td>\n",
       "      <td>0</td>\n",
       "    </tr>\n",
       "    <tr>\n",
       "      <th>Teramo</th>\n",
       "      <td>2020-02-24</td>\n",
       "      <td>Abruzzo</td>\n",
       "      <td>42.658918</td>\n",
       "      <td>13.704400</td>\n",
       "      <td>TE</td>\n",
       "      <td>0</td>\n",
       "    </tr>\n",
       "    <tr>\n",
       "      <th>Matera</th>\n",
       "      <td>2020-02-24</td>\n",
       "      <td>Basilicata</td>\n",
       "      <td>40.667512</td>\n",
       "      <td>16.597924</td>\n",
       "      <td>MT</td>\n",
       "      <td>0</td>\n",
       "    </tr>\n",
       "  </tbody>\n",
       "</table>\n",
       "</div>"
      ],
      "text/plain": [
       "                               data denominazione_regione        lat  \\\n",
       "denominazione_provincia                                                \n",
       "Chieti                   2020-02-24               Abruzzo  42.351032   \n",
       "L'Aquila                 2020-02-24               Abruzzo  42.351222   \n",
       "Pescara                  2020-02-24               Abruzzo  42.464584   \n",
       "Teramo                   2020-02-24               Abruzzo  42.658918   \n",
       "Matera                   2020-02-24            Basilicata  40.667512   \n",
       "\n",
       "                              long sigla_provincia  totale_casi  \n",
       "denominazione_provincia                                          \n",
       "Chieti                   14.167546              CH            0  \n",
       "L'Aquila                 13.398438              AQ            0  \n",
       "Pescara                  14.213648              PE            0  \n",
       "Teramo                   13.704400              TE            0  \n",
       "Matera                   16.597924              MT            0  "
      ]
     },
     "execution_count": 279,
     "metadata": {},
     "output_type": "execute_result"
    }
   ],
   "source": [
    "# creating a new table, in which \"denominazione_provincia\" has been set as index\n",
    "refined_province_data_by_province = refined_province_data.set_index(\"denominazione_provincia\")\n",
    "refined_province_data_by_province.head()"
   ]
  },
  {
   "cell_type": "markdown",
   "metadata": {},
   "source": [
    "However the best way to approach this set of data is maybe having a double index involving both the cited columns.\n",
    "As outer index is kept the <code>data</code> column, that regroups day by day the different provinces, each and one of them also indexed by the <code>denominazione_provincia</code> column. \n",
    "\n",
    "The table is sorted according to the two indexes. In this way for each date (appearing from the oldest to the newest) are shown the provinces in the same alphabetical ordering. \n",
    "\n",
    "Such a table can be obtained as follow."
   ]
  },
  {
   "cell_type": "code",
   "execution_count": 280,
   "metadata": {},
   "outputs": [
    {
     "data": {
      "text/html": [
       "<div>\n",
       "<style scoped>\n",
       "    .dataframe tbody tr th:only-of-type {\n",
       "        vertical-align: middle;\n",
       "    }\n",
       "\n",
       "    .dataframe tbody tr th {\n",
       "        vertical-align: top;\n",
       "    }\n",
       "\n",
       "    .dataframe thead th {\n",
       "        text-align: right;\n",
       "    }\n",
       "</style>\n",
       "<table border=\"1\" class=\"dataframe\">\n",
       "  <thead>\n",
       "    <tr style=\"text-align: right;\">\n",
       "      <th></th>\n",
       "      <th></th>\n",
       "      <th>denominazione_regione</th>\n",
       "      <th>lat</th>\n",
       "      <th>long</th>\n",
       "      <th>sigla_provincia</th>\n",
       "      <th>totale_casi</th>\n",
       "    </tr>\n",
       "    <tr>\n",
       "      <th>data</th>\n",
       "      <th>denominazione_provincia</th>\n",
       "      <th></th>\n",
       "      <th></th>\n",
       "      <th></th>\n",
       "      <th></th>\n",
       "      <th></th>\n",
       "    </tr>\n",
       "  </thead>\n",
       "  <tbody>\n",
       "    <tr>\n",
       "      <th rowspan=\"5\" valign=\"top\">2020-02-24</th>\n",
       "      <th>Agrigento</th>\n",
       "      <td>Sicilia</td>\n",
       "      <td>37.309711</td>\n",
       "      <td>13.584575</td>\n",
       "      <td>AG</td>\n",
       "      <td>0</td>\n",
       "    </tr>\n",
       "    <tr>\n",
       "      <th>Alessandria</th>\n",
       "      <td>Piemonte</td>\n",
       "      <td>44.912974</td>\n",
       "      <td>8.615401</td>\n",
       "      <td>AL</td>\n",
       "      <td>0</td>\n",
       "    </tr>\n",
       "    <tr>\n",
       "      <th>Ancona</th>\n",
       "      <td>Marche</td>\n",
       "      <td>43.616760</td>\n",
       "      <td>13.518875</td>\n",
       "      <td>AN</td>\n",
       "      <td>0</td>\n",
       "    </tr>\n",
       "    <tr>\n",
       "      <th>Aosta</th>\n",
       "      <td>Valle d'Aosta</td>\n",
       "      <td>45.737503</td>\n",
       "      <td>7.320149</td>\n",
       "      <td>AO</td>\n",
       "      <td>0</td>\n",
       "    </tr>\n",
       "    <tr>\n",
       "      <th>Arezzo</th>\n",
       "      <td>Toscana</td>\n",
       "      <td>43.466428</td>\n",
       "      <td>11.882288</td>\n",
       "      <td>AR</td>\n",
       "      <td>0</td>\n",
       "    </tr>\n",
       "  </tbody>\n",
       "</table>\n",
       "</div>"
      ],
      "text/plain": [
       "                                   denominazione_regione        lat  \\\n",
       "data       denominazione_provincia                                    \n",
       "2020-02-24 Agrigento                             Sicilia  37.309711   \n",
       "           Alessandria                          Piemonte  44.912974   \n",
       "           Ancona                                 Marche  43.616760   \n",
       "           Aosta                           Valle d'Aosta  45.737503   \n",
       "           Arezzo                                Toscana  43.466428   \n",
       "\n",
       "                                         long sigla_provincia  totale_casi  \n",
       "data       denominazione_provincia                                          \n",
       "2020-02-24 Agrigento                13.584575              AG            0  \n",
       "           Alessandria               8.615401              AL            0  \n",
       "           Ancona                   13.518875              AN            0  \n",
       "           Aosta                     7.320149              AO            0  \n",
       "           Arezzo                   11.882288              AR            0  "
      ]
     },
     "execution_count": 280,
     "metadata": {},
     "output_type": "execute_result"
    }
   ],
   "source": [
    "# creating a new table, in which both \"data\" and \"denominazione_provincia\" has been set as index\n",
    "refined_province_data_by_date_and_province = refined_province_data.set_index([\"data\", \"denominazione_provincia\"]).sort_index()\n",
    "refined_province_data_by_date_and_province.head()"
   ]
  },
  {
   "cell_type": "code",
   "execution_count": 281,
   "metadata": {},
   "outputs": [
    {
     "data": {
      "text/html": [
       "<div>\n",
       "<style scoped>\n",
       "    .dataframe tbody tr th:only-of-type {\n",
       "        vertical-align: middle;\n",
       "    }\n",
       "\n",
       "    .dataframe tbody tr th {\n",
       "        vertical-align: top;\n",
       "    }\n",
       "\n",
       "    .dataframe thead th {\n",
       "        text-align: right;\n",
       "    }\n",
       "</style>\n",
       "<table border=\"1\" class=\"dataframe\">\n",
       "  <thead>\n",
       "    <tr style=\"text-align: right;\">\n",
       "      <th></th>\n",
       "      <th></th>\n",
       "      <th>denominazione_regione</th>\n",
       "      <th>lat</th>\n",
       "      <th>long</th>\n",
       "      <th>sigla_provincia</th>\n",
       "      <th>totale_casi</th>\n",
       "    </tr>\n",
       "    <tr>\n",
       "      <th>data</th>\n",
       "      <th>denominazione_provincia</th>\n",
       "      <th></th>\n",
       "      <th></th>\n",
       "      <th></th>\n",
       "      <th></th>\n",
       "      <th></th>\n",
       "    </tr>\n",
       "  </thead>\n",
       "  <tbody>\n",
       "    <tr>\n",
       "      <th rowspan=\"5\" valign=\"top\">2020-05-19</th>\n",
       "      <th>Vercelli</th>\n",
       "      <td>Piemonte</td>\n",
       "      <td>45.323981</td>\n",
       "      <td>8.423234</td>\n",
       "      <td>VC</td>\n",
       "      <td>1254</td>\n",
       "    </tr>\n",
       "    <tr>\n",
       "      <th>Verona</th>\n",
       "      <td>Veneto</td>\n",
       "      <td>45.438390</td>\n",
       "      <td>10.993527</td>\n",
       "      <td>VR</td>\n",
       "      <td>5040</td>\n",
       "    </tr>\n",
       "    <tr>\n",
       "      <th>Vibo Valentia</th>\n",
       "      <td>Calabria</td>\n",
       "      <td>38.676241</td>\n",
       "      <td>16.101574</td>\n",
       "      <td>VV</td>\n",
       "      <td>81</td>\n",
       "    </tr>\n",
       "    <tr>\n",
       "      <th>Vicenza</th>\n",
       "      <td>Veneto</td>\n",
       "      <td>45.547497</td>\n",
       "      <td>11.545971</td>\n",
       "      <td>VI</td>\n",
       "      <td>2824</td>\n",
       "    </tr>\n",
       "    <tr>\n",
       "      <th>Viterbo</th>\n",
       "      <td>Lazio</td>\n",
       "      <td>42.417383</td>\n",
       "      <td>12.104734</td>\n",
       "      <td>VT</td>\n",
       "      <td>421</td>\n",
       "    </tr>\n",
       "  </tbody>\n",
       "</table>\n",
       "</div>"
      ],
      "text/plain": [
       "                                   denominazione_regione        lat  \\\n",
       "data       denominazione_provincia                                    \n",
       "2020-05-19 Vercelli                             Piemonte  45.323981   \n",
       "           Verona                                 Veneto  45.438390   \n",
       "           Vibo Valentia                        Calabria  38.676241   \n",
       "           Vicenza                                Veneto  45.547497   \n",
       "           Viterbo                                 Lazio  42.417383   \n",
       "\n",
       "                                         long sigla_provincia  totale_casi  \n",
       "data       denominazione_provincia                                          \n",
       "2020-05-19 Vercelli                  8.423234              VC         1254  \n",
       "           Verona                   10.993527              VR         5040  \n",
       "           Vibo Valentia            16.101574              VV           81  \n",
       "           Vicenza                  11.545971              VI         2824  \n",
       "           Viterbo                  12.104734              VT          421  "
      ]
     },
     "execution_count": 281,
     "metadata": {},
     "output_type": "execute_result"
    }
   ],
   "source": [
    "refined_province_data_by_date_and_province.tail()"
   ]
  },
  {
   "cell_type": "markdown",
   "metadata": {},
   "source": [
    "Now that our table is ready, a first assessment could be done upon the total cases of Covid-19. We simply group upon the <code>data</code> column, summing the entries inside the <code>totale_casi</code> column. The latitude and longitude columns are dropped since they are not useful in this analysis. \n",
    "\n",
    "The output of such a computation is a table in which, for each day is counted the total number of cases for the whole Italy. We could have also grouped by region obtaining the total number of cases in each region day by day, but this data will be available later on in the region data file, making this computation, redundant."
   ]
  },
  {
   "cell_type": "code",
   "execution_count": 282,
   "metadata": {},
   "outputs": [
    {
     "data": {
      "text/html": [
       "<div>\n",
       "<style scoped>\n",
       "    .dataframe tbody tr th:only-of-type {\n",
       "        vertical-align: middle;\n",
       "    }\n",
       "\n",
       "    .dataframe tbody tr th {\n",
       "        vertical-align: top;\n",
       "    }\n",
       "\n",
       "    .dataframe thead th {\n",
       "        text-align: right;\n",
       "    }\n",
       "</style>\n",
       "<table border=\"1\" class=\"dataframe\">\n",
       "  <thead>\n",
       "    <tr style=\"text-align: right;\">\n",
       "      <th></th>\n",
       "      <th>totale_casi</th>\n",
       "    </tr>\n",
       "    <tr>\n",
       "      <th>data</th>\n",
       "      <th></th>\n",
       "    </tr>\n",
       "  </thead>\n",
       "  <tbody>\n",
       "    <tr>\n",
       "      <th>2020-02-24</th>\n",
       "      <td>0</td>\n",
       "    </tr>\n",
       "    <tr>\n",
       "      <th>2020-02-25</th>\n",
       "      <td>312</td>\n",
       "    </tr>\n",
       "    <tr>\n",
       "      <th>2020-02-26</th>\n",
       "      <td>370</td>\n",
       "    </tr>\n",
       "    <tr>\n",
       "      <th>2020-02-27</th>\n",
       "      <td>625</td>\n",
       "    </tr>\n",
       "    <tr>\n",
       "      <th>2020-02-28</th>\n",
       "      <td>826</td>\n",
       "    </tr>\n",
       "  </tbody>\n",
       "</table>\n",
       "</div>"
      ],
      "text/plain": [
       "            totale_casi\n",
       "data                   \n",
       "2020-02-24            0\n",
       "2020-02-25          312\n",
       "2020-02-26          370\n",
       "2020-02-27          625\n",
       "2020-02-28          826"
      ]
     },
     "execution_count": 282,
     "metadata": {},
     "output_type": "execute_result"
    }
   ],
   "source": [
    "# Grouping by date in order to see how many cases there are day by day\n",
    "\n",
    "total_cases_by_date = refined_province_data_by_date_and_province.drop(columns=[\"lat\", \"long\"]).groupby(['data']).sum()\n",
    "total_cases_by_date.head()"
   ]
  },
  {
   "cell_type": "code",
   "execution_count": 283,
   "metadata": {},
   "outputs": [
    {
     "data": {
      "text/html": [
       "<div>\n",
       "<style scoped>\n",
       "    .dataframe tbody tr th:only-of-type {\n",
       "        vertical-align: middle;\n",
       "    }\n",
       "\n",
       "    .dataframe tbody tr th {\n",
       "        vertical-align: top;\n",
       "    }\n",
       "\n",
       "    .dataframe thead th {\n",
       "        text-align: right;\n",
       "    }\n",
       "</style>\n",
       "<table border=\"1\" class=\"dataframe\">\n",
       "  <thead>\n",
       "    <tr style=\"text-align: right;\">\n",
       "      <th></th>\n",
       "      <th>totale_casi</th>\n",
       "    </tr>\n",
       "    <tr>\n",
       "      <th>data</th>\n",
       "      <th></th>\n",
       "    </tr>\n",
       "  </thead>\n",
       "  <tbody>\n",
       "    <tr>\n",
       "      <th>2020-05-15</th>\n",
       "      <td>220641</td>\n",
       "    </tr>\n",
       "    <tr>\n",
       "      <th>2020-05-16</th>\n",
       "      <td>221498</td>\n",
       "    </tr>\n",
       "    <tr>\n",
       "      <th>2020-05-17</th>\n",
       "      <td>222165</td>\n",
       "    </tr>\n",
       "    <tr>\n",
       "      <th>2020-05-18</th>\n",
       "      <td>222613</td>\n",
       "    </tr>\n",
       "    <tr>\n",
       "      <th>2020-05-19</th>\n",
       "      <td>223415</td>\n",
       "    </tr>\n",
       "  </tbody>\n",
       "</table>\n",
       "</div>"
      ],
      "text/plain": [
       "            totale_casi\n",
       "data                   \n",
       "2020-05-15       220641\n",
       "2020-05-16       221498\n",
       "2020-05-17       222165\n",
       "2020-05-18       222613\n",
       "2020-05-19       223415"
      ]
     },
     "execution_count": 283,
     "metadata": {},
     "output_type": "execute_result"
    }
   ],
   "source": [
    "total_cases_by_date.tail()"
   ]
  },
  {
   "cell_type": "markdown",
   "metadata": {},
   "source": [
    "This new <code>total_cases_by_date</code> table, gives us a nice idea of the trend of the new cases. But of course a graph is capable of providing a much more powerful feedback upon the data, compared to a table. \n",
    "\n",
    "In the following graph are shown the total number of cases from the end of February to the end of May. The x-axis is used to represent the passing of days. Not all ticks labels are visible due to the fact that this would have made unreadable the graph."
   ]
  },
  {
   "cell_type": "code",
   "execution_count": 284,
   "metadata": {},
   "outputs": [
    {
     "data": {
      "image/png": "[encoded data removed]",
      "text/plain": [
       "<Figure size 288x288 with 1 Axes>"
      ]
     },
     "metadata": {
      "needs_background": "light"
     },
     "output_type": "display_data"
    }
   ],
   "source": [
    "# plotting a graph showing day by day the number of total cases in Italy\n",
    "\n",
    "# changing the dates for better readability \n",
    "# E.g. from the date '2020-05-17' the part involving the year is removed, leaving '05-17' as date\n",
    "total_cases_by_date.rename(index=lambda s: s[5:], inplace=True)\n",
    "\n",
    "ax = total_cases_by_date.plot(lw=2, title=\"Total cases in Italy by date\", kind=\"bar\")\n",
    "ax.set_xlabel(\"date\")\n",
    "\n",
    "# sampling the dates on the ticks labels (printing a date label every 5 days)\n",
    "xticks = ax.xaxis.get_major_ticks()\n",
    "for i in range(len(xticks)):\n",
    "    if i % 5 != 0:\n",
    "        xticks[i].set_visible(False)\n",
    "\n",
    "# set font and rotation for date tick labels\n",
    "plt.gcf().autofmt_xdate()"
   ]
  },
  {
   "cell_type": "markdown",
   "metadata": {},
   "source": [
    "TODO eventualmente trarre qualche conclusione sull'aspetto della curva.. è richiesto?"
   ]
  },
  {
   "cell_type": "markdown",
   "metadata": {},
   "source": [
    "Another data that can be single out from the provinces data, is the number of cases in each province up to this moment.\n",
    "For each province is located the max value of <code>totale_casi</code>, that is the number of cases in that province, up to now.\n",
    "\n",
    "With no surprises the maximum number in the total cases in each province is from the last date available, since the number of <code>totale_casi</code>, is incremented each day. "
   ]
  },
  {
   "cell_type": "code",
   "execution_count": 285,
   "metadata": {},
   "outputs": [
    {
     "data": {
      "text/html": [
       "<div>\n",
       "<style scoped>\n",
       "    .dataframe tbody tr th:only-of-type {\n",
       "        vertical-align: middle;\n",
       "    }\n",
       "\n",
       "    .dataframe tbody tr th {\n",
       "        vertical-align: top;\n",
       "    }\n",
       "\n",
       "    .dataframe thead th {\n",
       "        text-align: right;\n",
       "    }\n",
       "</style>\n",
       "<table border=\"1\" class=\"dataframe\">\n",
       "  <thead>\n",
       "    <tr style=\"text-align: right;\">\n",
       "      <th></th>\n",
       "      <th>data</th>\n",
       "      <th>denominazione_provincia</th>\n",
       "      <th>denominazione_regione</th>\n",
       "      <th>totale_casi</th>\n",
       "    </tr>\n",
       "    <tr>\n",
       "      <th>sigla_provincia</th>\n",
       "      <th></th>\n",
       "      <th></th>\n",
       "      <th></th>\n",
       "      <th></th>\n",
       "    </tr>\n",
       "  </thead>\n",
       "  <tbody>\n",
       "    <tr>\n",
       "      <th>AG</th>\n",
       "      <td>2020-05-19</td>\n",
       "      <td>Agrigento</td>\n",
       "      <td>Sicilia</td>\n",
       "      <td>141</td>\n",
       "    </tr>\n",
       "    <tr>\n",
       "      <th>AL</th>\n",
       "      <td>2020-05-19</td>\n",
       "      <td>Alessandria</td>\n",
       "      <td>Piemonte</td>\n",
       "      <td>3807</td>\n",
       "    </tr>\n",
       "    <tr>\n",
       "      <th>AN</th>\n",
       "      <td>2020-05-19</td>\n",
       "      <td>Ancona</td>\n",
       "      <td>Marche</td>\n",
       "      <td>1867</td>\n",
       "    </tr>\n",
       "    <tr>\n",
       "      <th>AO</th>\n",
       "      <td>2020-05-19</td>\n",
       "      <td>Aosta</td>\n",
       "      <td>Valle d'Aosta</td>\n",
       "      <td>1175</td>\n",
       "    </tr>\n",
       "    <tr>\n",
       "      <th>AP</th>\n",
       "      <td>2020-05-19</td>\n",
       "      <td>Ascoli Piceno</td>\n",
       "      <td>Marche</td>\n",
       "      <td>290</td>\n",
       "    </tr>\n",
       "  </tbody>\n",
       "</table>\n",
       "</div>"
      ],
      "text/plain": [
       "                       data denominazione_provincia denominazione_regione  \\\n",
       "sigla_provincia                                                             \n",
       "AG               2020-05-19               Agrigento               Sicilia   \n",
       "AL               2020-05-19             Alessandria              Piemonte   \n",
       "AN               2020-05-19                  Ancona                Marche   \n",
       "AO               2020-05-19                   Aosta         Valle d'Aosta   \n",
       "AP               2020-05-19           Ascoli Piceno                Marche   \n",
       "\n",
       "                 totale_casi  \n",
       "sigla_provincia               \n",
       "AG                       141  \n",
       "AL                      3807  \n",
       "AN                      1867  \n",
       "AO                      1175  \n",
       "AP                       290  "
      ]
     },
     "execution_count": 285,
     "metadata": {},
     "output_type": "execute_result"
    }
   ],
   "source": [
    "max_cases_per_province = refined_province_data.drop(columns=[\"lat\", \"long\"]).groupby(['sigla_provincia']).max()\n",
    "max_cases_per_province.head()"
   ]
  },
  {
   "cell_type": "markdown",
   "metadata": {},
   "source": [
    "As done before, a result obtained in a table can be presented with a graph. In order to keep simple the appearence of the graph, and avoid it to become excessively messy, only the top 15 provinces with most cases are shown. "
   ]
  },
  {
   "cell_type": "code",
   "execution_count": 286,
   "metadata": {},
   "outputs": [
    {
     "data": {
      "text/plain": [
       "Text(0.5, 1.0, 'Top 15 provinces with most cases')"
      ]
     },
     "execution_count": 286,
     "metadata": {},
     "output_type": "execute_result"
    },
    {
     "data": {
      "image/png": "[encoded data removed]",
      "text/plain": [
       "<Figure size 288x288 with 1 Axes>"
      ]
     },
     "metadata": {
      "needs_background": "light"
     },
     "output_type": "display_data"
    }
   ],
   "source": [
    "# Showing the top 15 provinces with the highest value on 'totale_casi'\n",
    "\n",
    "max_cases_per_province.groupby(['sigla_provincia']).max().nlargest(15, 'totale_casi').plot(kind=\"bar\")\n",
    "plt.title(\"Top 15 provinces with most cases\")"
   ]
  },
  {
   "cell_type": "markdown",
   "metadata": {},
   "source": [
    "We could also be interested, in knowing the evolution of the distribution of total cases in the various provinces. Keeping this in mind we can collect the number of cases of each province per month and plot a pie chart to help us visualize that. \n",
    "\n",
    "As said before, in order to keep the view as clean as possible, we only enclose the provinces with most cases in the plot. \n",
    "\n",
    "As first thing is prepared the table that displays the number of cases of coronavirus per month, for each province. During this analysis are only taken into account the three months of March, April and May."
   ]
  },
  {
   "cell_type": "code",
   "execution_count": 287,
   "metadata": {},
   "outputs": [
    {
     "data": {
      "text/html": [
       "<div>\n",
       "<style scoped>\n",
       "    .dataframe tbody tr th:only-of-type {\n",
       "        vertical-align: middle;\n",
       "    }\n",
       "\n",
       "    .dataframe tbody tr th {\n",
       "        vertical-align: top;\n",
       "    }\n",
       "\n",
       "    .dataframe thead th {\n",
       "        text-align: right;\n",
       "    }\n",
       "</style>\n",
       "<table border=\"1\" class=\"dataframe\">\n",
       "  <thead>\n",
       "    <tr style=\"text-align: right;\">\n",
       "      <th>data</th>\n",
       "      <th>2020-03</th>\n",
       "      <th>2020-04</th>\n",
       "      <th>2020-05</th>\n",
       "    </tr>\n",
       "  </thead>\n",
       "  <tbody>\n",
       "    <tr>\n",
       "      <th>AG</th>\n",
       "      <td>94</td>\n",
       "      <td>135</td>\n",
       "      <td>141</td>\n",
       "    </tr>\n",
       "    <tr>\n",
       "      <th>AL</th>\n",
       "      <td>1317</td>\n",
       "      <td>3417</td>\n",
       "      <td>3807</td>\n",
       "    </tr>\n",
       "    <tr>\n",
       "      <th>AN</th>\n",
       "      <td>1116</td>\n",
       "      <td>1810</td>\n",
       "      <td>1867</td>\n",
       "    </tr>\n",
       "    <tr>\n",
       "      <th>AO</th>\n",
       "      <td>628</td>\n",
       "      <td>1128</td>\n",
       "      <td>1175</td>\n",
       "    </tr>\n",
       "    <tr>\n",
       "      <th>AP</th>\n",
       "      <td>222</td>\n",
       "      <td>281</td>\n",
       "      <td>290</td>\n",
       "    </tr>\n",
       "  </tbody>\n",
       "</table>\n",
       "</div>"
      ],
      "text/plain": [
       "data  2020-03  2020-04  2020-05\n",
       "AG         94      135      141\n",
       "AL       1317     3417     3807\n",
       "AN       1116     1810     1867\n",
       "AO        628     1128     1175\n",
       "AP        222      281      290"
      ]
     },
     "execution_count": 287,
     "metadata": {},
     "output_type": "execute_result"
    }
   ],
   "source": [
    "# creating a table with key the column sigla_provincia and data\n",
    "sigla_provincia_table = refined_province_data.set_index([\"sigla_provincia\",\"data\"])\n",
    "\n",
    "# Get the provinces name in terms of sigla_provincia\n",
    "provinces = refined_province_data.set_index(\"sigla_provincia\").index.unique(level=0)\n",
    "\n",
    "# Create a DataFrame with total cases per month for each province\n",
    "cases_per_month = {}\n",
    "\n",
    "# iterating through the provinces and setting the max cases per month in the proper dictionary\n",
    "for province in provinces: \n",
    "    province_info = sigla_provincia_table.loc[province]\n",
    "    # The 'groupby(province_info.data.str[:7]' is used to group the rows according to the month\n",
    "    # The [:7] is used to slice the first 7 letters of the 'data' column\n",
    "    # 2020-05-15 ---> 2020-05\n",
    "    # And finally we take the max from 'totale_casi' per each province, each month\n",
    "    cases_per_month[province] = pd.Series(province_info.groupby(province_info.index.str[:7])['totale_casi'].max())\n",
    "\n",
    "# Create the DataFrame using the Series defined in the for loop\n",
    "cpm = pd.DataFrame(cases_per_month)\n",
    "cpm = cpm.T # For a better view\n",
    "\n",
    "# the February column is not of our interest. The data collected during this month is not enough to obtain a proper\n",
    "# analysis \n",
    "cpm = cpm.drop(columns=['2020-02'])\n",
    "cmp = cpm.sort_index()\n",
    "\n",
    "# showing below the new table of cases per month.\n",
    "cmp.head()"
   ]
  },
  {
   "cell_type": "markdown",
   "metadata": {
    "pycharm": {
     "name": "#%% md\n"
    }
   },
   "source": [
    "TODO: inserire la parte dei grafici a torta e barre qui"
   ]
  },
  {
   "cell_type": "markdown",
   "metadata": {
    "pycharm": {
     "name": "#%% md\n"
    }
   },
   "source": [
    "It can also be shown a graph that displays the trend of total cases, day by day for the most infected provinces. To keep the graph simple, like always are not shown all the provinces. In this case are only presented the eight worst. \n",
    "\n",
    "On the x-axis is placed the passing of days, and the vertical bar, labeled as <code>Lockdown</code> is put to indicate the beginning of the lockdown, enforced by the government in Italy. "
   ]
  },
  {
   "cell_type": "markdown",
   "metadata": {
    "pycharm": {
     "name": "#%% md\n"
    }
   },
   "source": [
    "TODO: inserire qui il grafico dove viene mostrato inizio lockdown"
   ]
  },
  {
   "cell_type": "markdown",
   "metadata": {},
   "source": [
    "To help us visualize the spread of the virus through the provinces, we could also draw a map of Italy and highlight the provinces with dots with a different coloring depending on the number of cases per province. \n",
    "We have selected three different days to show the evolution of the desease.\n",
    "\n",
    "In order to do this we used the library [GeoPandas](https://geopandas.org/) in addition to a [daset](http://www.diva-gis.org/gdata) of geological data of Italy, that could help us plot the whole country.\n",
    "Different shapely files were available, with differents level of details. We used a <code>.shp</code> file with regional informations in order to keep the view simple.\n",
    "\n",
    "We will now describe step by step how to plot the described view, starting from the loading of the geological data file."
   ]
  },
  {
   "cell_type": "code",
   "execution_count": 288,
   "metadata": {},
   "outputs": [
    {
     "data": {
      "text/html": [
       "<div>\n",
       "<style scoped>\n",
       "    .dataframe tbody tr th:only-of-type {\n",
       "        vertical-align: middle;\n",
       "    }\n",
       "\n",
       "    .dataframe tbody tr th {\n",
       "        vertical-align: top;\n",
       "    }\n",
       "\n",
       "    .dataframe thead th {\n",
       "        text-align: right;\n",
       "    }\n",
       "</style>\n",
       "<table border=\"1\" class=\"dataframe\">\n",
       "  <thead>\n",
       "    <tr style=\"text-align: right;\">\n",
       "      <th></th>\n",
       "      <th>NAME_1</th>\n",
       "      <th>geometry</th>\n",
       "    </tr>\n",
       "  </thead>\n",
       "  <tbody>\n",
       "    <tr>\n",
       "      <th>0</th>\n",
       "      <td>Abruzzo</td>\n",
       "      <td>POLYGON ((13.91542 42.89561, 13.91542 42.89542...</td>\n",
       "    </tr>\n",
       "    <tr>\n",
       "      <th>1</th>\n",
       "      <td>Apulia</td>\n",
       "      <td>MULTIPOLYGON (((17.94931 40.05375, 17.94931 40...</td>\n",
       "    </tr>\n",
       "    <tr>\n",
       "      <th>2</th>\n",
       "      <td>Basilicata</td>\n",
       "      <td>MULTIPOLYGON (((15.71736 39.96792, 15.71736 39...</td>\n",
       "    </tr>\n",
       "    <tr>\n",
       "      <th>3</th>\n",
       "      <td>Calabria</td>\n",
       "      <td>MULTIPOLYGON (((15.80208 39.70014, 15.80208 39...</td>\n",
       "    </tr>\n",
       "    <tr>\n",
       "      <th>4</th>\n",
       "      <td>Campania</td>\n",
       "      <td>MULTIPOLYGON (((14.25264 40.54153, 14.25264 40...</td>\n",
       "    </tr>\n",
       "  </tbody>\n",
       "</table>\n",
       "</div>"
      ],
      "text/plain": [
       "       NAME_1                                           geometry\n",
       "0     Abruzzo  POLYGON ((13.91542 42.89561, 13.91542 42.89542...\n",
       "1      Apulia  MULTIPOLYGON (((17.94931 40.05375, 17.94931 40...\n",
       "2  Basilicata  MULTIPOLYGON (((15.71736 39.96792, 15.71736 39...\n",
       "3    Calabria  MULTIPOLYGON (((15.80208 39.70014, 15.80208 39...\n",
       "4    Campania  MULTIPOLYGON (((14.25264 40.54153, 14.25264 40..."
      ]
     },
     "execution_count": 288,
     "metadata": {},
     "output_type": "execute_result"
    }
   ],
   "source": [
    "# set the filepath of the file, and load in a shapefile\n",
    "fp = \"shape-italy/ITA_adm1.shp\"\n",
    "map_df = gpd.read_file(fp)\n",
    "\n",
    "# we drop some of the columns of the dataset, that are not useful to us\n",
    "map_df = map_df.drop(columns=[\"VARNAME_1\", \"TYPE_1\", \"ID_1\", \"ENGTYPE_1\", \"NL_NAME_1\", \"ISO\", \"ID_0\", \"NAME_0\"])\n",
    "map_df.head()"
   ]
  },
  {
   "cell_type": "markdown",
   "metadata": {},
   "source": [
    "As we can see, the <code>map_df</code> table holds, for each region, a polygon, or multipolygon, that gives us the informations on how to outline the specific region. We can already plot this table to see what it looks like. "
   ]
  },
  {
   "cell_type": "code",
   "execution_count": 289,
   "metadata": {},
   "outputs": [
    {
     "data": {
      "image/png": "[encoded data removed]",
      "text/plain": [
       "<Figure size 576x504 with 1 Axes>"
      ]
     },
     "metadata": {
      "needs_background": "light"
     },
     "output_type": "display_data"
    }
   ],
   "source": [
    "with plt.rc_context({\"figure.figsize\": [8,7]}):\n",
    "    map_df.plot()"
   ]
  },
  {
   "cell_type": "markdown",
   "metadata": {},
   "source": [
    "Now that we have our base map we have to plot on it, the dots representative of the provinces data. For this reason, we are interested in having a table that selects latitude and longitude data together with the number of total cases per day. \n",
    "\n",
    "However, as said before, we only want to plot three representative days, in order to show the evolution of the spread of the virus through provinces. The newly created table <code>density_data</code> takes into consideration this idea."
   ]
  },
  {
   "cell_type": "code",
   "execution_count": 290,
   "metadata": {},
   "outputs": [
    {
     "data": {
      "text/html": [
       "<div>\n",
       "<style scoped>\n",
       "    .dataframe tbody tr th:only-of-type {\n",
       "        vertical-align: middle;\n",
       "    }\n",
       "\n",
       "    .dataframe tbody tr th {\n",
       "        vertical-align: top;\n",
       "    }\n",
       "\n",
       "    .dataframe thead th {\n",
       "        text-align: right;\n",
       "    }\n",
       "</style>\n",
       "<table border=\"1\" class=\"dataframe\">\n",
       "  <thead>\n",
       "    <tr style=\"text-align: right;\">\n",
       "      <th></th>\n",
       "      <th></th>\n",
       "      <th>lat</th>\n",
       "      <th>long</th>\n",
       "      <th>sigla_provincia</th>\n",
       "      <th>totale_casi</th>\n",
       "    </tr>\n",
       "    <tr>\n",
       "      <th>data</th>\n",
       "      <th>denominazione_provincia</th>\n",
       "      <th></th>\n",
       "      <th></th>\n",
       "      <th></th>\n",
       "      <th></th>\n",
       "    </tr>\n",
       "  </thead>\n",
       "  <tbody>\n",
       "    <tr>\n",
       "      <th rowspan=\"5\" valign=\"top\">2020-02-28</th>\n",
       "      <th>Agrigento</th>\n",
       "      <td>37.309711</td>\n",
       "      <td>13.584575</td>\n",
       "      <td>AG</td>\n",
       "      <td>0</td>\n",
       "    </tr>\n",
       "    <tr>\n",
       "      <th>Alessandria</th>\n",
       "      <td>44.912974</td>\n",
       "      <td>8.615401</td>\n",
       "      <td>AL</td>\n",
       "      <td>0</td>\n",
       "    </tr>\n",
       "    <tr>\n",
       "      <th>Ancona</th>\n",
       "      <td>43.616760</td>\n",
       "      <td>13.518875</td>\n",
       "      <td>AN</td>\n",
       "      <td>0</td>\n",
       "    </tr>\n",
       "    <tr>\n",
       "      <th>Aosta</th>\n",
       "      <td>45.737503</td>\n",
       "      <td>7.320149</td>\n",
       "      <td>AO</td>\n",
       "      <td>0</td>\n",
       "    </tr>\n",
       "    <tr>\n",
       "      <th>Arezzo</th>\n",
       "      <td>43.466428</td>\n",
       "      <td>11.882288</td>\n",
       "      <td>AR</td>\n",
       "      <td>0</td>\n",
       "    </tr>\n",
       "  </tbody>\n",
       "</table>\n",
       "</div>"
      ],
      "text/plain": [
       "                                          lat       long sigla_provincia  \\\n",
       "data       denominazione_provincia                                         \n",
       "2020-02-28 Agrigento                37.309711  13.584575              AG   \n",
       "           Alessandria              44.912974   8.615401              AL   \n",
       "           Ancona                   43.616760  13.518875              AN   \n",
       "           Aosta                    45.737503   7.320149              AO   \n",
       "           Arezzo                   43.466428  11.882288              AR   \n",
       "\n",
       "                                    totale_casi  \n",
       "data       denominazione_provincia               \n",
       "2020-02-28 Agrigento                          0  \n",
       "           Alessandria                        0  \n",
       "           Ancona                             0  \n",
       "           Aosta                              0  \n",
       "           Arezzo                             0  "
      ]
     },
     "execution_count": 290,
     "metadata": {},
     "output_type": "execute_result"
    }
   ],
   "source": [
    "density_data = refined_province_data[refined_province_data['data'].isin(['2020-02-28', '2020-03-28', '2020-05-19'])].drop(\n",
    "    columns=[\"denominazione_regione\"]).set_index(\n",
    "    [\"data\", \"denominazione_provincia\"]).sort_index()\n",
    "density_data.head()\n"
   ]
  },
  {
   "cell_type": "markdown",
   "metadata": {},
   "source": [
    "Before merging the two data, from the map and the provinces, we have to make sure that the coordinate reference system is the same for both data. For latitude and longitude points we use the following crs. \n",
    "\n",
    "From the <code>density_data</code> we also extract the geometrical positions of the provinces, using the latitude and longitude data. Here is reported the result for some of the points obtained."
   ]
  },
  {
   "cell_type": "code",
   "execution_count": 291,
   "metadata": {},
   "outputs": [
    {
     "data": {
      "text/plain": [
       "[<shapely.geometry.point.Point at 0x132f43780>,\n",
       " <shapely.geometry.point.Point at 0x132f33a58>,\n",
       " <shapely.geometry.point.Point at 0x1332811d0>]"
      ]
     },
     "execution_count": 291,
     "metadata": {},
     "output_type": "execute_result"
    }
   ],
   "source": [
    "crs = CRS(\"epsg:4326\")\n",
    "geometry = [Point(xy) for xy in zip(density_data['long'], density_data['lat'])]\n",
    "# plotting some points\n",
    "geometry[:3]"
   ]
  },
  {
   "cell_type": "markdown",
   "metadata": {},
   "source": [
    "It's now time to combine the two data: the points and the provinces data, by creating a GeoDataFrame."
   ]
  },
  {
   "cell_type": "code",
   "execution_count": 292,
   "metadata": {
    "scrolled": true
   },
   "outputs": [
    {
     "data": {
      "text/html": [
       "<div>\n",
       "<style scoped>\n",
       "    .dataframe tbody tr th:only-of-type {\n",
       "        vertical-align: middle;\n",
       "    }\n",
       "\n",
       "    .dataframe tbody tr th {\n",
       "        vertical-align: top;\n",
       "    }\n",
       "\n",
       "    .dataframe thead th {\n",
       "        text-align: right;\n",
       "    }\n",
       "</style>\n",
       "<table border=\"1\" class=\"dataframe\">\n",
       "  <thead>\n",
       "    <tr style=\"text-align: right;\">\n",
       "      <th></th>\n",
       "      <th></th>\n",
       "      <th>lat</th>\n",
       "      <th>long</th>\n",
       "      <th>sigla_provincia</th>\n",
       "      <th>totale_casi</th>\n",
       "      <th>geometry</th>\n",
       "    </tr>\n",
       "    <tr>\n",
       "      <th>data</th>\n",
       "      <th>denominazione_provincia</th>\n",
       "      <th></th>\n",
       "      <th></th>\n",
       "      <th></th>\n",
       "      <th></th>\n",
       "      <th></th>\n",
       "    </tr>\n",
       "  </thead>\n",
       "  <tbody>\n",
       "    <tr>\n",
       "      <th rowspan=\"5\" valign=\"top\">2020-02-28</th>\n",
       "      <th>Agrigento</th>\n",
       "      <td>37.309711</td>\n",
       "      <td>13.584575</td>\n",
       "      <td>AG</td>\n",
       "      <td>0</td>\n",
       "      <td>POINT (13.58457 37.30971)</td>\n",
       "    </tr>\n",
       "    <tr>\n",
       "      <th>Alessandria</th>\n",
       "      <td>44.912974</td>\n",
       "      <td>8.615401</td>\n",
       "      <td>AL</td>\n",
       "      <td>0</td>\n",
       "      <td>POINT (8.61540 44.91297)</td>\n",
       "    </tr>\n",
       "    <tr>\n",
       "      <th>Ancona</th>\n",
       "      <td>43.616760</td>\n",
       "      <td>13.518875</td>\n",
       "      <td>AN</td>\n",
       "      <td>0</td>\n",
       "      <td>POINT (13.51888 43.61676)</td>\n",
       "    </tr>\n",
       "    <tr>\n",
       "      <th>Aosta</th>\n",
       "      <td>45.737503</td>\n",
       "      <td>7.320149</td>\n",
       "      <td>AO</td>\n",
       "      <td>0</td>\n",
       "      <td>POINT (7.32015 45.73750)</td>\n",
       "    </tr>\n",
       "    <tr>\n",
       "      <th>Arezzo</th>\n",
       "      <td>43.466428</td>\n",
       "      <td>11.882288</td>\n",
       "      <td>AR</td>\n",
       "      <td>0</td>\n",
       "      <td>POINT (11.88229 43.46643)</td>\n",
       "    </tr>\n",
       "  </tbody>\n",
       "</table>\n",
       "</div>"
      ],
      "text/plain": [
       "                                          lat       long sigla_provincia  \\\n",
       "data       denominazione_provincia                                         \n",
       "2020-02-28 Agrigento                37.309711  13.584575              AG   \n",
       "           Alessandria              44.912974   8.615401              AL   \n",
       "           Ancona                   43.616760  13.518875              AN   \n",
       "           Aosta                    45.737503   7.320149              AO   \n",
       "           Arezzo                   43.466428  11.882288              AR   \n",
       "\n",
       "                                    totale_casi                   geometry  \n",
       "data       denominazione_provincia                                          \n",
       "2020-02-28 Agrigento                          0  POINT (13.58457 37.30971)  \n",
       "           Alessandria                        0   POINT (8.61540 44.91297)  \n",
       "           Ancona                             0  POINT (13.51888 43.61676)  \n",
       "           Aosta                              0   POINT (7.32015 45.73750)  \n",
       "           Arezzo                             0  POINT (11.88229 43.46643)  "
      ]
     },
     "execution_count": 292,
     "metadata": {},
     "output_type": "execute_result"
    }
   ],
   "source": [
    "geo_df= gpd.GeoDataFrame(density_data, crs = crs, geometry = geometry)\n",
    "geo_df.head()"
   ]
  },
  {
   "cell_type": "markdown",
   "metadata": {},
   "source": [
    "Now that we have all the informations required, we can proceed to the plotting, by dividing the area into three sub-plots, one for each day, and representing with different colors a major or minor number of total cases per province.\n",
    "\n",
    "TODO: rendere uniforme la scala di colormap e trovare il modo di ingrandire i pallini"
   ]
  },
  {
   "cell_type": "code",
   "execution_count": 293,
   "metadata": {},
   "outputs": [
    {
     "data": {
      "image/png": "[encoded data removed]",
      "text/plain": [
       "<Figure size 1224x432 with 4 Axes>"
      ]
     },
     "metadata": {
      "needs_background": "light"
     },
     "output_type": "display_data"
    }
   ],
   "source": [
    "from matplotlib.colors import LinearSegmentedColormap\n",
    "\n",
    "days = density_data.index.unique(level=0)\n",
    "grid_size = (1,len(days)) #three days\n",
    "fig, axes = plt.subplots(nrows=grid_size[0], ncols=grid_size[1], figsize=(17,6))\n",
    "\n",
    "for i, day in enumerate(range(len(days))):\n",
    "    rowData = geo_df.loc[ days[i] , : ]\n",
    "    totale_casi_per_data=rowData['totale_casi']\n",
    "    x=rowData['long']\n",
    "    y=rowData['lat']\n",
    "    \n",
    "    axes[i].set_title(days[i])\n",
    "    axes[i].set_xlabel(\"longitude\")\n",
    "    \n",
    "    map_df.plot(ax=axes[i], alpha=0.8, color=\"black\")\n",
    "    im = axes[i].hexbin(x,y, C=totale_casi_per_data, bins='log', edgecolors=None, cmap='rainbow')\n",
    "\n",
    "# Color bar\n",
    "axes[0].set_ylabel(\"latitude\")\n",
    "plt.colorbar(im,fraction=0.046, pad=0.04)\n",
    "plt.show()\n"
   ]
  },
  {
   "cell_type": "markdown",
   "metadata": {
    "pycharm": {
     "name": "#%% md\n"
    }
   },
   "source": [
    "Fixed 'till this point, provinces"
   ]
  },
  {
   "cell_type": "markdown",
   "metadata": {
    "pycharm": {
     "name": "#%% md\n"
    }
   },
   "source": [
    "## Region Analysis"
   ]
  },
  {
   "cell_type": "markdown",
   "metadata": {
    "pycharm": {
     "name": "#%% md\n"
    }
   },
   "source": [
    "As already seen with the provinces data, the first thing we want to show, is how the raw data from the region file is presented to us, with just a few adjustments. \n",
    "\n",
    "The modifications adopted are the following:\n",
    "\n",
    "- As before is created a DataFrame <code>refined_region_data</code> in which some unnecessary columns are dropped,\n",
    "- Also, just as with the province data, the date is reformatted cropping out useless data,\n",
    "- Some of the data related, for example, to the column <code>casi_testati</code>, are not available and displayed as <code>NaN</code>. For better working with the data, we prefer to handle this kind as missing data by replacing it with 0.\n",
    "\n",
    "The result of this operations is reported below."
   ]
  },
  {
   "cell_type": "code",
   "execution_count": 294,
   "metadata": {
    "pycharm": {
     "name": "#%%\n"
    }
   },
   "outputs": [
    {
     "data": {
      "text/html": [
       "<div>\n",
       "<style scoped>\n",
       "    .dataframe tbody tr th:only-of-type {\n",
       "        vertical-align: middle;\n",
       "    }\n",
       "\n",
       "    .dataframe tbody tr th {\n",
       "        vertical-align: top;\n",
       "    }\n",
       "\n",
       "    .dataframe thead th {\n",
       "        text-align: right;\n",
       "    }\n",
       "</style>\n",
       "<table border=\"1\" class=\"dataframe\">\n",
       "  <thead>\n",
       "    <tr style=\"text-align: right;\">\n",
       "      <th></th>\n",
       "      <th>casi_testati</th>\n",
       "      <th>data</th>\n",
       "      <th>deceduti</th>\n",
       "      <th>denominazione_regione</th>\n",
       "      <th>dimessi_guariti</th>\n",
       "      <th>isolamento_domiciliare</th>\n",
       "      <th>nuovi_positivi</th>\n",
       "      <th>ricoverati_con_sintomi</th>\n",
       "      <th>tamponi</th>\n",
       "      <th>terapia_intensiva</th>\n",
       "      <th>totale_casi</th>\n",
       "      <th>totale_ospedalizzati</th>\n",
       "      <th>totale_positivi</th>\n",
       "      <th>variazione_totale_positivi</th>\n",
       "    </tr>\n",
       "  </thead>\n",
       "  <tbody>\n",
       "    <tr>\n",
       "      <th>0</th>\n",
       "      <td>0.0</td>\n",
       "      <td>2020-02-24</td>\n",
       "      <td>0</td>\n",
       "      <td>Abruzzo</td>\n",
       "      <td>0</td>\n",
       "      <td>0</td>\n",
       "      <td>0</td>\n",
       "      <td>0</td>\n",
       "      <td>5</td>\n",
       "      <td>0</td>\n",
       "      <td>0</td>\n",
       "      <td>0</td>\n",
       "      <td>0</td>\n",
       "      <td>0</td>\n",
       "    </tr>\n",
       "    <tr>\n",
       "      <th>1</th>\n",
       "      <td>0.0</td>\n",
       "      <td>2020-02-24</td>\n",
       "      <td>0</td>\n",
       "      <td>Basilicata</td>\n",
       "      <td>0</td>\n",
       "      <td>0</td>\n",
       "      <td>0</td>\n",
       "      <td>0</td>\n",
       "      <td>0</td>\n",
       "      <td>0</td>\n",
       "      <td>0</td>\n",
       "      <td>0</td>\n",
       "      <td>0</td>\n",
       "      <td>0</td>\n",
       "    </tr>\n",
       "    <tr>\n",
       "      <th>2</th>\n",
       "      <td>0.0</td>\n",
       "      <td>2020-02-24</td>\n",
       "      <td>0</td>\n",
       "      <td>P.A. Bolzano</td>\n",
       "      <td>0</td>\n",
       "      <td>0</td>\n",
       "      <td>0</td>\n",
       "      <td>0</td>\n",
       "      <td>1</td>\n",
       "      <td>0</td>\n",
       "      <td>0</td>\n",
       "      <td>0</td>\n",
       "      <td>0</td>\n",
       "      <td>0</td>\n",
       "    </tr>\n",
       "    <tr>\n",
       "      <th>3</th>\n",
       "      <td>0.0</td>\n",
       "      <td>2020-02-24</td>\n",
       "      <td>0</td>\n",
       "      <td>Calabria</td>\n",
       "      <td>0</td>\n",
       "      <td>0</td>\n",
       "      <td>0</td>\n",
       "      <td>0</td>\n",
       "      <td>1</td>\n",
       "      <td>0</td>\n",
       "      <td>0</td>\n",
       "      <td>0</td>\n",
       "      <td>0</td>\n",
       "      <td>0</td>\n",
       "    </tr>\n",
       "    <tr>\n",
       "      <th>4</th>\n",
       "      <td>0.0</td>\n",
       "      <td>2020-02-24</td>\n",
       "      <td>0</td>\n",
       "      <td>Campania</td>\n",
       "      <td>0</td>\n",
       "      <td>0</td>\n",
       "      <td>0</td>\n",
       "      <td>0</td>\n",
       "      <td>10</td>\n",
       "      <td>0</td>\n",
       "      <td>0</td>\n",
       "      <td>0</td>\n",
       "      <td>0</td>\n",
       "      <td>0</td>\n",
       "    </tr>\n",
       "  </tbody>\n",
       "</table>\n",
       "</div>"
      ],
      "text/plain": [
       "   casi_testati        data  deceduti denominazione_regione  dimessi_guariti  \\\n",
       "0           0.0  2020-02-24         0               Abruzzo                0   \n",
       "1           0.0  2020-02-24         0            Basilicata                0   \n",
       "2           0.0  2020-02-24         0          P.A. Bolzano                0   \n",
       "3           0.0  2020-02-24         0              Calabria                0   \n",
       "4           0.0  2020-02-24         0              Campania                0   \n",
       "\n",
       "   isolamento_domiciliare  nuovi_positivi  ricoverati_con_sintomi  tamponi  \\\n",
       "0                       0               0                       0        5   \n",
       "1                       0               0                       0        0   \n",
       "2                       0               0                       0        1   \n",
       "3                       0               0                       0        1   \n",
       "4                       0               0                       0       10   \n",
       "\n",
       "   terapia_intensiva  totale_casi  totale_ospedalizzati  totale_positivi  \\\n",
       "0                  0            0                     0                0   \n",
       "1                  0            0                     0                0   \n",
       "2                  0            0                     0                0   \n",
       "3                  0            0                     0                0   \n",
       "4                  0            0                     0                0   \n",
       "\n",
       "   variazione_totale_positivi  \n",
       "0                           0  \n",
       "1                           0  \n",
       "2                           0  \n",
       "3                           0  \n",
       "4                           0  "
      ]
     },
     "execution_count": 294,
     "metadata": {},
     "output_type": "execute_result"
    }
   ],
   "source": [
    "# loding into a DataFrame the regions data as is\n",
    "region_data = pd.DataFrame(covid19_regions_data)\n",
    "\n",
    "# performing the few modifications listed above\n",
    "#refined_region_data = region_data[province_data.denominazione_provincia!= \"In fase di definizione/aggiornamento\"].drop(columns=[\"note_it\", \"note_en\", \"codice_provincia\", \"codice_regione\", \"stato\"])\n",
    "refined_region_data = region_data.drop(columns=[\"stato\", \"note_en\", \"note_it\", \"lat\", \"long\", \"codice_regione\"])\n",
    "\n",
    "# for each date value is cropped the ending, leaving only the structure year-month-day.\n",
    "# E.g. from the original date '2020-02-24T18:00:00' the result is simply '2020-02-24'\n",
    "refined_region_data['data'] = refined_region_data['data'].map(lambda a: a[:10])\n",
    "\n",
    "# we want to handle missing data as 0\n",
    "refined_region_data = refined_region_data.fillna(0)\n",
    "refined_region_data.fillna(0).head()\n"
   ]
  },
  {
   "cell_type": "markdown",
   "metadata": {},
   "source": [
    "For the next computations we are interested in using as index for the region table, the column <code>denominazione_regione</code> and <code>data</code>. Also the records are sorted according to both index."
   ]
  },
  {
   "cell_type": "code",
   "execution_count": 295,
   "metadata": {
    "pycharm": {
     "name": "#%%\n"
    }
   },
   "outputs": [
    {
     "data": {
      "text/html": [
       "<div>\n",
       "<style scoped>\n",
       "    .dataframe tbody tr th:only-of-type {\n",
       "        vertical-align: middle;\n",
       "    }\n",
       "\n",
       "    .dataframe tbody tr th {\n",
       "        vertical-align: top;\n",
       "    }\n",
       "\n",
       "    .dataframe thead th {\n",
       "        text-align: right;\n",
       "    }\n",
       "</style>\n",
       "<table border=\"1\" class=\"dataframe\">\n",
       "  <thead>\n",
       "    <tr style=\"text-align: right;\">\n",
       "      <th></th>\n",
       "      <th></th>\n",
       "      <th>casi_testati</th>\n",
       "      <th>deceduti</th>\n",
       "      <th>dimessi_guariti</th>\n",
       "      <th>isolamento_domiciliare</th>\n",
       "      <th>nuovi_positivi</th>\n",
       "      <th>ricoverati_con_sintomi</th>\n",
       "      <th>tamponi</th>\n",
       "      <th>terapia_intensiva</th>\n",
       "      <th>totale_casi</th>\n",
       "      <th>totale_ospedalizzati</th>\n",
       "      <th>totale_positivi</th>\n",
       "      <th>variazione_totale_positivi</th>\n",
       "    </tr>\n",
       "    <tr>\n",
       "      <th>denominazione_regione</th>\n",
       "      <th>data</th>\n",
       "      <th></th>\n",
       "      <th></th>\n",
       "      <th></th>\n",
       "      <th></th>\n",
       "      <th></th>\n",
       "      <th></th>\n",
       "      <th></th>\n",
       "      <th></th>\n",
       "      <th></th>\n",
       "      <th></th>\n",
       "      <th></th>\n",
       "      <th></th>\n",
       "    </tr>\n",
       "  </thead>\n",
       "  <tbody>\n",
       "    <tr>\n",
       "      <th rowspan=\"5\" valign=\"top\">Abruzzo</th>\n",
       "      <th>2020-02-24</th>\n",
       "      <td>0.0</td>\n",
       "      <td>0</td>\n",
       "      <td>0</td>\n",
       "      <td>0</td>\n",
       "      <td>0</td>\n",
       "      <td>0</td>\n",
       "      <td>5</td>\n",
       "      <td>0</td>\n",
       "      <td>0</td>\n",
       "      <td>0</td>\n",
       "      <td>0</td>\n",
       "      <td>0</td>\n",
       "    </tr>\n",
       "    <tr>\n",
       "      <th>2020-02-25</th>\n",
       "      <td>0.0</td>\n",
       "      <td>0</td>\n",
       "      <td>0</td>\n",
       "      <td>0</td>\n",
       "      <td>0</td>\n",
       "      <td>0</td>\n",
       "      <td>5</td>\n",
       "      <td>0</td>\n",
       "      <td>0</td>\n",
       "      <td>0</td>\n",
       "      <td>0</td>\n",
       "      <td>0</td>\n",
       "    </tr>\n",
       "    <tr>\n",
       "      <th>2020-02-26</th>\n",
       "      <td>0.0</td>\n",
       "      <td>0</td>\n",
       "      <td>0</td>\n",
       "      <td>0</td>\n",
       "      <td>0</td>\n",
       "      <td>0</td>\n",
       "      <td>13</td>\n",
       "      <td>0</td>\n",
       "      <td>0</td>\n",
       "      <td>0</td>\n",
       "      <td>0</td>\n",
       "      <td>0</td>\n",
       "    </tr>\n",
       "    <tr>\n",
       "      <th>2020-02-27</th>\n",
       "      <td>0.0</td>\n",
       "      <td>0</td>\n",
       "      <td>0</td>\n",
       "      <td>0</td>\n",
       "      <td>1</td>\n",
       "      <td>1</td>\n",
       "      <td>33</td>\n",
       "      <td>0</td>\n",
       "      <td>1</td>\n",
       "      <td>1</td>\n",
       "      <td>1</td>\n",
       "      <td>1</td>\n",
       "    </tr>\n",
       "    <tr>\n",
       "      <th>2020-02-28</th>\n",
       "      <td>0.0</td>\n",
       "      <td>0</td>\n",
       "      <td>0</td>\n",
       "      <td>0</td>\n",
       "      <td>0</td>\n",
       "      <td>1</td>\n",
       "      <td>33</td>\n",
       "      <td>0</td>\n",
       "      <td>1</td>\n",
       "      <td>1</td>\n",
       "      <td>1</td>\n",
       "      <td>0</td>\n",
       "    </tr>\n",
       "  </tbody>\n",
       "</table>\n",
       "</div>"
      ],
      "text/plain": [
       "                                  casi_testati  deceduti  dimessi_guariti  \\\n",
       "denominazione_regione data                                                  \n",
       "Abruzzo               2020-02-24           0.0         0                0   \n",
       "                      2020-02-25           0.0         0                0   \n",
       "                      2020-02-26           0.0         0                0   \n",
       "                      2020-02-27           0.0         0                0   \n",
       "                      2020-02-28           0.0         0                0   \n",
       "\n",
       "                                  isolamento_domiciliare  nuovi_positivi  \\\n",
       "denominazione_regione data                                                 \n",
       "Abruzzo               2020-02-24                       0               0   \n",
       "                      2020-02-25                       0               0   \n",
       "                      2020-02-26                       0               0   \n",
       "                      2020-02-27                       0               1   \n",
       "                      2020-02-28                       0               0   \n",
       "\n",
       "                                  ricoverati_con_sintomi  tamponi  \\\n",
       "denominazione_regione data                                          \n",
       "Abruzzo               2020-02-24                       0        5   \n",
       "                      2020-02-25                       0        5   \n",
       "                      2020-02-26                       0       13   \n",
       "                      2020-02-27                       1       33   \n",
       "                      2020-02-28                       1       33   \n",
       "\n",
       "                                  terapia_intensiva  totale_casi  \\\n",
       "denominazione_regione data                                         \n",
       "Abruzzo               2020-02-24                  0            0   \n",
       "                      2020-02-25                  0            0   \n",
       "                      2020-02-26                  0            0   \n",
       "                      2020-02-27                  0            1   \n",
       "                      2020-02-28                  0            1   \n",
       "\n",
       "                                  totale_ospedalizzati  totale_positivi  \\\n",
       "denominazione_regione data                                                \n",
       "Abruzzo               2020-02-24                     0                0   \n",
       "                      2020-02-25                     0                0   \n",
       "                      2020-02-26                     0                0   \n",
       "                      2020-02-27                     1                1   \n",
       "                      2020-02-28                     1                1   \n",
       "\n",
       "                                  variazione_totale_positivi  \n",
       "denominazione_regione data                                    \n",
       "Abruzzo               2020-02-24                           0  \n",
       "                      2020-02-25                           0  \n",
       "                      2020-02-26                           0  \n",
       "                      2020-02-27                           1  \n",
       "                      2020-02-28                           0  "
      ]
     },
     "execution_count": 295,
     "metadata": {},
     "output_type": "execute_result"
    }
   ],
   "source": [
    "regions_data_frame = refined_region_data.set_index([\"denominazione_regione\", \"data\"]).sort_index()\n",
    "regions_data_frame.head()"
   ]
  },
  {
   "cell_type": "markdown",
   "metadata": {
    "pycharm": {
     "name": "#%% md\n"
    }
   },
   "source": [
    "Below we want to show a quick view on the data gathered, for just a few regions, taken as sample. In order to do so, are taken into account seven regions, the most representative. \n",
    "\n",
    "The plots are organized in different subplots. Each subplot indicates a different area of interest, while highlighting the differences between regions represented as different lines.\n",
    "Particular interest is placed on ephasize the transition from the period pre-lockdown, to post-lockdown. \n",
    "\n",
    "The red shaded area is the period of our interest. In particular, the transparent area starts at the moment of the lockdown. Because we care about knowing the effects of the quarantine after the first 14 days, the red vertical line indicates the moment after the passing of this amount of days. "
   ]
  }
 ],
 "metadata": {
  "kernelspec": {
   "display_name": "Python 3",
   "language": "python",
   "name": "python3"
  },
  "language_info": {
   "codemirror_mode": {
    "name": "ipython",
    "version": 3
   },
   "file_extension": ".py",
   "mimetype": "text/x-python",
   "name": "python",
   "nbconvert_exporter": "python",
   "pygments_lexer": "ipython3",
   "version": "3.7.3"
  }
 },
 "nbformat": 4,
 "nbformat_minor": 4
}